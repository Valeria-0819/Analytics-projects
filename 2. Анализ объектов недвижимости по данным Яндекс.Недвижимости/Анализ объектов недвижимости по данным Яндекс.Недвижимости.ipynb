{
 "cells": [
  {
   "cell_type": "markdown",
   "metadata": {},
   "source": [
    "# Исследование объявлений о продаже квартир"
   ]
  },
  {
   "cell_type": "markdown",
   "metadata": {},
   "source": [
    "## Описание проекта\n",
    "В нашем распоряжении архив объявлений о продаже квартир в Санкт-Петербурге и соседних населённых пунктах за несколько лет. В это проекта учим определять рыночную стоимость объектов недвижимости. \n",
    "\n",
    "По каждой квартире на продажу доступны два вида данных. Первые вписаны пользователем, вторые — получены автоматически на основе картографических данных. Например, расстояние до центра, аэропорта, ближайшего парка и водоёма."
   ]
  },
  {
   "cell_type": "markdown",
   "metadata": {},
   "source": [
    "## Оглавление\n",
    "- [Шаг 1. Первичная работа с файлом.](#step1)\n",
    "- [Шаг 2. Предобработка данных.](#step2)\n",
    "- [Шаг 3. Добавление таблицы.](#step3)\n",
    "- [Шаг 4. Исследовательский анализ данных.](#step4)\n",
    "- [Шаг 5. Изучим время продажи квартиры.](#step5)\n",
    "    - [Какие факторы больше всего влияют на стоимость квартиры.](#step6)\n",
    "    - [10 населённых пунктов с наибольшим числом объявлений.](#step7)\n",
    "    - [Расстояние до центра.](#step8)\n",
    "    - [Выделение сегмента квартир в центре.](#step9)\n",
    "- [Шаг 6. Общий вывод.](#step10)"
   ]
  },
  {
   "cell_type": "markdown",
   "metadata": {},
   "source": [
    "# Описание данных\n",
    "\n",
    "- airports_nearest — расстояние до ближайшего аэропорта в метрах (м)\n",
    "- balcony — число балконов\n",
    "- ceiling_height — высота потолков (м)\n",
    "- cityCenters_nearest — расстояние до центра города (м)\n",
    "- days_exposition — сколько дней было размещено объявление (от публикации до снятия)\n",
    "- first_day_exposition — дата публикации\n",
    "- floor — этаж\n",
    "- floors_total — всего этажей в доме\n",
    "- is_apartment — апартаменты (булев тип)\n",
    "- kitchen_area — площадь кухни в квадратных метрах (м²)\n",
    "- last_price — цена на момент снятия с публикации\n",
    "- living_area — жилая площадь в квадратных метрах(м²)\n",
    "- locality_name — название населённого пункта\n",
    "- open_plan — свободная планировка (булев тип)\n",
    "- parks_around3000 — число парков в радиусе 3 км\n",
    "- parks_nearest — расстояние до ближайшего парка (м)\n",
    "- ponds_around3000 — число водоёмов в радиусе 3 км\n",
    "- ponds_nearest — расстояние до ближайшего водоёма (м)\n",
    "- rooms — число комнат\n",
    "- studio — квартира-студия (булев тип)\n",
    "- total_area — площадь квартиры в квадратных метрах (м²)\n",
    "- total_images — число фотографий квартиры в объявлении\n",
    "\n",
    "\n",
    "Пояснение: апартаменты — это нежилые помещения, не относящиеся к жилому фонду, но имеющие необходимые условия для проживания."
   ]
  },
  {
   "cell_type": "code",
   "execution_count": 1,
   "metadata": {},
   "outputs": [],
   "source": [
    "import pandas as pd\n",
    "import matplotlib.pyplot as plt"
   ]
  },
  {
   "cell_type": "markdown",
   "metadata": {},
   "source": [
    "### Шаг 1. Первичная работа с файлом. <a id=step1></a>"
   ]
  },
  {
   "cell_type": "code",
   "execution_count": 2,
   "metadata": {},
   "outputs": [
    {
     "name": "stdout",
     "output_type": "stream",
     "text": [
      "<class 'pandas.core.frame.DataFrame'>\n",
      "RangeIndex: 23699 entries, 0 to 23698\n",
      "Data columns (total 22 columns):\n",
      "total_images            23699 non-null int64\n",
      "last_price              23699 non-null float64\n",
      "total_area              23699 non-null float64\n",
      "first_day_exposition    23699 non-null object\n",
      "rooms                   23699 non-null int64\n",
      "ceiling_height          14504 non-null float64\n",
      "floors_total            23613 non-null float64\n",
      "living_area             21796 non-null float64\n",
      "floor                   23699 non-null int64\n",
      "is_apartment            2775 non-null object\n",
      "studio                  23699 non-null bool\n",
      "open_plan               23699 non-null bool\n",
      "kitchen_area            21421 non-null float64\n",
      "balcony                 12180 non-null float64\n",
      "locality_name           23650 non-null object\n",
      "airports_nearest        18157 non-null float64\n",
      "cityCenters_nearest     18180 non-null float64\n",
      "parks_around3000        18181 non-null float64\n",
      "parks_nearest           8079 non-null float64\n",
      "ponds_around3000        18181 non-null float64\n",
      "ponds_nearest           9110 non-null float64\n",
      "days_exposition         20518 non-null float64\n",
      "dtypes: bool(2), float64(14), int64(3), object(3)\n",
      "memory usage: 3.7+ MB\n"
     ]
    },
    {
     "data": {
      "text/html": [
       "<div>\n",
       "<style scoped>\n",
       "    .dataframe tbody tr th:only-of-type {\n",
       "        vertical-align: middle;\n",
       "    }\n",
       "\n",
       "    .dataframe tbody tr th {\n",
       "        vertical-align: top;\n",
       "    }\n",
       "\n",
       "    .dataframe thead th {\n",
       "        text-align: right;\n",
       "    }\n",
       "</style>\n",
       "<table border=\"1\" class=\"dataframe\">\n",
       "  <thead>\n",
       "    <tr style=\"text-align: right;\">\n",
       "      <th></th>\n",
       "      <th>total_images</th>\n",
       "      <th>last_price</th>\n",
       "      <th>total_area</th>\n",
       "      <th>first_day_exposition</th>\n",
       "      <th>rooms</th>\n",
       "      <th>ceiling_height</th>\n",
       "      <th>floors_total</th>\n",
       "      <th>living_area</th>\n",
       "      <th>floor</th>\n",
       "      <th>is_apartment</th>\n",
       "      <th>...</th>\n",
       "      <th>kitchen_area</th>\n",
       "      <th>balcony</th>\n",
       "      <th>locality_name</th>\n",
       "      <th>airports_nearest</th>\n",
       "      <th>cityCenters_nearest</th>\n",
       "      <th>parks_around3000</th>\n",
       "      <th>parks_nearest</th>\n",
       "      <th>ponds_around3000</th>\n",
       "      <th>ponds_nearest</th>\n",
       "      <th>days_exposition</th>\n",
       "    </tr>\n",
       "  </thead>\n",
       "  <tbody>\n",
       "    <tr>\n",
       "      <td>0</td>\n",
       "      <td>20</td>\n",
       "      <td>13000000.0</td>\n",
       "      <td>108.00</td>\n",
       "      <td>2019-03-07T00:00:00</td>\n",
       "      <td>3</td>\n",
       "      <td>2.70</td>\n",
       "      <td>16.0</td>\n",
       "      <td>51.00</td>\n",
       "      <td>8</td>\n",
       "      <td>NaN</td>\n",
       "      <td>...</td>\n",
       "      <td>25.00</td>\n",
       "      <td>NaN</td>\n",
       "      <td>Санкт-Петербург</td>\n",
       "      <td>18863.0</td>\n",
       "      <td>16028.0</td>\n",
       "      <td>1.0</td>\n",
       "      <td>482.0</td>\n",
       "      <td>2.0</td>\n",
       "      <td>755.0</td>\n",
       "      <td>NaN</td>\n",
       "    </tr>\n",
       "    <tr>\n",
       "      <td>1</td>\n",
       "      <td>7</td>\n",
       "      <td>3350000.0</td>\n",
       "      <td>40.40</td>\n",
       "      <td>2018-12-04T00:00:00</td>\n",
       "      <td>1</td>\n",
       "      <td>NaN</td>\n",
       "      <td>11.0</td>\n",
       "      <td>18.60</td>\n",
       "      <td>1</td>\n",
       "      <td>NaN</td>\n",
       "      <td>...</td>\n",
       "      <td>11.00</td>\n",
       "      <td>2.0</td>\n",
       "      <td>посёлок Шушары</td>\n",
       "      <td>12817.0</td>\n",
       "      <td>18603.0</td>\n",
       "      <td>0.0</td>\n",
       "      <td>NaN</td>\n",
       "      <td>0.0</td>\n",
       "      <td>NaN</td>\n",
       "      <td>81.0</td>\n",
       "    </tr>\n",
       "    <tr>\n",
       "      <td>2</td>\n",
       "      <td>10</td>\n",
       "      <td>5196000.0</td>\n",
       "      <td>56.00</td>\n",
       "      <td>2015-08-20T00:00:00</td>\n",
       "      <td>2</td>\n",
       "      <td>NaN</td>\n",
       "      <td>5.0</td>\n",
       "      <td>34.30</td>\n",
       "      <td>4</td>\n",
       "      <td>NaN</td>\n",
       "      <td>...</td>\n",
       "      <td>8.30</td>\n",
       "      <td>0.0</td>\n",
       "      <td>Санкт-Петербург</td>\n",
       "      <td>21741.0</td>\n",
       "      <td>13933.0</td>\n",
       "      <td>1.0</td>\n",
       "      <td>90.0</td>\n",
       "      <td>2.0</td>\n",
       "      <td>574.0</td>\n",
       "      <td>558.0</td>\n",
       "    </tr>\n",
       "    <tr>\n",
       "      <td>3</td>\n",
       "      <td>0</td>\n",
       "      <td>64900000.0</td>\n",
       "      <td>159.00</td>\n",
       "      <td>2015-07-24T00:00:00</td>\n",
       "      <td>3</td>\n",
       "      <td>NaN</td>\n",
       "      <td>14.0</td>\n",
       "      <td>NaN</td>\n",
       "      <td>9</td>\n",
       "      <td>NaN</td>\n",
       "      <td>...</td>\n",
       "      <td>NaN</td>\n",
       "      <td>0.0</td>\n",
       "      <td>Санкт-Петербург</td>\n",
       "      <td>28098.0</td>\n",
       "      <td>6800.0</td>\n",
       "      <td>2.0</td>\n",
       "      <td>84.0</td>\n",
       "      <td>3.0</td>\n",
       "      <td>234.0</td>\n",
       "      <td>424.0</td>\n",
       "    </tr>\n",
       "    <tr>\n",
       "      <td>4</td>\n",
       "      <td>2</td>\n",
       "      <td>10000000.0</td>\n",
       "      <td>100.00</td>\n",
       "      <td>2018-06-19T00:00:00</td>\n",
       "      <td>2</td>\n",
       "      <td>3.03</td>\n",
       "      <td>14.0</td>\n",
       "      <td>32.00</td>\n",
       "      <td>13</td>\n",
       "      <td>NaN</td>\n",
       "      <td>...</td>\n",
       "      <td>41.00</td>\n",
       "      <td>NaN</td>\n",
       "      <td>Санкт-Петербург</td>\n",
       "      <td>31856.0</td>\n",
       "      <td>8098.0</td>\n",
       "      <td>2.0</td>\n",
       "      <td>112.0</td>\n",
       "      <td>1.0</td>\n",
       "      <td>48.0</td>\n",
       "      <td>121.0</td>\n",
       "    </tr>\n",
       "    <tr>\n",
       "      <td>5</td>\n",
       "      <td>10</td>\n",
       "      <td>2890000.0</td>\n",
       "      <td>30.40</td>\n",
       "      <td>2018-09-10T00:00:00</td>\n",
       "      <td>1</td>\n",
       "      <td>NaN</td>\n",
       "      <td>12.0</td>\n",
       "      <td>14.40</td>\n",
       "      <td>5</td>\n",
       "      <td>NaN</td>\n",
       "      <td>...</td>\n",
       "      <td>9.10</td>\n",
       "      <td>NaN</td>\n",
       "      <td>городской посёлок Янино-1</td>\n",
       "      <td>NaN</td>\n",
       "      <td>NaN</td>\n",
       "      <td>NaN</td>\n",
       "      <td>NaN</td>\n",
       "      <td>NaN</td>\n",
       "      <td>NaN</td>\n",
       "      <td>55.0</td>\n",
       "    </tr>\n",
       "    <tr>\n",
       "      <td>6</td>\n",
       "      <td>6</td>\n",
       "      <td>3700000.0</td>\n",
       "      <td>37.30</td>\n",
       "      <td>2017-11-02T00:00:00</td>\n",
       "      <td>1</td>\n",
       "      <td>NaN</td>\n",
       "      <td>26.0</td>\n",
       "      <td>10.60</td>\n",
       "      <td>6</td>\n",
       "      <td>NaN</td>\n",
       "      <td>...</td>\n",
       "      <td>14.40</td>\n",
       "      <td>1.0</td>\n",
       "      <td>посёлок Парголово</td>\n",
       "      <td>52996.0</td>\n",
       "      <td>19143.0</td>\n",
       "      <td>0.0</td>\n",
       "      <td>NaN</td>\n",
       "      <td>0.0</td>\n",
       "      <td>NaN</td>\n",
       "      <td>155.0</td>\n",
       "    </tr>\n",
       "    <tr>\n",
       "      <td>7</td>\n",
       "      <td>5</td>\n",
       "      <td>7915000.0</td>\n",
       "      <td>71.60</td>\n",
       "      <td>2019-04-18T00:00:00</td>\n",
       "      <td>2</td>\n",
       "      <td>NaN</td>\n",
       "      <td>24.0</td>\n",
       "      <td>NaN</td>\n",
       "      <td>22</td>\n",
       "      <td>NaN</td>\n",
       "      <td>...</td>\n",
       "      <td>18.90</td>\n",
       "      <td>2.0</td>\n",
       "      <td>Санкт-Петербург</td>\n",
       "      <td>23982.0</td>\n",
       "      <td>11634.0</td>\n",
       "      <td>0.0</td>\n",
       "      <td>NaN</td>\n",
       "      <td>0.0</td>\n",
       "      <td>NaN</td>\n",
       "      <td>NaN</td>\n",
       "    </tr>\n",
       "    <tr>\n",
       "      <td>8</td>\n",
       "      <td>20</td>\n",
       "      <td>2900000.0</td>\n",
       "      <td>33.16</td>\n",
       "      <td>2018-05-23T00:00:00</td>\n",
       "      <td>1</td>\n",
       "      <td>NaN</td>\n",
       "      <td>27.0</td>\n",
       "      <td>15.43</td>\n",
       "      <td>26</td>\n",
       "      <td>NaN</td>\n",
       "      <td>...</td>\n",
       "      <td>8.81</td>\n",
       "      <td>NaN</td>\n",
       "      <td>посёлок Мурино</td>\n",
       "      <td>NaN</td>\n",
       "      <td>NaN</td>\n",
       "      <td>NaN</td>\n",
       "      <td>NaN</td>\n",
       "      <td>NaN</td>\n",
       "      <td>NaN</td>\n",
       "      <td>189.0</td>\n",
       "    </tr>\n",
       "    <tr>\n",
       "      <td>9</td>\n",
       "      <td>18</td>\n",
       "      <td>5400000.0</td>\n",
       "      <td>61.00</td>\n",
       "      <td>2017-02-26T00:00:00</td>\n",
       "      <td>3</td>\n",
       "      <td>2.50</td>\n",
       "      <td>9.0</td>\n",
       "      <td>43.60</td>\n",
       "      <td>7</td>\n",
       "      <td>NaN</td>\n",
       "      <td>...</td>\n",
       "      <td>6.50</td>\n",
       "      <td>2.0</td>\n",
       "      <td>Санкт-Петербург</td>\n",
       "      <td>50898.0</td>\n",
       "      <td>15008.0</td>\n",
       "      <td>0.0</td>\n",
       "      <td>NaN</td>\n",
       "      <td>0.0</td>\n",
       "      <td>NaN</td>\n",
       "      <td>289.0</td>\n",
       "    </tr>\n",
       "    <tr>\n",
       "      <td>10</td>\n",
       "      <td>5</td>\n",
       "      <td>5050000.0</td>\n",
       "      <td>39.60</td>\n",
       "      <td>2017-11-16T00:00:00</td>\n",
       "      <td>1</td>\n",
       "      <td>2.67</td>\n",
       "      <td>12.0</td>\n",
       "      <td>20.30</td>\n",
       "      <td>3</td>\n",
       "      <td>NaN</td>\n",
       "      <td>...</td>\n",
       "      <td>8.50</td>\n",
       "      <td>NaN</td>\n",
       "      <td>Санкт-Петербург</td>\n",
       "      <td>38357.0</td>\n",
       "      <td>13878.0</td>\n",
       "      <td>1.0</td>\n",
       "      <td>310.0</td>\n",
       "      <td>2.0</td>\n",
       "      <td>553.0</td>\n",
       "      <td>137.0</td>\n",
       "    </tr>\n",
       "    <tr>\n",
       "      <td>11</td>\n",
       "      <td>9</td>\n",
       "      <td>3300000.0</td>\n",
       "      <td>44.00</td>\n",
       "      <td>2018-08-27T00:00:00</td>\n",
       "      <td>2</td>\n",
       "      <td>NaN</td>\n",
       "      <td>5.0</td>\n",
       "      <td>31.00</td>\n",
       "      <td>4</td>\n",
       "      <td>False</td>\n",
       "      <td>...</td>\n",
       "      <td>6.00</td>\n",
       "      <td>1.0</td>\n",
       "      <td>Ломоносов</td>\n",
       "      <td>48252.0</td>\n",
       "      <td>51677.0</td>\n",
       "      <td>0.0</td>\n",
       "      <td>NaN</td>\n",
       "      <td>0.0</td>\n",
       "      <td>NaN</td>\n",
       "      <td>7.0</td>\n",
       "    </tr>\n",
       "    <tr>\n",
       "      <td>12</td>\n",
       "      <td>10</td>\n",
       "      <td>3890000.0</td>\n",
       "      <td>54.00</td>\n",
       "      <td>2016-06-30T00:00:00</td>\n",
       "      <td>2</td>\n",
       "      <td>NaN</td>\n",
       "      <td>5.0</td>\n",
       "      <td>30.00</td>\n",
       "      <td>5</td>\n",
       "      <td>NaN</td>\n",
       "      <td>...</td>\n",
       "      <td>9.00</td>\n",
       "      <td>0.0</td>\n",
       "      <td>Сертолово</td>\n",
       "      <td>NaN</td>\n",
       "      <td>NaN</td>\n",
       "      <td>NaN</td>\n",
       "      <td>NaN</td>\n",
       "      <td>NaN</td>\n",
       "      <td>NaN</td>\n",
       "      <td>90.0</td>\n",
       "    </tr>\n",
       "    <tr>\n",
       "      <td>13</td>\n",
       "      <td>20</td>\n",
       "      <td>3550000.0</td>\n",
       "      <td>42.80</td>\n",
       "      <td>2017-07-01T00:00:00</td>\n",
       "      <td>2</td>\n",
       "      <td>2.56</td>\n",
       "      <td>5.0</td>\n",
       "      <td>27.00</td>\n",
       "      <td>5</td>\n",
       "      <td>NaN</td>\n",
       "      <td>...</td>\n",
       "      <td>5.20</td>\n",
       "      <td>1.0</td>\n",
       "      <td>Петергоф</td>\n",
       "      <td>37868.0</td>\n",
       "      <td>33058.0</td>\n",
       "      <td>1.0</td>\n",
       "      <td>294.0</td>\n",
       "      <td>3.0</td>\n",
       "      <td>298.0</td>\n",
       "      <td>366.0</td>\n",
       "    </tr>\n",
       "    <tr>\n",
       "      <td>14</td>\n",
       "      <td>1</td>\n",
       "      <td>4400000.0</td>\n",
       "      <td>36.00</td>\n",
       "      <td>2016-06-23T00:00:00</td>\n",
       "      <td>1</td>\n",
       "      <td>NaN</td>\n",
       "      <td>6.0</td>\n",
       "      <td>17.00</td>\n",
       "      <td>1</td>\n",
       "      <td>NaN</td>\n",
       "      <td>...</td>\n",
       "      <td>8.00</td>\n",
       "      <td>0.0</td>\n",
       "      <td>Пушкин</td>\n",
       "      <td>20782.0</td>\n",
       "      <td>30759.0</td>\n",
       "      <td>0.0</td>\n",
       "      <td>NaN</td>\n",
       "      <td>1.0</td>\n",
       "      <td>96.0</td>\n",
       "      <td>203.0</td>\n",
       "    </tr>\n",
       "  </tbody>\n",
       "</table>\n",
       "<p>15 rows × 22 columns</p>\n",
       "</div>"
      ],
      "text/plain": [
       "    total_images  last_price  total_area first_day_exposition  rooms  \\\n",
       "0             20  13000000.0      108.00  2019-03-07T00:00:00      3   \n",
       "1              7   3350000.0       40.40  2018-12-04T00:00:00      1   \n",
       "2             10   5196000.0       56.00  2015-08-20T00:00:00      2   \n",
       "3              0  64900000.0      159.00  2015-07-24T00:00:00      3   \n",
       "4              2  10000000.0      100.00  2018-06-19T00:00:00      2   \n",
       "5             10   2890000.0       30.40  2018-09-10T00:00:00      1   \n",
       "6              6   3700000.0       37.30  2017-11-02T00:00:00      1   \n",
       "7              5   7915000.0       71.60  2019-04-18T00:00:00      2   \n",
       "8             20   2900000.0       33.16  2018-05-23T00:00:00      1   \n",
       "9             18   5400000.0       61.00  2017-02-26T00:00:00      3   \n",
       "10             5   5050000.0       39.60  2017-11-16T00:00:00      1   \n",
       "11             9   3300000.0       44.00  2018-08-27T00:00:00      2   \n",
       "12            10   3890000.0       54.00  2016-06-30T00:00:00      2   \n",
       "13            20   3550000.0       42.80  2017-07-01T00:00:00      2   \n",
       "14             1   4400000.0       36.00  2016-06-23T00:00:00      1   \n",
       "\n",
       "    ceiling_height  floors_total  living_area  floor is_apartment  ...  \\\n",
       "0             2.70          16.0        51.00      8          NaN  ...   \n",
       "1              NaN          11.0        18.60      1          NaN  ...   \n",
       "2              NaN           5.0        34.30      4          NaN  ...   \n",
       "3              NaN          14.0          NaN      9          NaN  ...   \n",
       "4             3.03          14.0        32.00     13          NaN  ...   \n",
       "5              NaN          12.0        14.40      5          NaN  ...   \n",
       "6              NaN          26.0        10.60      6          NaN  ...   \n",
       "7              NaN          24.0          NaN     22          NaN  ...   \n",
       "8              NaN          27.0        15.43     26          NaN  ...   \n",
       "9             2.50           9.0        43.60      7          NaN  ...   \n",
       "10            2.67          12.0        20.30      3          NaN  ...   \n",
       "11             NaN           5.0        31.00      4        False  ...   \n",
       "12             NaN           5.0        30.00      5          NaN  ...   \n",
       "13            2.56           5.0        27.00      5          NaN  ...   \n",
       "14             NaN           6.0        17.00      1          NaN  ...   \n",
       "\n",
       "    kitchen_area  balcony              locality_name  airports_nearest  \\\n",
       "0          25.00      NaN            Санкт-Петербург           18863.0   \n",
       "1          11.00      2.0             посёлок Шушары           12817.0   \n",
       "2           8.30      0.0            Санкт-Петербург           21741.0   \n",
       "3            NaN      0.0            Санкт-Петербург           28098.0   \n",
       "4          41.00      NaN            Санкт-Петербург           31856.0   \n",
       "5           9.10      NaN  городской посёлок Янино-1               NaN   \n",
       "6          14.40      1.0          посёлок Парголово           52996.0   \n",
       "7          18.90      2.0            Санкт-Петербург           23982.0   \n",
       "8           8.81      NaN             посёлок Мурино               NaN   \n",
       "9           6.50      2.0            Санкт-Петербург           50898.0   \n",
       "10          8.50      NaN            Санкт-Петербург           38357.0   \n",
       "11          6.00      1.0                  Ломоносов           48252.0   \n",
       "12          9.00      0.0                  Сертолово               NaN   \n",
       "13          5.20      1.0                   Петергоф           37868.0   \n",
       "14          8.00      0.0                     Пушкин           20782.0   \n",
       "\n",
       "   cityCenters_nearest  parks_around3000  parks_nearest  ponds_around3000  \\\n",
       "0              16028.0               1.0          482.0               2.0   \n",
       "1              18603.0               0.0            NaN               0.0   \n",
       "2              13933.0               1.0           90.0               2.0   \n",
       "3               6800.0               2.0           84.0               3.0   \n",
       "4               8098.0               2.0          112.0               1.0   \n",
       "5                  NaN               NaN            NaN               NaN   \n",
       "6              19143.0               0.0            NaN               0.0   \n",
       "7              11634.0               0.0            NaN               0.0   \n",
       "8                  NaN               NaN            NaN               NaN   \n",
       "9              15008.0               0.0            NaN               0.0   \n",
       "10             13878.0               1.0          310.0               2.0   \n",
       "11             51677.0               0.0            NaN               0.0   \n",
       "12                 NaN               NaN            NaN               NaN   \n",
       "13             33058.0               1.0          294.0               3.0   \n",
       "14             30759.0               0.0            NaN               1.0   \n",
       "\n",
       "    ponds_nearest  days_exposition  \n",
       "0           755.0              NaN  \n",
       "1             NaN             81.0  \n",
       "2           574.0            558.0  \n",
       "3           234.0            424.0  \n",
       "4            48.0            121.0  \n",
       "5             NaN             55.0  \n",
       "6             NaN            155.0  \n",
       "7             NaN              NaN  \n",
       "8             NaN            189.0  \n",
       "9             NaN            289.0  \n",
       "10          553.0            137.0  \n",
       "11            NaN              7.0  \n",
       "12            NaN             90.0  \n",
       "13          298.0            366.0  \n",
       "14           96.0            203.0  \n",
       "\n",
       "[15 rows x 22 columns]"
      ]
     },
     "execution_count": 2,
     "metadata": {},
     "output_type": "execute_result"
    }
   ],
   "source": [
    "advert = pd.read_csv('/datasets/real_estate_data.csv', sep='\\t')\n",
    "advert.info()\n",
    "advert.head(15)"
   ]
  },
  {
   "cell_type": "markdown",
   "metadata": {},
   "source": [
    "### Вывод"
   ]
  },
  {
   "cell_type": "markdown",
   "metadata": {},
   "source": [
    "Много пропущенных значений в 14 столбцах. \n",
    "\n",
    "- Пустые значения в столбце высота потолков могут означать, что хозяева квартиры не посчитали нужным заполнять это поле либо же он просто не знаю точную высоту. \n",
    "- NaN в этажности дома, также как в жилой площади и площади кухни могли появиться из-за нежелания хозяина квартиры заполнять эти данные.\n",
    "- Самое большое количество пустых значений в столбце апартаменты (булев тип) (всего 11,7% процент заполняемости). В самом сервисе Яндекс.Недвижимость нигде не нашл отдельного поля продаются апартаменты или нет. Этот пункт максимально незаметен на сайте или его нет совсем, поэтому пользователи либо пропускают его, либо значения этого столбца могли быть взяты из описания путем лемматизации. Так как тип квартиры нигде не будет фигурировать в исследовании и продавцы только в некоторых случаях добавляют, что у них апартаменты (или наоборот), то мы заполним пропуски значением False, ведь в большинстве случаев продаются НЕ апартаменты.\n",
    "- Также имеем пропуски в населенных пунктах, которые могли появиться из-за ошибок при выгрузке, так как их всего 49 штук (не так уж и много).\n",
    "- В остальных столбцах, которые были заполнены автоматически на основе картографических данных, пропуски могли появиться изза того, что не было достаточной информации обо всех объектах."
   ]
  },
  {
   "cell_type": "markdown",
   "metadata": {},
   "source": [
    "1. Интересный момент, что есть квартиры с 0 (предположительно студии) и 19 комнатами (преположительно коммунальные квартиры, которые продаются целиком).\n",
    "2. Высота потолков в каких-то квартирах 1м, а максимальная 100м, хотя последнее может быть каким-нибудь складским помещением, однако все равно очень большая высота, да и мы говорим в иссследовании именно об объявлениях продажи квартир.\n",
    "3. В названиях поселков есть повторяющиеся, но где-то написано \"поселок\", где-то \"посёлок\" либо просто название. "
   ]
  },
  {
   "cell_type": "markdown",
   "metadata": {},
   "source": [
    "### Шаг 2. Предобработка данных. <a id=step2></a>"
   ]
  },
  {
   "cell_type": "code",
   "execution_count": 3,
   "metadata": {},
   "outputs": [],
   "source": [
    "# Уберем лишние пробелы в столбце с названием населенного пункта\n",
    "\n",
    "advert['locality_name'] = advert['locality_name'].str.strip()"
   ]
  },
  {
   "cell_type": "markdown",
   "metadata": {},
   "source": [
    "Заполним пропуски в столбце общей площади. Для этого создадим таблицу медианных значений общей площади по каждому типу квартир в зависимости от количества комнат и далее подставим эти значения в общую таблицу."
   ]
  },
  {
   "cell_type": "code",
   "execution_count": 4,
   "metadata": {},
   "outputs": [
    {
     "data": {
      "text/plain": [
       "0"
      ]
     },
     "execution_count": 4,
     "metadata": {},
     "output_type": "execute_result"
    }
   ],
   "source": [
    "median_table_total_area = advert.groupby('rooms').agg({'total_area':'median'})\n",
    "\n",
    "for room in median_table_total_area.index:\n",
    "    advert.loc[advert['rooms'] == room, 'total_area'] = advert.loc[\n",
    "        advert['rooms'] == room, 'total_area'].fillna(median_table_total_area.loc[room, 'total_area'])\n",
    "\n",
    "len(advert[advert['total_area'].isnull()])"
   ]
  },
  {
   "cell_type": "markdown",
   "metadata": {},
   "source": [
    "В столбце с количеством балконов есть пропущенные значения, которые можно заменить на 0, так как скорее всего люди просто не отмечали ничего в этом разделе, если у них нет балкона, отсюда и столько пропусков."
   ]
  },
  {
   "cell_type": "code",
   "execution_count": 5,
   "metadata": {},
   "outputs": [
    {
     "data": {
      "text/plain": [
       "0"
      ]
     },
     "execution_count": 5,
     "metadata": {},
     "output_type": "execute_result"
    }
   ],
   "source": [
    "advert['balcony'] = advert['balcony'].fillna(0)\n",
    "len(advert[advert['balcony'].isnull()])"
   ]
  },
  {
   "cell_type": "markdown",
   "metadata": {},
   "source": [
    "У нас 49 строк без названия населенного пункта, составляет 0,2%. На данный момент непонятно, откуда можно было бы подтянуть эти данные или предположить на каком-то основании, что это то или иное место, попробуем удалить эти строи методом dropna() и посмотрим, что из этого выйдет."
   ]
  },
  {
   "cell_type": "code",
   "execution_count": 6,
   "metadata": {},
   "outputs": [
    {
     "data": {
      "text/plain": [
       "0"
      ]
     },
     "execution_count": 6,
     "metadata": {},
     "output_type": "execute_result"
    }
   ],
   "source": [
    "advert.dropna(subset=['locality_name'], inplace=True)\n",
    "len(advert[advert['locality_name'].isnull()])"
   ]
  },
  {
   "cell_type": "markdown",
   "metadata": {},
   "source": [
    "Заменяем пропуски в столбце is_apartment значением False, так как ранее я уже описывала, что отедльного поля ввода для параметра \"Апартаменты\" в поиске нет, скорее значения столбца были взяты из описания, поэтому логично предположить, что если в описании не написано, что это апартаменты, то это будет обычная квартира со всеми стандартными правами на нее."
   ]
  },
  {
   "cell_type": "code",
   "execution_count": 7,
   "metadata": {},
   "outputs": [
    {
     "data": {
      "text/plain": [
       "0"
      ]
     },
     "execution_count": 7,
     "metadata": {},
     "output_type": "execute_result"
    }
   ],
   "source": [
    "advert['is_apartment'] = advert['is_apartment'].fillna(False)\n",
    "len(advert[advert['is_apartment'].isnull()])"
   ]
  },
  {
   "cell_type": "markdown",
   "metadata": {},
   "source": [
    "Заполним пропуски в столбце всего этажей в доме.\n",
    "\n",
    "Чтоыб не было ситуации, когда этаж квартиры больше, чем этажность дома, применяем два условия для замены пропусков - когда медиана меньше или равна этажу квартиры, то ставим вместо пропуска в 'floors_total' этаж квартиры, а если медиана больше этажа квартиры, то вместо пропуска медиана."
   ]
  },
  {
   "cell_type": "code",
   "execution_count": 8,
   "metadata": {},
   "outputs": [
    {
     "data": {
      "text/plain": [
       "0"
      ]
     },
     "execution_count": 8,
     "metadata": {},
     "output_type": "execute_result"
    }
   ],
   "source": [
    "median_table = advert.groupby('locality_name').agg({'floors_total':'median'})\n",
    "for local_name in median_table.index:\n",
    "    advert.loc[(advert['locality_name'] == local_name) & (\n",
    "        advert['floor'] <= median_table.loc[local_name, 'floors_total']), 'floors_total'] = advert.loc[(\n",
    "        advert['locality_name'] == local_name) & (\n",
    "        advert['floor'] <= median_table.loc[local_name, 'floors_total']), 'floors_total'].fillna(\n",
    "        median_table.loc[local_name, 'floors_total'])\n",
    "    \n",
    "    advert.loc[(advert['locality_name'] == local_name) & (\n",
    "        advert['floor'] > median_table.loc[local_name, 'floors_total']), 'floors_total'] = advert.loc[(\n",
    "        advert['locality_name'] == local_name) & (\n",
    "        advert['floor'] > median_table.loc[local_name, 'floors_total']), 'floors_total'].fillna(\n",
    "    advert['floor'])\n",
    "\n",
    "len(advert[advert['floors_total'].isnull()])\n"
   ]
  },
  {
   "cell_type": "code",
   "execution_count": 10,
   "metadata": {},
   "outputs": [
    {
     "data": {
      "text/html": [
       "<div>\n",
       "<style scoped>\n",
       "    .dataframe tbody tr th:only-of-type {\n",
       "        vertical-align: middle;\n",
       "    }\n",
       "\n",
       "    .dataframe tbody tr th {\n",
       "        vertical-align: top;\n",
       "    }\n",
       "\n",
       "    .dataframe thead th {\n",
       "        text-align: right;\n",
       "    }\n",
       "</style>\n",
       "<table border=\"1\" class=\"dataframe\">\n",
       "  <thead>\n",
       "    <tr style=\"text-align: right;\">\n",
       "      <th></th>\n",
       "      <th>total_images</th>\n",
       "      <th>last_price</th>\n",
       "      <th>total_area</th>\n",
       "      <th>first_day_exposition</th>\n",
       "      <th>rooms</th>\n",
       "      <th>ceiling_height</th>\n",
       "      <th>floors_total</th>\n",
       "      <th>living_area</th>\n",
       "      <th>floor</th>\n",
       "      <th>is_apartment</th>\n",
       "      <th>...</th>\n",
       "      <th>kitchen_area</th>\n",
       "      <th>balcony</th>\n",
       "      <th>locality_name</th>\n",
       "      <th>airports_nearest</th>\n",
       "      <th>cityCenters_nearest</th>\n",
       "      <th>parks_around3000</th>\n",
       "      <th>parks_nearest</th>\n",
       "      <th>ponds_around3000</th>\n",
       "      <th>ponds_nearest</th>\n",
       "      <th>days_exposition</th>\n",
       "    </tr>\n",
       "  </thead>\n",
       "  <tbody>\n",
       "    <tr>\n",
       "      <td>0</td>\n",
       "      <td>20</td>\n",
       "      <td>13000000.0</td>\n",
       "      <td>108.0</td>\n",
       "      <td>2019-03-07T00:00:00</td>\n",
       "      <td>3</td>\n",
       "      <td>2.70</td>\n",
       "      <td>16.0</td>\n",
       "      <td>51.00</td>\n",
       "      <td>8</td>\n",
       "      <td>False</td>\n",
       "      <td>...</td>\n",
       "      <td>25.0</td>\n",
       "      <td>0.0</td>\n",
       "      <td>Санкт-Петербург</td>\n",
       "      <td>18863.0</td>\n",
       "      <td>16028.0</td>\n",
       "      <td>1.0</td>\n",
       "      <td>482.0</td>\n",
       "      <td>2.0</td>\n",
       "      <td>755.0</td>\n",
       "      <td>NaN</td>\n",
       "    </tr>\n",
       "    <tr>\n",
       "      <td>7</td>\n",
       "      <td>5</td>\n",
       "      <td>7915000.0</td>\n",
       "      <td>71.6</td>\n",
       "      <td>2019-04-18T00:00:00</td>\n",
       "      <td>2</td>\n",
       "      <td>NaN</td>\n",
       "      <td>24.0</td>\n",
       "      <td>NaN</td>\n",
       "      <td>22</td>\n",
       "      <td>False</td>\n",
       "      <td>...</td>\n",
       "      <td>18.9</td>\n",
       "      <td>2.0</td>\n",
       "      <td>Санкт-Петербург</td>\n",
       "      <td>23982.0</td>\n",
       "      <td>11634.0</td>\n",
       "      <td>0.0</td>\n",
       "      <td>NaN</td>\n",
       "      <td>0.0</td>\n",
       "      <td>NaN</td>\n",
       "      <td>NaN</td>\n",
       "    </tr>\n",
       "    <tr>\n",
       "      <td>44</td>\n",
       "      <td>13</td>\n",
       "      <td>5350000.0</td>\n",
       "      <td>40.0</td>\n",
       "      <td>2018-11-18T00:00:00</td>\n",
       "      <td>1</td>\n",
       "      <td>NaN</td>\n",
       "      <td>22.0</td>\n",
       "      <td>NaN</td>\n",
       "      <td>3</td>\n",
       "      <td>False</td>\n",
       "      <td>...</td>\n",
       "      <td>NaN</td>\n",
       "      <td>1.0</td>\n",
       "      <td>Санкт-Петербург</td>\n",
       "      <td>30471.0</td>\n",
       "      <td>11603.0</td>\n",
       "      <td>1.0</td>\n",
       "      <td>620.0</td>\n",
       "      <td>1.0</td>\n",
       "      <td>1152.0</td>\n",
       "      <td>NaN</td>\n",
       "    </tr>\n",
       "    <tr>\n",
       "      <td>45</td>\n",
       "      <td>17</td>\n",
       "      <td>5200000.0</td>\n",
       "      <td>50.6</td>\n",
       "      <td>2018-12-02T00:00:00</td>\n",
       "      <td>2</td>\n",
       "      <td>2.65</td>\n",
       "      <td>9.0</td>\n",
       "      <td>30.30</td>\n",
       "      <td>7</td>\n",
       "      <td>False</td>\n",
       "      <td>...</td>\n",
       "      <td>7.0</td>\n",
       "      <td>0.0</td>\n",
       "      <td>Санкт-Петербург</td>\n",
       "      <td>30011.0</td>\n",
       "      <td>12872.0</td>\n",
       "      <td>0.0</td>\n",
       "      <td>NaN</td>\n",
       "      <td>0.0</td>\n",
       "      <td>NaN</td>\n",
       "      <td>NaN</td>\n",
       "    </tr>\n",
       "    <tr>\n",
       "      <td>46</td>\n",
       "      <td>17</td>\n",
       "      <td>6600000.0</td>\n",
       "      <td>52.1</td>\n",
       "      <td>2019-01-31T00:00:00</td>\n",
       "      <td>2</td>\n",
       "      <td>2.60</td>\n",
       "      <td>24.0</td>\n",
       "      <td>29.70</td>\n",
       "      <td>9</td>\n",
       "      <td>False</td>\n",
       "      <td>...</td>\n",
       "      <td>8.3</td>\n",
       "      <td>2.0</td>\n",
       "      <td>Санкт-Петербург</td>\n",
       "      <td>15114.0</td>\n",
       "      <td>12702.0</td>\n",
       "      <td>0.0</td>\n",
       "      <td>NaN</td>\n",
       "      <td>0.0</td>\n",
       "      <td>NaN</td>\n",
       "      <td>NaN</td>\n",
       "    </tr>\n",
       "    <tr>\n",
       "      <td>49</td>\n",
       "      <td>1</td>\n",
       "      <td>3050000.0</td>\n",
       "      <td>30.8</td>\n",
       "      <td>2018-11-22T00:00:00</td>\n",
       "      <td>1</td>\n",
       "      <td>2.50</td>\n",
       "      <td>9.0</td>\n",
       "      <td>18.00</td>\n",
       "      <td>7</td>\n",
       "      <td>False</td>\n",
       "      <td>...</td>\n",
       "      <td>6.0</td>\n",
       "      <td>0.0</td>\n",
       "      <td>Санкт-Петербург</td>\n",
       "      <td>45341.0</td>\n",
       "      <td>16603.0</td>\n",
       "      <td>1.0</td>\n",
       "      <td>675.0</td>\n",
       "      <td>0.0</td>\n",
       "      <td>NaN</td>\n",
       "      <td>NaN</td>\n",
       "    </tr>\n",
       "    <tr>\n",
       "      <td>52</td>\n",
       "      <td>20</td>\n",
       "      <td>11795000.0</td>\n",
       "      <td>136.0</td>\n",
       "      <td>2017-09-22T00:00:00</td>\n",
       "      <td>6</td>\n",
       "      <td>3.00</td>\n",
       "      <td>2.0</td>\n",
       "      <td>94.00</td>\n",
       "      <td>2</td>\n",
       "      <td>False</td>\n",
       "      <td>...</td>\n",
       "      <td>11.0</td>\n",
       "      <td>1.0</td>\n",
       "      <td>Санкт-Петербург</td>\n",
       "      <td>16510.0</td>\n",
       "      <td>6582.0</td>\n",
       "      <td>1.0</td>\n",
       "      <td>526.0</td>\n",
       "      <td>0.0</td>\n",
       "      <td>NaN</td>\n",
       "      <td>NaN</td>\n",
       "    </tr>\n",
       "    <tr>\n",
       "      <td>71</td>\n",
       "      <td>20</td>\n",
       "      <td>4850000.0</td>\n",
       "      <td>57.5</td>\n",
       "      <td>2019-03-27T00:00:00</td>\n",
       "      <td>3</td>\n",
       "      <td>2.50</td>\n",
       "      <td>9.0</td>\n",
       "      <td>39.00</td>\n",
       "      <td>8</td>\n",
       "      <td>False</td>\n",
       "      <td>...</td>\n",
       "      <td>6.2</td>\n",
       "      <td>0.0</td>\n",
       "      <td>Санкт-Петербург</td>\n",
       "      <td>33623.0</td>\n",
       "      <td>12267.0</td>\n",
       "      <td>1.0</td>\n",
       "      <td>334.0</td>\n",
       "      <td>1.0</td>\n",
       "      <td>333.0</td>\n",
       "      <td>NaN</td>\n",
       "    </tr>\n",
       "    <tr>\n",
       "      <td>81</td>\n",
       "      <td>9</td>\n",
       "      <td>10949000.0</td>\n",
       "      <td>68.0</td>\n",
       "      <td>2018-12-27T00:00:00</td>\n",
       "      <td>1</td>\n",
       "      <td>NaN</td>\n",
       "      <td>10.0</td>\n",
       "      <td>NaN</td>\n",
       "      <td>6</td>\n",
       "      <td>False</td>\n",
       "      <td>...</td>\n",
       "      <td>NaN</td>\n",
       "      <td>0.0</td>\n",
       "      <td>Санкт-Петербург</td>\n",
       "      <td>NaN</td>\n",
       "      <td>NaN</td>\n",
       "      <td>NaN</td>\n",
       "      <td>NaN</td>\n",
       "      <td>NaN</td>\n",
       "      <td>NaN</td>\n",
       "      <td>NaN</td>\n",
       "    </tr>\n",
       "    <tr>\n",
       "      <td>84</td>\n",
       "      <td>11</td>\n",
       "      <td>2400000.0</td>\n",
       "      <td>43.9</td>\n",
       "      <td>2019-03-13T00:00:00</td>\n",
       "      <td>2</td>\n",
       "      <td>NaN</td>\n",
       "      <td>2.0</td>\n",
       "      <td>27.46</td>\n",
       "      <td>1</td>\n",
       "      <td>False</td>\n",
       "      <td>...</td>\n",
       "      <td>5.2</td>\n",
       "      <td>0.0</td>\n",
       "      <td>Кировск</td>\n",
       "      <td>NaN</td>\n",
       "      <td>NaN</td>\n",
       "      <td>NaN</td>\n",
       "      <td>NaN</td>\n",
       "      <td>NaN</td>\n",
       "      <td>NaN</td>\n",
       "      <td>NaN</td>\n",
       "    </tr>\n",
       "  </tbody>\n",
       "</table>\n",
       "<p>10 rows × 22 columns</p>\n",
       "</div>"
      ],
      "text/plain": [
       "    total_images  last_price  total_area first_day_exposition  rooms  \\\n",
       "0             20  13000000.0       108.0  2019-03-07T00:00:00      3   \n",
       "7              5   7915000.0        71.6  2019-04-18T00:00:00      2   \n",
       "44            13   5350000.0        40.0  2018-11-18T00:00:00      1   \n",
       "45            17   5200000.0        50.6  2018-12-02T00:00:00      2   \n",
       "46            17   6600000.0        52.1  2019-01-31T00:00:00      2   \n",
       "49             1   3050000.0        30.8  2018-11-22T00:00:00      1   \n",
       "52            20  11795000.0       136.0  2017-09-22T00:00:00      6   \n",
       "71            20   4850000.0        57.5  2019-03-27T00:00:00      3   \n",
       "81             9  10949000.0        68.0  2018-12-27T00:00:00      1   \n",
       "84            11   2400000.0        43.9  2019-03-13T00:00:00      2   \n",
       "\n",
       "    ceiling_height  floors_total  living_area  floor  is_apartment  ...  \\\n",
       "0             2.70          16.0        51.00      8         False  ...   \n",
       "7              NaN          24.0          NaN     22         False  ...   \n",
       "44             NaN          22.0          NaN      3         False  ...   \n",
       "45            2.65           9.0        30.30      7         False  ...   \n",
       "46            2.60          24.0        29.70      9         False  ...   \n",
       "49            2.50           9.0        18.00      7         False  ...   \n",
       "52            3.00           2.0        94.00      2         False  ...   \n",
       "71            2.50           9.0        39.00      8         False  ...   \n",
       "81             NaN          10.0          NaN      6         False  ...   \n",
       "84             NaN           2.0        27.46      1         False  ...   \n",
       "\n",
       "    kitchen_area  balcony    locality_name  airports_nearest  \\\n",
       "0           25.0      0.0  Санкт-Петербург           18863.0   \n",
       "7           18.9      2.0  Санкт-Петербург           23982.0   \n",
       "44           NaN      1.0  Санкт-Петербург           30471.0   \n",
       "45           7.0      0.0  Санкт-Петербург           30011.0   \n",
       "46           8.3      2.0  Санкт-Петербург           15114.0   \n",
       "49           6.0      0.0  Санкт-Петербург           45341.0   \n",
       "52          11.0      1.0  Санкт-Петербург           16510.0   \n",
       "71           6.2      0.0  Санкт-Петербург           33623.0   \n",
       "81           NaN      0.0  Санкт-Петербург               NaN   \n",
       "84           5.2      0.0          Кировск               NaN   \n",
       "\n",
       "   cityCenters_nearest  parks_around3000  parks_nearest  ponds_around3000  \\\n",
       "0              16028.0               1.0          482.0               2.0   \n",
       "7              11634.0               0.0            NaN               0.0   \n",
       "44             11603.0               1.0          620.0               1.0   \n",
       "45             12872.0               0.0            NaN               0.0   \n",
       "46             12702.0               0.0            NaN               0.0   \n",
       "49             16603.0               1.0          675.0               0.0   \n",
       "52              6582.0               1.0          526.0               0.0   \n",
       "71             12267.0               1.0          334.0               1.0   \n",
       "81                 NaN               NaN            NaN               NaN   \n",
       "84                 NaN               NaN            NaN               NaN   \n",
       "\n",
       "    ponds_nearest  days_exposition  \n",
       "0           755.0              NaN  \n",
       "7             NaN              NaN  \n",
       "44         1152.0              NaN  \n",
       "45            NaN              NaN  \n",
       "46            NaN              NaN  \n",
       "49            NaN              NaN  \n",
       "52            NaN              NaN  \n",
       "71          333.0              NaN  \n",
       "81            NaN              NaN  \n",
       "84            NaN              NaN  \n",
       "\n",
       "[10 rows x 22 columns]"
      ]
     },
     "execution_count": 10,
     "metadata": {},
     "output_type": "execute_result"
    }
   ],
   "source": [
    "advert[advert['days_exposition'].isnull()].head(10)"
   ]
  },
  {
   "cell_type": "markdown",
   "metadata": {},
   "source": [
    "Я хотела с помощью лемматизации убрать неполные дубликаты в названиях населенных пунктов.\n",
    "\n",
    "Но, написав половину кода для всего этого, я поняла, что в этом особо смылса нет, так как первая десятка географических названий почти не имеет дубликатов, поэтому при помощи метода replace() заменила на \"Мурино\" остальные производные названия этого населенного пункта. Новый столбец с леммами мы закомментируем, так как уже сильно много столбцов и некоторые просто не выводятся на экран."
   ]
  },
  {
   "cell_type": "code",
   "execution_count": 11,
   "metadata": {},
   "outputs": [
    {
     "data": {
      "text/plain": [
       "Санкт-Петербург                 15721\n",
       "Мурино                            590\n",
       "Кудрово                           472\n",
       "поселок Шушары                    440\n",
       "Всеволожск                        398\n",
       "                                ...  \n",
       "деревня Курковицы                   1\n",
       "поселок станции Лужайка             1\n",
       "деревня Тойворово                   1\n",
       "городской поселок Свирьстрой        1\n",
       "деревня Пижма                       1\n",
       "Name: locality_name, Length: 328, dtype: int64"
      ]
     },
     "execution_count": 11,
     "metadata": {},
     "output_type": "execute_result"
    }
   ],
   "source": [
    "from pymystem3 import Mystem\n",
    "# m = Mystem()\n",
    "# advert['location_lemmas'] = advert['locality_name'].apply(m.lemmatize)\n",
    "# advert.head(20)\n",
    "\n",
    "from collections import Counter\n",
    "# count_location_lemmas = Counter(advert['location_lemmas'].sum())\n",
    "# count_location_lemmas.most_common()\n",
    "\n",
    "# В перой десятке названий только одно поторяется в разных интерпретациях - Мурино,\n",
    "# методом replace() заменю \"поселок Мурино\" и \"посёлок Мурино\" на просто \"Мурино\".\n",
    "\n",
    "advert['locality_name'] = advert['locality_name'].str.replace('ё', 'е')\n",
    "advert['locality_name'] = advert['locality_name'].replace('поселок Мурино', 'Мурино')\n",
    "advert['locality_name'] = advert['locality_name'].replace('деревня Кудрово', 'Кудрово')\n",
    "\n",
    "advert['locality_name'].sort_values().value_counts()"
   ]
  },
  {
   "cell_type": "markdown",
   "metadata": {},
   "source": [
    "Переходим к заполнению пропусков в столбцах: высота потолков и жилая площадь. Для этого будет создан словарь, где будут медианные значения высоты и площади в зависимости от населенного пункта, а уже из словарика мы далее возьмем эти медианные значения и заполним ими пропуски в соответствующих слобцах."
   ]
  },
  {
   "cell_type": "code",
   "execution_count": 13,
   "metadata": {},
   "outputs": [],
   "source": [
    "median_table_ceiling = advert.groupby('locality_name').agg(\n",
    "    {'ceiling_height':'median'})\n",
    "\n",
    "for location in median_table_ceiling.index:\n",
    "    advert.loc[advert['locality_name'] == location, 'ceiling_height'] = advert.loc[\n",
    "        advert['locality_name'] == location, 'ceiling_height'].fillna(\n",
    "        median_table_ceiling.loc[location, 'ceiling_height'])\n",
    "\n",
    "advert['ceiling_height'] = advert['ceiling_height'].fillna(200)"
   ]
  },
  {
   "cell_type": "code",
   "execution_count": 14,
   "metadata": {},
   "outputs": [
    {
     "name": "stdout",
     "output_type": "stream",
     "text": [
      "0\n",
      "1898\n"
     ]
    }
   ],
   "source": [
    "median_table_living_area = advert.groupby('rooms').agg(\n",
    "    {'living_area':'median'})\n",
    "\n",
    "for room in median_table_living_area.index:\n",
    "    \n",
    "    advert.loc[(advert['rooms'] == room) & (\n",
    "        advert['living_area'] <= median_table_living_area.loc[room, 'living_area']), 'living_area'] = advert.loc[(advert['rooms'] == room) & (\n",
    "        advert['living_area'] <= median_table_living_area.loc[room, 'living_area']), 'living_area'].fillna(median_table_living_area.loc[room, 'living_area'])\n",
    "    \n",
    "    \n",
    "    advert.loc[(advert['rooms'] == room) & (\n",
    "        advert['living_area'] > median_table_living_area.loc[room, 'living_area']), 'living_area'] = advert.loc[(advert['rooms'] == room) & (\n",
    "        advert['living_area'] > median_table_living_area.loc[room, 'living_area']), 'living_area'].fillna(advert['total_area'])\n",
    "    \n",
    "    \n",
    "print(len(advert[advert['ceiling_height'].isnull()]))\n",
    "print(len(advert[advert['living_area'].isnull()]))"
   ]
  },
  {
   "cell_type": "code",
   "execution_count": 17,
   "metadata": {},
   "outputs": [
    {
     "data": {
      "text/plain": [
       "<matplotlib.axes._subplots.AxesSubplot at 0x7f48bffe89d0>"
      ]
     },
     "execution_count": 17,
     "metadata": {},
     "output_type": "execute_result"
    },
    {
     "data": {
      "image/png": "[encoded data removed]",
      "text/plain": [
       "<Figure size 432x288 with 1 Axes>"
      ]
     },
     "metadata": {
      "needs_background": "light"
     },
     "output_type": "display_data"
    }
   ],
   "source": [
    "# advert.plot(y = 'total_area', x = 'living_area', alpha = 0.5, kind = 'scatter',  grid = True )"
   ]
  },
  {
   "cell_type": "code",
   "execution_count": 18,
   "metadata": {},
   "outputs": [
    {
     "data": {
      "text/plain": [
       "0"
      ]
     },
     "execution_count": 18,
     "metadata": {},
     "output_type": "execute_result"
    }
   ],
   "source": [
    "# Заполним пропуски в столбце расстояния до аэропорота.\n",
    "\n",
    "mean_table_aeroports = advert.groupby('locality_name').agg({'airports_nearest':'mean'})\n",
    "\n",
    "for location in mean_table_aeroports.index:\n",
    "    advert.loc[advert['locality_name'] == location, 'airports_nearest'] = advert.loc[\n",
    "        advert['locality_name'] == location, 'airports_nearest'].fillna(\n",
    "        mean_table_aeroports.loc[location, 'airports_nearest'])\n",
    "\n",
    "advert['airports_nearest'] = advert['airports_nearest'].fillna(100000)\n",
    "len(advert[advert['airports_nearest'].isnull()])"
   ]
  },
  {
   "cell_type": "code",
   "execution_count": 19,
   "metadata": {},
   "outputs": [
    {
     "data": {
      "text/plain": [
       "0"
      ]
     },
     "execution_count": 19,
     "metadata": {},
     "output_type": "execute_result"
    }
   ],
   "source": [
    "# Заполним пропуски в столбце расстояния до центра.\n",
    "\n",
    "mean_table_cityCentre = advert.groupby('locality_name').agg({'cityCenters_nearest':'mean'})\n",
    "\n",
    "for locality in mean_table_cityCentre.index:\n",
    "    advert.loc[advert['locality_name'] == locality, 'cityCenters_nearest'] = advert.loc[\n",
    "        advert['locality_name'] == locality, 'cityCenters_nearest'].fillna(\n",
    "        mean_table_cityCentre.loc[locality, 'cityCenters_nearest'])\n",
    "\n",
    "advert['cityCenters_nearest'] = advert['cityCenters_nearest'].fillna(100000)\n",
    "len(advert[advert['cityCenters_nearest'].isnull()])"
   ]
  },
  {
   "cell_type": "code",
   "execution_count": 20,
   "metadata": {},
   "outputs": [
    {
     "data": {
      "text/plain": [
       "0"
      ]
     },
     "execution_count": 20,
     "metadata": {},
     "output_type": "execute_result"
    }
   ],
   "source": [
    "# Заполним пропуски в столбце число парков в радиусе 3км.\n",
    "\n",
    "mean_table_parksaround = advert.groupby('locality_name').agg({'parks_around3000':'mean'})\n",
    "\n",
    "for locality in mean_table_parksaround.index:\n",
    "    advert.loc[advert['locality_name'] == locality, 'parks_around3000'] = advert.loc[\n",
    "        advert['locality_name'] == locality, 'parks_around3000'].fillna(\n",
    "        mean_table_parksaround.loc[locality, 'parks_around3000'])\n",
    "\n",
    "\n",
    "advert['parks_around3000'] = advert['parks_around3000'].fillna(100000)\n",
    "len(advert[advert['parks_around3000'].isnull()])"
   ]
  },
  {
   "cell_type": "code",
   "execution_count": 21,
   "metadata": {},
   "outputs": [
    {
     "data": {
      "text/plain": [
       "0"
      ]
     },
     "execution_count": 21,
     "metadata": {},
     "output_type": "execute_result"
    }
   ],
   "source": [
    "# Заполним пропуски в столбце расстояния до ближайшего парка (м).\n",
    "\n",
    "mean_table_parksnearest = advert.groupby('locality_name').agg({'parks_nearest':'mean'})\n",
    "\n",
    "for locality in mean_table_parksnearest.index:\n",
    "    advert.loc[advert['locality_name'] == locality, 'parks_nearest'] = advert.loc[\n",
    "        advert['locality_name'] == locality, 'parks_nearest'].fillna(\n",
    "        mean_table_parksnearest.loc[locality, 'parks_nearest'])\n",
    "\n",
    "advert['parks_nearest'] = advert['parks_nearest'].fillna(100000)\n",
    "len(advert[advert['parks_nearest'].isnull()])"
   ]
  },
  {
   "cell_type": "code",
   "execution_count": 22,
   "metadata": {},
   "outputs": [
    {
     "data": {
      "text/plain": [
       "0"
      ]
     },
     "execution_count": 22,
     "metadata": {},
     "output_type": "execute_result"
    }
   ],
   "source": [
    "# Заполним пропуски в столбце количество прудов в радиусе 3км.\n",
    "\n",
    "mean_table_pondsaround = advert.groupby('locality_name').agg({'ponds_around3000':'mean'})\n",
    "\n",
    "for locality in mean_table_pondsaround.index:\n",
    "    advert.loc[advert['locality_name'] == locality, 'ponds_around3000'] = advert.loc[\n",
    "        advert['locality_name'] == locality, 'ponds_around3000'].fillna(\n",
    "        mean_table_pondsaround.loc[locality, 'ponds_around3000'])\n",
    "\n",
    "advert['ponds_around3000'] = advert['ponds_around3000'].fillna(100000)\n",
    "len(advert[advert['ponds_around3000'].isnull()])"
   ]
  },
  {
   "cell_type": "code",
   "execution_count": 23,
   "metadata": {},
   "outputs": [
    {
     "data": {
      "text/plain": [
       "0"
      ]
     },
     "execution_count": 23,
     "metadata": {},
     "output_type": "execute_result"
    }
   ],
   "source": [
    "# Заполним пропуски в столбце расстояния до ближайшего пруда (м).\n",
    "\n",
    "mean_table_pondsnearest = advert.groupby('locality_name').agg({'ponds_nearest':'mean'})\n",
    "\n",
    "for locality in mean_table_pondsnearest.index:\n",
    "    advert.loc[advert['locality_name'] == locality, 'ponds_nearest'] = advert.loc[\n",
    "        advert['locality_name'] == locality, 'ponds_nearest'].fillna(\n",
    "        mean_table_pondsnearest.loc[locality, 'ponds_nearest'])\n",
    "\n",
    "advert['ponds_nearest'] = advert['ponds_nearest'].fillna(100000)\n",
    "len(advert[advert['ponds_nearest'].isnull()])"
   ]
  },
  {
   "cell_type": "markdown",
   "metadata": {},
   "source": [
    "Для заполнения пропусков в столбце дней размещения объявления составим сводную таблицу, где в качестве строк будут названия населенных пунктов и количество комнат в квартирах, а в качестве столбца будет среднее значение дней размещения объявления по таким квартирам. Далее составляем цикл, который будет подставлять эти средние значения из сводной таблицы вместо пустых значений в соответствии с нас. пунктом и кол-вом комнат."
   ]
  },
  {
   "cell_type": "code",
   "execution_count": 24,
   "metadata": {},
   "outputs": [
    {
     "data": {
      "text/html": [
       "<div>\n",
       "<style scoped>\n",
       "    .dataframe tbody tr th:only-of-type {\n",
       "        vertical-align: middle;\n",
       "    }\n",
       "\n",
       "    .dataframe tbody tr th {\n",
       "        vertical-align: top;\n",
       "    }\n",
       "\n",
       "    .dataframe thead th {\n",
       "        text-align: right;\n",
       "    }\n",
       "</style>\n",
       "<table border=\"1\" class=\"dataframe\">\n",
       "  <thead>\n",
       "    <tr style=\"text-align: right;\">\n",
       "      <th></th>\n",
       "      <th></th>\n",
       "      <th>mean</th>\n",
       "    </tr>\n",
       "    <tr>\n",
       "      <th>locality_name</th>\n",
       "      <th>rooms</th>\n",
       "      <th></th>\n",
       "    </tr>\n",
       "  </thead>\n",
       "  <tbody>\n",
       "    <tr>\n",
       "      <td rowspan=\"4\" valign=\"top\">Бокситогорск</td>\n",
       "      <td>1</td>\n",
       "      <td>32.000000</td>\n",
       "    </tr>\n",
       "    <tr>\n",
       "      <td>2</td>\n",
       "      <td>76.750000</td>\n",
       "    </tr>\n",
       "    <tr>\n",
       "      <td>3</td>\n",
       "      <td>159.000000</td>\n",
       "    </tr>\n",
       "    <tr>\n",
       "      <td>4</td>\n",
       "      <td>226.000000</td>\n",
       "    </tr>\n",
       "    <tr>\n",
       "      <td>Волосово</td>\n",
       "      <td>1</td>\n",
       "      <td>302.818182</td>\n",
       "    </tr>\n",
       "    <tr>\n",
       "      <td>...</td>\n",
       "      <td>...</td>\n",
       "      <td>...</td>\n",
       "    </tr>\n",
       "    <tr>\n",
       "      <td rowspan=\"3\" valign=\"top\">село Русско-Высоцкое</td>\n",
       "      <td>1</td>\n",
       "      <td>300.666667</td>\n",
       "    </tr>\n",
       "    <tr>\n",
       "      <td>2</td>\n",
       "      <td>275.000000</td>\n",
       "    </tr>\n",
       "    <tr>\n",
       "      <td>3</td>\n",
       "      <td>504.000000</td>\n",
       "    </tr>\n",
       "    <tr>\n",
       "      <td>село Старая Ладога</td>\n",
       "      <td>2</td>\n",
       "      <td>45.000000</td>\n",
       "    </tr>\n",
       "    <tr>\n",
       "      <td>село Шум</td>\n",
       "      <td>3</td>\n",
       "      <td>9.000000</td>\n",
       "    </tr>\n",
       "  </tbody>\n",
       "</table>\n",
       "<p>709 rows × 1 columns</p>\n",
       "</div>"
      ],
      "text/plain": [
       "                                  mean\n",
       "locality_name        rooms            \n",
       "Бокситогорск         1       32.000000\n",
       "                     2       76.750000\n",
       "                     3      159.000000\n",
       "                     4      226.000000\n",
       "Волосово             1      302.818182\n",
       "...                                ...\n",
       "село Русско-Высоцкое 1      300.666667\n",
       "                     2      275.000000\n",
       "                     3      504.000000\n",
       "село Старая Ладога   2       45.000000\n",
       "село Шум             3        9.000000\n",
       "\n",
       "[709 rows x 1 columns]"
      ]
     },
     "execution_count": 24,
     "metadata": {},
     "output_type": "execute_result"
    }
   ],
   "source": [
    "pivot_locality_exposition = advert.pivot_table(\n",
    "    index=['locality_name', 'rooms'], values='days_exposition', aggfunc=['mean'])\n",
    "pivot_locality_exposition.columns = ['mean']\n",
    "pivot_locality_exposition"
   ]
  },
  {
   "cell_type": "code",
   "execution_count": 25,
   "metadata": {},
   "outputs": [
    {
     "name": "stdout",
     "output_type": "stream",
     "text": [
      "<class 'pandas.core.frame.DataFrame'>\n",
      "Int64Index: 23650 entries, 0 to 23698\n",
      "Data columns (total 22 columns):\n",
      "total_images            23650 non-null int64\n",
      "last_price              23650 non-null float64\n",
      "total_area              23650 non-null float64\n",
      "first_day_exposition    23650 non-null object\n",
      "rooms                   23650 non-null int64\n",
      "ceiling_height          23650 non-null float64\n",
      "floors_total            23650 non-null float64\n",
      "living_area             21752 non-null float64\n",
      "floor                   23650 non-null int64\n",
      "is_apartment            23650 non-null bool\n",
      "studio                  23650 non-null bool\n",
      "open_plan               23650 non-null bool\n",
      "kitchen_area            21381 non-null float64\n",
      "balcony                 23650 non-null float64\n",
      "locality_name           23650 non-null object\n",
      "airports_nearest        23650 non-null float64\n",
      "cityCenters_nearest     23650 non-null float64\n",
      "parks_around3000        23650 non-null float64\n",
      "parks_nearest           23650 non-null float64\n",
      "ponds_around3000        23650 non-null float64\n",
      "ponds_nearest           23650 non-null float64\n",
      "days_exposition         23650 non-null float64\n",
      "dtypes: bool(3), float64(14), int64(3), object(2)\n",
      "memory usage: 4.3+ MB\n"
     ]
    }
   ],
   "source": [
    "for (locality_name, rooms) in pivot_locality_exposition.index:\n",
    "    advert.loc[(advert['locality_name'] == locality_name) & (\n",
    "    advert['rooms'] == rooms), 'days_exposition'] = advert.loc[\n",
    "    (advert['locality_name'] == locality_name) & (\n",
    "    advert['rooms'] == rooms), 'days_exposition'].fillna(\n",
    "        pivot_locality_exposition.loc[(locality_name, rooms), 'mean'])\n",
    "    \n",
    "advert['days_exposition'] = advert['days_exposition'].fillna(10000)\n",
    "    \n",
    "advert.head(10)\n",
    "advert.info()"
   ]
  },
  {
   "cell_type": "markdown",
   "metadata": {},
   "source": [
    "Однако после цикла все еще остались пустые значения, так как некоторые населенные пункты повторяются 1-4 раза и ни в одной из этих строк нет никаких даных в столбце days_exposition, поэтому остальные пустые значения я заменю явно выбивающимя маркером с большим значением."
   ]
  },
  {
   "cell_type": "code",
   "execution_count": 26,
   "metadata": {},
   "outputs": [
    {
     "data": {
      "text/plain": [
       "Санкт-Петербург                            110\n",
       "Мурино                                      28\n",
       "Кудрово                                     21\n",
       "Никольское                                   6\n",
       "Всеволожск                                   6\n",
       "поселок Шушары                               4\n",
       "поселок Парголово                            4\n",
       "поселок Бугры                                3\n",
       "Сертолово                                    3\n",
       "городской поселок Новоселье                  2\n",
       "Тосно                                        1\n",
       "городской поселок Большая Ижора              1\n",
       "деревня Новое Девяткино                      1\n",
       "поселок Новый Свет                           1\n",
       "поселок станции Корнево                      1\n",
       "городской поселок Янино-1                    1\n",
       "поселок городского типа имени Свердлова      1\n",
       "поселок городского типа Дубровка             1\n",
       "поселок Петро-Славянка                       1\n",
       "Отрадное                                     1\n",
       "Name: locality_name, dtype: int64"
      ]
     },
     "execution_count": 26,
     "metadata": {},
     "output_type": "execute_result"
    }
   ],
   "source": [
    "kitchen_coeff = (advert['kitchen_area']/advert['total_area']).groupby(advert['rooms']).mean()\n",
    "\n",
    "advert.loc[advert['kitchen_area'].isnull(), 'kitchen_area'] = advert.loc[\n",
    "    advert['kitchen_area'].isnull(), 'rooms'].apply(lambda x: x * kitchen_coeff[x])\n",
    "\n",
    "dataka = advert[advert['kitchen_area'].isnull()]\n",
    "dataka['locality_name'].value_counts()"
   ]
  },
  {
   "cell_type": "markdown",
   "metadata": {},
   "source": [
    "После обработки остались пропуски в kitchen_area для квартир с 0 комнат. \n",
    "Эти оставшиеся пропуски заполним разницей между общей площадью и жилой площадью площадью и вычтем отсюда еще 7.2м (примерная площадь ванной комнаты и прихожей)."
   ]
  },
  {
   "cell_type": "code",
   "execution_count": 27,
   "metadata": {},
   "outputs": [
    {
     "name": "stdout",
     "output_type": "stream",
     "text": [
      "<class 'pandas.core.frame.DataFrame'>\n",
      "Int64Index: 23650 entries, 0 to 23698\n",
      "Data columns (total 22 columns):\n",
      "total_images            23650 non-null int64\n",
      "last_price              23650 non-null float64\n",
      "total_area              23650 non-null float64\n",
      "first_day_exposition    23650 non-null object\n",
      "rooms                   23650 non-null int64\n",
      "ceiling_height          23650 non-null float64\n",
      "floors_total            23650 non-null float64\n",
      "living_area             21752 non-null float64\n",
      "floor                   23650 non-null int64\n",
      "is_apartment            23650 non-null bool\n",
      "studio                  23650 non-null bool\n",
      "open_plan               23650 non-null bool\n",
      "kitchen_area            23636 non-null float64\n",
      "balcony                 23650 non-null float64\n",
      "locality_name           23650 non-null object\n",
      "airports_nearest        23650 non-null float64\n",
      "cityCenters_nearest     23650 non-null float64\n",
      "parks_around3000        23650 non-null float64\n",
      "parks_nearest           23650 non-null float64\n",
      "ponds_around3000        23650 non-null float64\n",
      "ponds_nearest           23650 non-null float64\n",
      "days_exposition         23650 non-null float64\n",
      "dtypes: bool(3), float64(14), int64(3), object(2)\n",
      "memory usage: 4.3+ MB\n"
     ]
    }
   ],
   "source": [
    "advert.loc[advert['kitchen_area'].isnull(), 'kitchen_area'] = advert.loc[\n",
    "    advert['kitchen_area'].isnull(), 'kitchen_area'].fillna(\n",
    "    advert['total_area'] - advert['living_area'] - 7.2)\n",
    "\n",
    "len(advert[advert['kitchen_area'].isnull()])\n",
    "advert.info()"
   ]
  },
  {
   "cell_type": "markdown",
   "metadata": {},
   "source": [
    "- Изменим тип данных, так как эти данные должны быть по смыслу целочисленными или просто удобнее просматривать в таком виде (для меня), в следующих столбцах:"
   ]
  },
  {
   "cell_type": "code",
   "execution_count": 28,
   "metadata": {},
   "outputs": [
    {
     "data": {
      "text/html": [
       "<div>\n",
       "<style scoped>\n",
       "    .dataframe tbody tr th:only-of-type {\n",
       "        vertical-align: middle;\n",
       "    }\n",
       "\n",
       "    .dataframe tbody tr th {\n",
       "        vertical-align: top;\n",
       "    }\n",
       "\n",
       "    .dataframe thead th {\n",
       "        text-align: right;\n",
       "    }\n",
       "</style>\n",
       "<table border=\"1\" class=\"dataframe\">\n",
       "  <thead>\n",
       "    <tr style=\"text-align: right;\">\n",
       "      <th></th>\n",
       "      <th>total_images</th>\n",
       "      <th>last_price</th>\n",
       "      <th>total_area</th>\n",
       "      <th>first_day_exposition</th>\n",
       "      <th>rooms</th>\n",
       "      <th>ceiling_height</th>\n",
       "      <th>floors_total</th>\n",
       "      <th>living_area</th>\n",
       "      <th>floor</th>\n",
       "      <th>is_apartment</th>\n",
       "      <th>...</th>\n",
       "      <th>kitchen_area</th>\n",
       "      <th>balcony</th>\n",
       "      <th>locality_name</th>\n",
       "      <th>airports_nearest</th>\n",
       "      <th>cityCenters_nearest</th>\n",
       "      <th>parks_around3000</th>\n",
       "      <th>parks_nearest</th>\n",
       "      <th>ponds_around3000</th>\n",
       "      <th>ponds_nearest</th>\n",
       "      <th>days_exposition</th>\n",
       "    </tr>\n",
       "  </thead>\n",
       "  <tbody>\n",
       "    <tr>\n",
       "      <td>0</td>\n",
       "      <td>20</td>\n",
       "      <td>13000000.0</td>\n",
       "      <td>108.0</td>\n",
       "      <td>2019-03-07T00:00:00</td>\n",
       "      <td>3</td>\n",
       "      <td>2.70</td>\n",
       "      <td>16</td>\n",
       "      <td>51.0</td>\n",
       "      <td>8</td>\n",
       "      <td>False</td>\n",
       "      <td>...</td>\n",
       "      <td>25.000000</td>\n",
       "      <td>0</td>\n",
       "      <td>Санкт-Петербург</td>\n",
       "      <td>18863.0</td>\n",
       "      <td>16028.0</td>\n",
       "      <td>1</td>\n",
       "      <td>482.0</td>\n",
       "      <td>2</td>\n",
       "      <td>755.000000</td>\n",
       "      <td>205</td>\n",
       "    </tr>\n",
       "    <tr>\n",
       "      <td>1</td>\n",
       "      <td>7</td>\n",
       "      <td>3350000.0</td>\n",
       "      <td>40.4</td>\n",
       "      <td>2018-12-04T00:00:00</td>\n",
       "      <td>1</td>\n",
       "      <td>2.63</td>\n",
       "      <td>11</td>\n",
       "      <td>18.6</td>\n",
       "      <td>1</td>\n",
       "      <td>False</td>\n",
       "      <td>...</td>\n",
       "      <td>11.000000</td>\n",
       "      <td>2</td>\n",
       "      <td>поселок Шушары</td>\n",
       "      <td>12817.0</td>\n",
       "      <td>18603.0</td>\n",
       "      <td>0</td>\n",
       "      <td>100000.0</td>\n",
       "      <td>0</td>\n",
       "      <td>573.217105</td>\n",
       "      <td>81</td>\n",
       "    </tr>\n",
       "    <tr>\n",
       "      <td>2</td>\n",
       "      <td>10</td>\n",
       "      <td>5196000.0</td>\n",
       "      <td>56.0</td>\n",
       "      <td>2015-08-20T00:00:00</td>\n",
       "      <td>2</td>\n",
       "      <td>2.70</td>\n",
       "      <td>5</td>\n",
       "      <td>34.3</td>\n",
       "      <td>4</td>\n",
       "      <td>False</td>\n",
       "      <td>...</td>\n",
       "      <td>8.300000</td>\n",
       "      <td>0</td>\n",
       "      <td>Санкт-Петербург</td>\n",
       "      <td>21741.0</td>\n",
       "      <td>13933.0</td>\n",
       "      <td>1</td>\n",
       "      <td>90.0</td>\n",
       "      <td>2</td>\n",
       "      <td>574.000000</td>\n",
       "      <td>558</td>\n",
       "    </tr>\n",
       "    <tr>\n",
       "      <td>3</td>\n",
       "      <td>0</td>\n",
       "      <td>64900000.0</td>\n",
       "      <td>159.0</td>\n",
       "      <td>2015-07-24T00:00:00</td>\n",
       "      <td>3</td>\n",
       "      <td>2.70</td>\n",
       "      <td>14</td>\n",
       "      <td>NaN</td>\n",
       "      <td>9</td>\n",
       "      <td>False</td>\n",
       "      <td>...</td>\n",
       "      <td>0.422771</td>\n",
       "      <td>0</td>\n",
       "      <td>Санкт-Петербург</td>\n",
       "      <td>28098.0</td>\n",
       "      <td>6800.0</td>\n",
       "      <td>2</td>\n",
       "      <td>84.0</td>\n",
       "      <td>3</td>\n",
       "      <td>234.000000</td>\n",
       "      <td>424</td>\n",
       "    </tr>\n",
       "    <tr>\n",
       "      <td>4</td>\n",
       "      <td>2</td>\n",
       "      <td>10000000.0</td>\n",
       "      <td>100.0</td>\n",
       "      <td>2018-06-19T00:00:00</td>\n",
       "      <td>2</td>\n",
       "      <td>3.03</td>\n",
       "      <td>14</td>\n",
       "      <td>32.0</td>\n",
       "      <td>13</td>\n",
       "      <td>False</td>\n",
       "      <td>...</td>\n",
       "      <td>41.000000</td>\n",
       "      <td>0</td>\n",
       "      <td>Санкт-Петербург</td>\n",
       "      <td>31856.0</td>\n",
       "      <td>8098.0</td>\n",
       "      <td>2</td>\n",
       "      <td>112.0</td>\n",
       "      <td>1</td>\n",
       "      <td>48.000000</td>\n",
       "      <td>121</td>\n",
       "    </tr>\n",
       "  </tbody>\n",
       "</table>\n",
       "<p>5 rows × 22 columns</p>\n",
       "</div>"
      ],
      "text/plain": [
       "   total_images  last_price  total_area first_day_exposition  rooms  \\\n",
       "0            20  13000000.0       108.0  2019-03-07T00:00:00      3   \n",
       "1             7   3350000.0        40.4  2018-12-04T00:00:00      1   \n",
       "2            10   5196000.0        56.0  2015-08-20T00:00:00      2   \n",
       "3             0  64900000.0       159.0  2015-07-24T00:00:00      3   \n",
       "4             2  10000000.0       100.0  2018-06-19T00:00:00      2   \n",
       "\n",
       "   ceiling_height  floors_total  living_area  floor  is_apartment  ...  \\\n",
       "0            2.70            16         51.0      8         False  ...   \n",
       "1            2.63            11         18.6      1         False  ...   \n",
       "2            2.70             5         34.3      4         False  ...   \n",
       "3            2.70            14          NaN      9         False  ...   \n",
       "4            3.03            14         32.0     13         False  ...   \n",
       "\n",
       "   kitchen_area  balcony    locality_name  airports_nearest  \\\n",
       "0     25.000000        0  Санкт-Петербург           18863.0   \n",
       "1     11.000000        2   поселок Шушары           12817.0   \n",
       "2      8.300000        0  Санкт-Петербург           21741.0   \n",
       "3      0.422771        0  Санкт-Петербург           28098.0   \n",
       "4     41.000000        0  Санкт-Петербург           31856.0   \n",
       "\n",
       "  cityCenters_nearest  parks_around3000  parks_nearest  ponds_around3000  \\\n",
       "0             16028.0                 1          482.0                 2   \n",
       "1             18603.0                 0       100000.0                 0   \n",
       "2             13933.0                 1           90.0                 2   \n",
       "3              6800.0                 2           84.0                 3   \n",
       "4              8098.0                 2          112.0                 1   \n",
       "\n",
       "   ponds_nearest  days_exposition  \n",
       "0     755.000000              205  \n",
       "1     573.217105               81  \n",
       "2     574.000000              558  \n",
       "3     234.000000              424  \n",
       "4      48.000000              121  \n",
       "\n",
       "[5 rows x 22 columns]"
      ]
     },
     "execution_count": 28,
     "metadata": {},
     "output_type": "execute_result"
    }
   ],
   "source": [
    "for column in ['floors_total', 'balcony', 'parks_around3000', 'ponds_around3000', 'days_exposition']:\n",
    "    advert[column] = advert[column].astype('int')\n",
    "\n",
    "advert.head()"
   ]
  },
  {
   "cell_type": "markdown",
   "metadata": {},
   "source": [
    "### Шаг 3. Добавление таблицы. <a id=step3></a>"
   ]
  },
  {
   "cell_type": "markdown",
   "metadata": {},
   "source": [
    "- цену квадратного метра;\n",
    "- день недели, месяц и год публикации объявления;\n",
    "- этаж квартиры; варианты — первый, последний, другой;\n",
    "- соотношение жилой и общей площади, а также отношение площади кухни к общей."
   ]
  },
  {
   "cell_type": "markdown",
   "metadata": {},
   "source": [
    "- Добавим столбец с ценой за квадратный метр."
   ]
  },
  {
   "cell_type": "code",
   "execution_count": 30,
   "metadata": {},
   "outputs": [],
   "source": [
    "advert['sq_meter_price'] = advert['last_price'] / advert['total_area']"
   ]
  },
  {
   "cell_type": "markdown",
   "metadata": {},
   "source": [
    "- Добавим столбец с днем недели, месяцем и годом публикации - square_meter_price, разделив столбец со стоимостью на столбец с общей площадью."
   ]
  },
  {
   "cell_type": "code",
   "execution_count": 31,
   "metadata": {},
   "outputs": [
    {
     "data": {
      "text/html": [
       "<div>\n",
       "<style scoped>\n",
       "    .dataframe tbody tr th:only-of-type {\n",
       "        vertical-align: middle;\n",
       "    }\n",
       "\n",
       "    .dataframe tbody tr th {\n",
       "        vertical-align: top;\n",
       "    }\n",
       "\n",
       "    .dataframe thead th {\n",
       "        text-align: right;\n",
       "    }\n",
       "</style>\n",
       "<table border=\"1\" class=\"dataframe\">\n",
       "  <thead>\n",
       "    <tr style=\"text-align: right;\">\n",
       "      <th></th>\n",
       "      <th>total_images</th>\n",
       "      <th>last_price</th>\n",
       "      <th>total_area</th>\n",
       "      <th>first_day_exposition</th>\n",
       "      <th>rooms</th>\n",
       "      <th>ceiling_height</th>\n",
       "      <th>floors_total</th>\n",
       "      <th>living_area</th>\n",
       "      <th>floor</th>\n",
       "      <th>is_apartment</th>\n",
       "      <th>...</th>\n",
       "      <th>cityCenters_nearest</th>\n",
       "      <th>parks_around3000</th>\n",
       "      <th>parks_nearest</th>\n",
       "      <th>ponds_around3000</th>\n",
       "      <th>ponds_nearest</th>\n",
       "      <th>days_exposition</th>\n",
       "      <th>sq_meter_price</th>\n",
       "      <th>weekday</th>\n",
       "      <th>month</th>\n",
       "      <th>year</th>\n",
       "    </tr>\n",
       "  </thead>\n",
       "  <tbody>\n",
       "    <tr>\n",
       "      <td>0</td>\n",
       "      <td>20</td>\n",
       "      <td>13000000.0</td>\n",
       "      <td>108.0</td>\n",
       "      <td>2019-03-07</td>\n",
       "      <td>3</td>\n",
       "      <td>2.70</td>\n",
       "      <td>16</td>\n",
       "      <td>51.0</td>\n",
       "      <td>8</td>\n",
       "      <td>False</td>\n",
       "      <td>...</td>\n",
       "      <td>16028.0</td>\n",
       "      <td>1</td>\n",
       "      <td>482.0</td>\n",
       "      <td>2</td>\n",
       "      <td>755.000000</td>\n",
       "      <td>205</td>\n",
       "      <td>120370.370370</td>\n",
       "      <td>3</td>\n",
       "      <td>3</td>\n",
       "      <td>2019</td>\n",
       "    </tr>\n",
       "    <tr>\n",
       "      <td>1</td>\n",
       "      <td>7</td>\n",
       "      <td>3350000.0</td>\n",
       "      <td>40.4</td>\n",
       "      <td>2018-12-04</td>\n",
       "      <td>1</td>\n",
       "      <td>2.63</td>\n",
       "      <td>11</td>\n",
       "      <td>18.6</td>\n",
       "      <td>1</td>\n",
       "      <td>False</td>\n",
       "      <td>...</td>\n",
       "      <td>18603.0</td>\n",
       "      <td>0</td>\n",
       "      <td>100000.0</td>\n",
       "      <td>0</td>\n",
       "      <td>573.217105</td>\n",
       "      <td>81</td>\n",
       "      <td>82920.792079</td>\n",
       "      <td>1</td>\n",
       "      <td>12</td>\n",
       "      <td>2018</td>\n",
       "    </tr>\n",
       "    <tr>\n",
       "      <td>2</td>\n",
       "      <td>10</td>\n",
       "      <td>5196000.0</td>\n",
       "      <td>56.0</td>\n",
       "      <td>2015-08-20</td>\n",
       "      <td>2</td>\n",
       "      <td>2.70</td>\n",
       "      <td>5</td>\n",
       "      <td>34.3</td>\n",
       "      <td>4</td>\n",
       "      <td>False</td>\n",
       "      <td>...</td>\n",
       "      <td>13933.0</td>\n",
       "      <td>1</td>\n",
       "      <td>90.0</td>\n",
       "      <td>2</td>\n",
       "      <td>574.000000</td>\n",
       "      <td>558</td>\n",
       "      <td>92785.714286</td>\n",
       "      <td>3</td>\n",
       "      <td>8</td>\n",
       "      <td>2015</td>\n",
       "    </tr>\n",
       "    <tr>\n",
       "      <td>3</td>\n",
       "      <td>0</td>\n",
       "      <td>64900000.0</td>\n",
       "      <td>159.0</td>\n",
       "      <td>2015-07-24</td>\n",
       "      <td>3</td>\n",
       "      <td>2.70</td>\n",
       "      <td>14</td>\n",
       "      <td>NaN</td>\n",
       "      <td>9</td>\n",
       "      <td>False</td>\n",
       "      <td>...</td>\n",
       "      <td>6800.0</td>\n",
       "      <td>2</td>\n",
       "      <td>84.0</td>\n",
       "      <td>3</td>\n",
       "      <td>234.000000</td>\n",
       "      <td>424</td>\n",
       "      <td>408176.100629</td>\n",
       "      <td>4</td>\n",
       "      <td>7</td>\n",
       "      <td>2015</td>\n",
       "    </tr>\n",
       "    <tr>\n",
       "      <td>4</td>\n",
       "      <td>2</td>\n",
       "      <td>10000000.0</td>\n",
       "      <td>100.0</td>\n",
       "      <td>2018-06-19</td>\n",
       "      <td>2</td>\n",
       "      <td>3.03</td>\n",
       "      <td>14</td>\n",
       "      <td>32.0</td>\n",
       "      <td>13</td>\n",
       "      <td>False</td>\n",
       "      <td>...</td>\n",
       "      <td>8098.0</td>\n",
       "      <td>2</td>\n",
       "      <td>112.0</td>\n",
       "      <td>1</td>\n",
       "      <td>48.000000</td>\n",
       "      <td>121</td>\n",
       "      <td>100000.000000</td>\n",
       "      <td>1</td>\n",
       "      <td>6</td>\n",
       "      <td>2018</td>\n",
       "    </tr>\n",
       "  </tbody>\n",
       "</table>\n",
       "<p>5 rows × 26 columns</p>\n",
       "</div>"
      ],
      "text/plain": [
       "   total_images  last_price  total_area first_day_exposition  rooms  \\\n",
       "0            20  13000000.0       108.0           2019-03-07      3   \n",
       "1             7   3350000.0        40.4           2018-12-04      1   \n",
       "2            10   5196000.0        56.0           2015-08-20      2   \n",
       "3             0  64900000.0       159.0           2015-07-24      3   \n",
       "4             2  10000000.0       100.0           2018-06-19      2   \n",
       "\n",
       "   ceiling_height  floors_total  living_area  floor  is_apartment  ...  \\\n",
       "0            2.70            16         51.0      8         False  ...   \n",
       "1            2.63            11         18.6      1         False  ...   \n",
       "2            2.70             5         34.3      4         False  ...   \n",
       "3            2.70            14          NaN      9         False  ...   \n",
       "4            3.03            14         32.0     13         False  ...   \n",
       "\n",
       "   cityCenters_nearest  parks_around3000  parks_nearest  ponds_around3000  \\\n",
       "0              16028.0                 1          482.0                 2   \n",
       "1              18603.0                 0       100000.0                 0   \n",
       "2              13933.0                 1           90.0                 2   \n",
       "3               6800.0                 2           84.0                 3   \n",
       "4               8098.0                 2          112.0                 1   \n",
       "\n",
       "  ponds_nearest  days_exposition  sq_meter_price  weekday  month  year  \n",
       "0    755.000000              205   120370.370370        3      3  2019  \n",
       "1    573.217105               81    82920.792079        1     12  2018  \n",
       "2    574.000000              558    92785.714286        3      8  2015  \n",
       "3    234.000000              424   408176.100629        4      7  2015  \n",
       "4     48.000000              121   100000.000000        1      6  2018  \n",
       "\n",
       "[5 rows x 26 columns]"
      ]
     },
     "execution_count": 31,
     "metadata": {},
     "output_type": "execute_result"
    }
   ],
   "source": [
    "# Заменим столбец с датой публикации объявления на более читабельный формат\n",
    "advert['first_day_exposition'] = pd.to_datetime(\n",
    "    advert['first_day_exposition'], format='%Y-%m-%dT%H:%M:%S')\n",
    "\n",
    "# Добавим столбец с порядковым номером дня недели\n",
    "advert['weekday'] = advert['first_day_exposition'].dt.weekday\n",
    "advert['month'] = advert['first_day_exposition'].dt.month\n",
    "advert['year'] = advert['first_day_exposition'].dt.year\n",
    "\n",
    "advert.head()"
   ]
  },
  {
   "cell_type": "markdown",
   "metadata": {},
   "source": [
    "- Добавим столбец с этажом квартиры; варианты — первый, последний, другой;"
   ]
  },
  {
   "cell_type": "code",
   "execution_count": 32,
   "metadata": {},
   "outputs": [],
   "source": [
    "# Для этого напишем функцию, которая будет сопоставлять этаж, \n",
    "# на котором находится квартира, с общим количеством этажей в доме \n",
    "# и выводить нужное значение в отдельном столбце.\n",
    "\n",
    "def floor_classification(row):\n",
    "    if row['floor'] == 1:\n",
    "        return 'первый'\n",
    "    elif row['floor'] == row['floors_total']:\n",
    "        return 'последний'\n",
    "    return 'другой'\n",
    "\n",
    "advert['floor_type'] = advert.apply(floor_classification, axis=1)"
   ]
  },
  {
   "cell_type": "markdown",
   "metadata": {},
   "source": [
    "- Добавим столбцы с соотношением жилой и общей площади, а также с отношением площади кухни к общей."
   ]
  },
  {
   "cell_type": "code",
   "execution_count": 33,
   "metadata": {},
   "outputs": [
    {
     "data": {
      "text/html": [
       "<div>\n",
       "<style scoped>\n",
       "    .dataframe tbody tr th:only-of-type {\n",
       "        vertical-align: middle;\n",
       "    }\n",
       "\n",
       "    .dataframe tbody tr th {\n",
       "        vertical-align: top;\n",
       "    }\n",
       "\n",
       "    .dataframe thead th {\n",
       "        text-align: right;\n",
       "    }\n",
       "</style>\n",
       "<table border=\"1\" class=\"dataframe\">\n",
       "  <thead>\n",
       "    <tr style=\"text-align: right;\">\n",
       "      <th></th>\n",
       "      <th>total_images</th>\n",
       "      <th>last_price</th>\n",
       "      <th>total_area</th>\n",
       "      <th>first_day_exposition</th>\n",
       "      <th>rooms</th>\n",
       "      <th>ceiling_height</th>\n",
       "      <th>floors_total</th>\n",
       "      <th>living_area</th>\n",
       "      <th>floor</th>\n",
       "      <th>is_apartment</th>\n",
       "      <th>...</th>\n",
       "      <th>ponds_around3000</th>\n",
       "      <th>ponds_nearest</th>\n",
       "      <th>days_exposition</th>\n",
       "      <th>sq_meter_price</th>\n",
       "      <th>weekday</th>\n",
       "      <th>month</th>\n",
       "      <th>year</th>\n",
       "      <th>floor_type</th>\n",
       "      <th>kitchen_coeff</th>\n",
       "      <th>living_coeff</th>\n",
       "    </tr>\n",
       "  </thead>\n",
       "  <tbody>\n",
       "    <tr>\n",
       "      <td>0</td>\n",
       "      <td>20</td>\n",
       "      <td>13000000.0</td>\n",
       "      <td>108.0</td>\n",
       "      <td>2019-03-07</td>\n",
       "      <td>3</td>\n",
       "      <td>2.70</td>\n",
       "      <td>16</td>\n",
       "      <td>51.0</td>\n",
       "      <td>8</td>\n",
       "      <td>False</td>\n",
       "      <td>...</td>\n",
       "      <td>2</td>\n",
       "      <td>755.000000</td>\n",
       "      <td>205</td>\n",
       "      <td>120370.370370</td>\n",
       "      <td>3</td>\n",
       "      <td>3</td>\n",
       "      <td>2019</td>\n",
       "      <td>другой</td>\n",
       "      <td>0.231481</td>\n",
       "      <td>0.472222</td>\n",
       "    </tr>\n",
       "    <tr>\n",
       "      <td>1</td>\n",
       "      <td>7</td>\n",
       "      <td>3350000.0</td>\n",
       "      <td>40.4</td>\n",
       "      <td>2018-12-04</td>\n",
       "      <td>1</td>\n",
       "      <td>2.63</td>\n",
       "      <td>11</td>\n",
       "      <td>18.6</td>\n",
       "      <td>1</td>\n",
       "      <td>False</td>\n",
       "      <td>...</td>\n",
       "      <td>0</td>\n",
       "      <td>573.217105</td>\n",
       "      <td>81</td>\n",
       "      <td>82920.792079</td>\n",
       "      <td>1</td>\n",
       "      <td>12</td>\n",
       "      <td>2018</td>\n",
       "      <td>первый</td>\n",
       "      <td>0.272277</td>\n",
       "      <td>0.460396</td>\n",
       "    </tr>\n",
       "    <tr>\n",
       "      <td>2</td>\n",
       "      <td>10</td>\n",
       "      <td>5196000.0</td>\n",
       "      <td>56.0</td>\n",
       "      <td>2015-08-20</td>\n",
       "      <td>2</td>\n",
       "      <td>2.70</td>\n",
       "      <td>5</td>\n",
       "      <td>34.3</td>\n",
       "      <td>4</td>\n",
       "      <td>False</td>\n",
       "      <td>...</td>\n",
       "      <td>2</td>\n",
       "      <td>574.000000</td>\n",
       "      <td>558</td>\n",
       "      <td>92785.714286</td>\n",
       "      <td>3</td>\n",
       "      <td>8</td>\n",
       "      <td>2015</td>\n",
       "      <td>другой</td>\n",
       "      <td>0.148214</td>\n",
       "      <td>0.612500</td>\n",
       "    </tr>\n",
       "    <tr>\n",
       "      <td>3</td>\n",
       "      <td>0</td>\n",
       "      <td>64900000.0</td>\n",
       "      <td>159.0</td>\n",
       "      <td>2015-07-24</td>\n",
       "      <td>3</td>\n",
       "      <td>2.70</td>\n",
       "      <td>14</td>\n",
       "      <td>NaN</td>\n",
       "      <td>9</td>\n",
       "      <td>False</td>\n",
       "      <td>...</td>\n",
       "      <td>3</td>\n",
       "      <td>234.000000</td>\n",
       "      <td>424</td>\n",
       "      <td>408176.100629</td>\n",
       "      <td>4</td>\n",
       "      <td>7</td>\n",
       "      <td>2015</td>\n",
       "      <td>другой</td>\n",
       "      <td>0.002659</td>\n",
       "      <td>NaN</td>\n",
       "    </tr>\n",
       "    <tr>\n",
       "      <td>4</td>\n",
       "      <td>2</td>\n",
       "      <td>10000000.0</td>\n",
       "      <td>100.0</td>\n",
       "      <td>2018-06-19</td>\n",
       "      <td>2</td>\n",
       "      <td>3.03</td>\n",
       "      <td>14</td>\n",
       "      <td>32.0</td>\n",
       "      <td>13</td>\n",
       "      <td>False</td>\n",
       "      <td>...</td>\n",
       "      <td>1</td>\n",
       "      <td>48.000000</td>\n",
       "      <td>121</td>\n",
       "      <td>100000.000000</td>\n",
       "      <td>1</td>\n",
       "      <td>6</td>\n",
       "      <td>2018</td>\n",
       "      <td>другой</td>\n",
       "      <td>0.410000</td>\n",
       "      <td>0.320000</td>\n",
       "    </tr>\n",
       "  </tbody>\n",
       "</table>\n",
       "<p>5 rows × 29 columns</p>\n",
       "</div>"
      ],
      "text/plain": [
       "   total_images  last_price  total_area first_day_exposition  rooms  \\\n",
       "0            20  13000000.0       108.0           2019-03-07      3   \n",
       "1             7   3350000.0        40.4           2018-12-04      1   \n",
       "2            10   5196000.0        56.0           2015-08-20      2   \n",
       "3             0  64900000.0       159.0           2015-07-24      3   \n",
       "4             2  10000000.0       100.0           2018-06-19      2   \n",
       "\n",
       "   ceiling_height  floors_total  living_area  floor  is_apartment  ...  \\\n",
       "0            2.70            16         51.0      8         False  ...   \n",
       "1            2.63            11         18.6      1         False  ...   \n",
       "2            2.70             5         34.3      4         False  ...   \n",
       "3            2.70            14          NaN      9         False  ...   \n",
       "4            3.03            14         32.0     13         False  ...   \n",
       "\n",
       "   ponds_around3000  ponds_nearest  days_exposition  sq_meter_price weekday  \\\n",
       "0                 2     755.000000              205   120370.370370       3   \n",
       "1                 0     573.217105               81    82920.792079       1   \n",
       "2                 2     574.000000              558    92785.714286       3   \n",
       "3                 3     234.000000              424   408176.100629       4   \n",
       "4                 1      48.000000              121   100000.000000       1   \n",
       "\n",
       "   month  year  floor_type  kitchen_coeff  living_coeff  \n",
       "0      3  2019      другой       0.231481      0.472222  \n",
       "1     12  2018      первый       0.272277      0.460396  \n",
       "2      8  2015      другой       0.148214      0.612500  \n",
       "3      7  2015      другой       0.002659           NaN  \n",
       "4      6  2018      другой       0.410000      0.320000  \n",
       "\n",
       "[5 rows x 29 columns]"
      ]
     },
     "execution_count": 33,
     "metadata": {},
     "output_type": "execute_result"
    }
   ],
   "source": [
    "advert['kitchen_coeff'] = (advert['kitchen_area']/advert['total_area'])\n",
    "advert['living_coeff'] = advert['living_area'] / advert['total_area']\n",
    "advert.head()"
   ]
  },
  {
   "cell_type": "markdown",
   "metadata": {},
   "source": [
    "### Шаг 4. Исследовательский анализ данных. <a id=step4></a>"
   ]
  },
  {
   "cell_type": "markdown",
   "metadata": {},
   "source": [
    "- Изучим следующие параметры: площадь, цена, число комнат, высота потолков. Строим гистограммы для каждого из них."
   ]
  },
  {
   "cell_type": "code",
   "execution_count": 37,
   "metadata": {},
   "outputs": [
    {
     "data": {
      "text/plain": [
       "<matplotlib.axes._subplots.AxesSubplot at 0x7f48c01cf750>"
      ]
     },
     "execution_count": 37,
     "metadata": {},
     "output_type": "execute_result"
    },
    {
     "data": {
      "image/png": "[encoded data removed]",
      "text/plain": [
       "<Figure size 432x288 with 1 Axes>"
      ]
     },
     "metadata": {
      "needs_background": "light"
     },
     "output_type": "display_data"
    }
   ],
   "source": [
    "advert['total_area'].hist(bins=100, range=(0, 450))"
   ]
  },
  {
   "cell_type": "markdown",
   "metadata": {},
   "source": [
    "Самые распространенные значения у нас примерно между 40 и 60, дальше ужет резкое уменьшение количества помещений с общей площадью более 60 квардартных метров."
   ]
  },
  {
   "cell_type": "code",
   "execution_count": 38,
   "metadata": {},
   "outputs": [
    {
     "data": {
      "text/plain": [
       "<matplotlib.axes._subplots.AxesSubplot at 0x7f48bf6ef2d0>"
      ]
     },
     "execution_count": 38,
     "metadata": {},
     "output_type": "execute_result"
    },
    {
     "data": {
      "image/png": "[encoded data removed]",
      "text/plain": [
       "<Figure size 432x288 with 1 Axes>"
      ]
     },
     "metadata": {
      "needs_background": "light"
     },
     "output_type": "display_data"
    }
   ],
   "source": [
    "advert['last_price'].hist(bins=400, range=(0, 8e7))"
   ]
  },
  {
   "cell_type": "markdown",
   "metadata": {},
   "source": [
    "Для цены справедливо, что большинство обявлений расположено за отметкой о цене в 10,000,000, однако же хвост тянется почти до 80,000,000. Будет инетресно посмотреть на ящик с усами по этому параметру."
   ]
  },
  {
   "cell_type": "code",
   "execution_count": 39,
   "metadata": {},
   "outputs": [
    {
     "data": {
      "text/plain": [
       "<matplotlib.axes._subplots.AxesSubplot at 0x7f48bd1138d0>"
      ]
     },
     "execution_count": 39,
     "metadata": {},
     "output_type": "execute_result"
    },
    {
     "data": {
      "image/png": "[encoded data removed]",
      "text/plain": [
       "<Figure size 432x288 with 1 Axes>"
      ]
     },
     "metadata": {
      "needs_background": "light"
     },
     "output_type": "display_data"
    }
   ],
   "source": [
    "advert.boxplot('last_price')"
   ]
  },
  {
   "cell_type": "markdown",
   "metadata": {},
   "source": [
    "На boxplot'е видно огромное колчиество выбросов. Один достигаем 770.000.000, другие располагаются ниже отметки 440.000.000. Эти значения далеки даже от Q3, поэтому сам по себе график не сильно наглядный. Изменим масштаб."
   ]
  },
  {
   "cell_type": "code",
   "execution_count": 40,
   "metadata": {},
   "outputs": [
    {
     "data": {
      "text/plain": [
       "(0, 20000000.0)"
      ]
     },
     "execution_count": 40,
     "metadata": {},
     "output_type": "execute_result"
    },
    {
     "data": {
      "image/png": "[encoded data removed]",
      "text/plain": [
       "<Figure size 432x288 with 1 Axes>"
      ]
     },
     "metadata": {
      "needs_background": "light"
     },
     "output_type": "display_data"
    }
   ],
   "source": [
    "advert.boxplot('last_price')\n",
    "plt.ylim(0, 2e7)"
   ]
  },
  {
   "cell_type": "code",
   "execution_count": 41,
   "metadata": {},
   "outputs": [
    {
     "data": {
      "text/plain": [
       "<matplotlib.axes._subplots.AxesSubplot at 0x7f48bd00a2d0>"
      ]
     },
     "execution_count": 41,
     "metadata": {},
     "output_type": "execute_result"
    },
    {
     "data": {
      "image/png": "[encoded data removed]",
      "text/plain": [
       "<Figure size 432x288 with 1 Axes>"
      ]
     },
     "metadata": {
      "needs_background": "light"
     },
     "output_type": "display_data"
    }
   ],
   "source": [
    "advert['rooms'].hist(bins=40, range=(0, 21))"
   ]
  },
  {
   "cell_type": "code",
   "execution_count": 42,
   "metadata": {},
   "outputs": [
    {
     "data": {
      "text/plain": [
       "<matplotlib.axes._subplots.AxesSubplot at 0x7f48bcfa4690>"
      ]
     },
     "execution_count": 42,
     "metadata": {},
     "output_type": "execute_result"
    },
    {
     "data": {
      "image/png": "[encoded data removed]",
      "text/plain": [
       "<Figure size 432x288 with 1 Axes>"
      ]
     },
     "metadata": {
      "needs_background": "light"
     },
     "output_type": "display_data"
    }
   ],
   "source": [
    "advert.boxplot('rooms')"
   ]
  },
  {
   "cell_type": "markdown",
   "metadata": {},
   "source": [
    "С комнатами в квартирах все максимально очевидно, за исключением того, что на гистограмме не видны комнаты со значениями больше 9, так как их очень мало. А самый часто встречающийся вариант продажах - одно- и двухкомнатные квартиры. Трешек уже гораздо меньше, а студий (0 комнат) и от 5 комнат и выше минимальное колчиество."
   ]
  },
  {
   "cell_type": "code",
   "execution_count": 43,
   "metadata": {},
   "outputs": [
    {
     "data": {
      "text/plain": [
       "<matplotlib.axes._subplots.AxesSubplot at 0x7f48bced95d0>"
      ]
     },
     "execution_count": 43,
     "metadata": {},
     "output_type": "execute_result"
    },
    {
     "data": {
      "image/png": "[encoded data removed]",
      "text/plain": [
       "<Figure size 432x288 with 1 Axes>"
      ]
     },
     "metadata": {
      "needs_background": "light"
     },
     "output_type": "display_data"
    }
   ],
   "source": [
    "advert['ceiling_height'].hist(bins=200, range=(0, 10))"
   ]
  },
  {
   "cell_type": "code",
   "execution_count": 44,
   "metadata": {},
   "outputs": [
    {
     "data": {
      "text/plain": [
       "<matplotlib.axes._subplots.AxesSubplot at 0x7f48bcc24990>"
      ]
     },
     "execution_count": 44,
     "metadata": {},
     "output_type": "execute_result"
    },
    {
     "data": {
      "image/png": "[encoded data removed]",
      "text/plain": [
       "<Figure size 432x288 with 1 Axes>"
      ]
     },
     "metadata": {
      "needs_background": "light"
     },
     "output_type": "display_data"
    }
   ],
   "source": [
    "advert.query('ceiling_height < 4').boxplot('ceiling_height')"
   ]
  },
  {
   "cell_type": "markdown",
   "metadata": {},
   "source": [
    "Высота потолков в квартирах из объявлений самая и самая разная. И хоть мы и исключили два самых больших выброса (выброс в 200 м сделали мы сами, чтобы потом можно было легко его найти и исключить при фильтрации), из-за огромного хвоста все равно график boxplot не говорит нам о значении медианы и двух квартилей.\n",
    "Самые распротсраненные квартиры имеют высоту потолков примерно 2,6 - 2,8 м. Вариантов с потолками 4+ м можно по пальцам посчитать. Возможно здесь говорится о продаже частных домой или двухуровневых квартирах, которых не так много, отсюда и высокие потолки и так много комнат."
   ]
  },
  {
   "cell_type": "markdown",
   "metadata": {},
   "source": [
    "Каждая гиcтограмма представляет собой распределение Пуассона, где невозможны отрицательные значения. Оно берет начало на нуле и чем больше значение, тем реже оно встречается в наших данных."
   ]
  },
  {
   "cell_type": "markdown",
   "metadata": {},
   "source": [
    "### Шаг 5. Изучим время продажи квартиры. <a id=step5></a>\n",
    "Построим гистограмму. Посчитаем среднее и медиану.\n",
    "\n",
    "Ответим на вопросы:\n",
    "1. Сколько обычно занимает продажа? \n",
    "2. Когда можно считать, что продажи прошли очень быстро, а когда необычно долго?"
   ]
  },
  {
   "cell_type": "code",
   "execution_count": 45,
   "metadata": {},
   "outputs": [
    {
     "data": {
      "text/plain": [
       "days_exposition\n",
       "1       1\n",
       "2       3\n",
       "3     159\n",
       "4     174\n",
       "5     154\n",
       "6     125\n",
       "7     234\n",
       "8     139\n",
       "9     142\n",
       "10    127\n",
       "11    137\n",
       "12    108\n",
       "13    128\n",
       "14    148\n",
       "15    126\n",
       "16    100\n",
       "17    116\n",
       "18    129\n",
       "19    122\n",
       "20    139\n",
       "21    125\n",
       "22    125\n",
       "23    112\n",
       "24    117\n",
       "25     83\n",
       "26    104\n",
       "27    110\n",
       "28    125\n",
       "29    122\n",
       "30    208\n",
       "Name: days_exposition, dtype: int64"
      ]
     },
     "execution_count": 45,
     "metadata": {},
     "output_type": "execute_result"
    },
    {
     "data": {
      "image/png": "[encoded data removed]",
      "text/plain": [
       "<Figure size 432x288 with 1 Axes>"
      ]
     },
     "metadata": {
      "needs_background": "light"
     },
     "output_type": "display_data"
    }
   ],
   "source": [
    "advert['days_exposition'].hist(bins=100, range=(0, 2000))\n",
    "advert.groupby(by='days_exposition')[\n",
    "    'days_exposition'].count().head(30)"
   ]
  },
  {
   "cell_type": "markdown",
   "metadata": {},
   "source": [
    "Достаточно большое сосредоточение объявлений с количеством дней от 0 до 250 примерно, особенно странно, что их настолько много возле отметки 0.\n",
    "\n",
    "Самое больше количество обявление провисело меньше 50 дней, что достаточно мало для продажи квартиры (лично мое мнение).\n",
    "\n",
    "Начиная с объявлений, которые провиcели 250 дней и больше, хвост графика плавно уменьшается, а объявлений, которые провисели 1000 дней и более совсем небольшое количество (возможно, какие-то из них и правда долго продавались, но также есть вероятность, что просто забывали убрать его с сайта)."
   ]
  },
  {
   "cell_type": "code",
   "execution_count": 46,
   "metadata": {},
   "outputs": [
    {
     "data": {
      "text/plain": [
       "<matplotlib.axes._subplots.AxesSubplot at 0x7f48bcc48210>"
      ]
     },
     "execution_count": 46,
     "metadata": {},
     "output_type": "execute_result"
    },
    {
     "data": {
      "image/png": "[encoded data removed]",
      "text/plain": [
       "<Figure size 432x288 with 1 Axes>"
      ]
     },
     "metadata": {
      "needs_background": "light"
     },
     "output_type": "display_data"
    }
   ],
   "source": [
    "advert.query('days_exposition < 600').boxplot('days_exposition')"
   ]
  },
  {
   "cell_type": "code",
   "execution_count": 47,
   "metadata": {},
   "outputs": [
    {
     "data": {
      "text/plain": [
       "<matplotlib.axes._subplots.AxesSubplot at 0x7f48bc92d210>"
      ]
     },
     "execution_count": 47,
     "metadata": {},
     "output_type": "execute_result"
    },
    {
     "data": {
      "image/png": "[encoded data removed]",
      "text/plain": [
       "<Figure size 864x216 with 1 Axes>"
      ]
     },
     "metadata": {
      "needs_background": "light"
     },
     "output_type": "display_data"
    }
   ],
   "source": [
    "days_exposition_till_median = advert.query('days_exposition <= 221')\n",
    "days_exp_hist = days_exposition_till_median.groupby(by='days_exposition')[\n",
    "    'rooms'].count()\n",
    "days_exp_hist.plot(style='o-', grid=True, figsize=(12, 3))"
   ]
  },
  {
   "cell_type": "markdown",
   "metadata": {},
   "source": [
    "Видим сильные выбросы на тех или иных показателях. Так как они повторяются не с одной и той же частотой, то неверно предпогалать, что объявление автоматически деактивируется на сайте через определенные периоды времени. Эти обявления, которые закрывались массово в один и тот же день, скорее всего принадлежат риэлторам, которые сначала выставляли объявления и один день, а потом чистили базу в один день."
   ]
  },
  {
   "cell_type": "code",
   "execution_count": 48,
   "metadata": {},
   "outputs": [
    {
     "data": {
      "text/html": [
       "<div>\n",
       "<style scoped>\n",
       "    .dataframe tbody tr th:only-of-type {\n",
       "        vertical-align: middle;\n",
       "    }\n",
       "\n",
       "    .dataframe tbody tr th {\n",
       "        vertical-align: top;\n",
       "    }\n",
       "\n",
       "    .dataframe thead th {\n",
       "        text-align: right;\n",
       "    }\n",
       "</style>\n",
       "<table border=\"1\" class=\"dataframe\">\n",
       "  <thead>\n",
       "    <tr style=\"text-align: right;\">\n",
       "      <th></th>\n",
       "      <th>total_images</th>\n",
       "      <th>last_price</th>\n",
       "      <th>total_area</th>\n",
       "      <th>rooms</th>\n",
       "      <th>ceiling_height</th>\n",
       "      <th>floors_total</th>\n",
       "      <th>living_area</th>\n",
       "      <th>floor</th>\n",
       "      <th>kitchen_area</th>\n",
       "      <th>balcony</th>\n",
       "      <th>...</th>\n",
       "      <th>parks_nearest</th>\n",
       "      <th>ponds_around3000</th>\n",
       "      <th>ponds_nearest</th>\n",
       "      <th>days_exposition</th>\n",
       "      <th>sq_meter_price</th>\n",
       "      <th>weekday</th>\n",
       "      <th>month</th>\n",
       "      <th>year</th>\n",
       "      <th>kitchen_coeff</th>\n",
       "      <th>living_coeff</th>\n",
       "    </tr>\n",
       "  </thead>\n",
       "  <tbody>\n",
       "    <tr>\n",
       "      <td>count</td>\n",
       "      <td>23650.000000</td>\n",
       "      <td>2.365000e+04</td>\n",
       "      <td>23650.000000</td>\n",
       "      <td>23650.000000</td>\n",
       "      <td>23650.000000</td>\n",
       "      <td>23650.000000</td>\n",
       "      <td>21752.000000</td>\n",
       "      <td>23650.000000</td>\n",
       "      <td>23636.000000</td>\n",
       "      <td>23650.000000</td>\n",
       "      <td>...</td>\n",
       "      <td>23650.000000</td>\n",
       "      <td>23650.000000</td>\n",
       "      <td>23650.000000</td>\n",
       "      <td>23650.000000</td>\n",
       "      <td>2.365000e+04</td>\n",
       "      <td>23650.000000</td>\n",
       "      <td>23650.000000</td>\n",
       "      <td>23650.000000</td>\n",
       "      <td>23636.000000</td>\n",
       "      <td>21752.000000</td>\n",
       "    </tr>\n",
       "    <tr>\n",
       "      <td>mean</td>\n",
       "      <td>9.862326</td>\n",
       "      <td>6.541127e+06</td>\n",
       "      <td>60.329069</td>\n",
       "      <td>2.070106</td>\n",
       "      <td>3.616592</td>\n",
       "      <td>10.682452</td>\n",
       "      <td>34.448356</td>\n",
       "      <td>5.893277</td>\n",
       "      <td>9.600198</td>\n",
       "      <td>0.591712</td>\n",
       "      <td>...</td>\n",
       "      <td>25728.927397</td>\n",
       "      <td>20423.473150</td>\n",
       "      <td>21281.349872</td>\n",
       "      <td>222.170359</td>\n",
       "      <td>9.943225e+04</td>\n",
       "      <td>2.568710</td>\n",
       "      <td>6.401564</td>\n",
       "      <td>2017.370021</td>\n",
       "      <td>0.170395</td>\n",
       "      <td>0.564750</td>\n",
       "    </tr>\n",
       "    <tr>\n",
       "      <td>std</td>\n",
       "      <td>5.682278</td>\n",
       "      <td>1.089640e+07</td>\n",
       "      <td>35.661808</td>\n",
       "      <td>1.078620</td>\n",
       "      <td>13.215397</td>\n",
       "      <td>6.590616</td>\n",
       "      <td>22.037664</td>\n",
       "      <td>4.883317</td>\n",
       "      <td>6.365515</td>\n",
       "      <td>0.959662</td>\n",
       "      <td>...</td>\n",
       "      <td>43295.205911</td>\n",
       "      <td>40314.188123</td>\n",
       "      <td>40439.586629</td>\n",
       "      <td>660.351629</td>\n",
       "      <td>5.033794e+04</td>\n",
       "      <td>1.788808</td>\n",
       "      <td>3.491418</td>\n",
       "      <td>1.037806</td>\n",
       "      <td>0.087721</td>\n",
       "      <td>0.105385</td>\n",
       "    </tr>\n",
       "    <tr>\n",
       "      <td>min</td>\n",
       "      <td>0.000000</td>\n",
       "      <td>1.219000e+04</td>\n",
       "      <td>12.000000</td>\n",
       "      <td>0.000000</td>\n",
       "      <td>1.000000</td>\n",
       "      <td>1.000000</td>\n",
       "      <td>2.000000</td>\n",
       "      <td>1.000000</td>\n",
       "      <td>-7.200000</td>\n",
       "      <td>0.000000</td>\n",
       "      <td>...</td>\n",
       "      <td>1.000000</td>\n",
       "      <td>0.000000</td>\n",
       "      <td>13.000000</td>\n",
       "      <td>1.000000</td>\n",
       "      <td>1.118349e+02</td>\n",
       "      <td>0.000000</td>\n",
       "      <td>1.000000</td>\n",
       "      <td>2014.000000</td>\n",
       "      <td>-0.297521</td>\n",
       "      <td>0.021583</td>\n",
       "    </tr>\n",
       "    <tr>\n",
       "      <td>25%</td>\n",
       "      <td>6.000000</td>\n",
       "      <td>3.400000e+06</td>\n",
       "      <td>40.000000</td>\n",
       "      <td>1.000000</td>\n",
       "      <td>2.550000</td>\n",
       "      <td>5.000000</td>\n",
       "      <td>18.600000</td>\n",
       "      <td>2.000000</td>\n",
       "      <td>6.300000</td>\n",
       "      <td>0.000000</td>\n",
       "      <td>...</td>\n",
       "      <td>498.597886</td>\n",
       "      <td>0.000000</td>\n",
       "      <td>520.213955</td>\n",
       "      <td>45.000000</td>\n",
       "      <td>7.661497e+04</td>\n",
       "      <td>1.000000</td>\n",
       "      <td>3.000000</td>\n",
       "      <td>2017.000000</td>\n",
       "      <td>0.121212</td>\n",
       "      <td>0.495157</td>\n",
       "    </tr>\n",
       "    <tr>\n",
       "      <td>50%</td>\n",
       "      <td>9.000000</td>\n",
       "      <td>4.650000e+06</td>\n",
       "      <td>52.000000</td>\n",
       "      <td>2.000000</td>\n",
       "      <td>2.700000</td>\n",
       "      <td>9.000000</td>\n",
       "      <td>30.000000</td>\n",
       "      <td>4.000000</td>\n",
       "      <td>9.000000</td>\n",
       "      <td>0.000000</td>\n",
       "      <td>...</td>\n",
       "      <td>498.597886</td>\n",
       "      <td>1.000000</td>\n",
       "      <td>520.213955</td>\n",
       "      <td>120.000000</td>\n",
       "      <td>9.500000e+04</td>\n",
       "      <td>3.000000</td>\n",
       "      <td>6.000000</td>\n",
       "      <td>2017.000000</td>\n",
       "      <td>0.162331</td>\n",
       "      <td>0.567860</td>\n",
       "    </tr>\n",
       "    <tr>\n",
       "      <td>75%</td>\n",
       "      <td>14.000000</td>\n",
       "      <td>6.799000e+06</td>\n",
       "      <td>69.700000</td>\n",
       "      <td>3.000000</td>\n",
       "      <td>2.700000</td>\n",
       "      <td>16.000000</td>\n",
       "      <td>42.300000</td>\n",
       "      <td>8.000000</td>\n",
       "      <td>11.492500</td>\n",
       "      <td>1.000000</td>\n",
       "      <td>...</td>\n",
       "      <td>100000.000000</td>\n",
       "      <td>3.000000</td>\n",
       "      <td>888.000000</td>\n",
       "      <td>221.000000</td>\n",
       "      <td>1.142742e+05</td>\n",
       "      <td>4.000000</td>\n",
       "      <td>10.000000</td>\n",
       "      <td>2018.000000</td>\n",
       "      <td>0.223881</td>\n",
       "      <td>0.637778</td>\n",
       "    </tr>\n",
       "    <tr>\n",
       "      <td>max</td>\n",
       "      <td>50.000000</td>\n",
       "      <td>7.630000e+08</td>\n",
       "      <td>900.000000</td>\n",
       "      <td>19.000000</td>\n",
       "      <td>200.000000</td>\n",
       "      <td>60.000000</td>\n",
       "      <td>409.700000</td>\n",
       "      <td>33.000000</td>\n",
       "      <td>112.000000</td>\n",
       "      <td>5.000000</td>\n",
       "      <td>...</td>\n",
       "      <td>100000.000000</td>\n",
       "      <td>100000.000000</td>\n",
       "      <td>100000.000000</td>\n",
       "      <td>10000.000000</td>\n",
       "      <td>1.907500e+06</td>\n",
       "      <td>6.000000</td>\n",
       "      <td>12.000000</td>\n",
       "      <td>2019.000000</td>\n",
       "      <td>0.787879</td>\n",
       "      <td>1.000000</td>\n",
       "    </tr>\n",
       "  </tbody>\n",
       "</table>\n",
       "<p>8 rows × 23 columns</p>\n",
       "</div>"
      ],
      "text/plain": [
       "       total_images    last_price    total_area         rooms  ceiling_height  \\\n",
       "count  23650.000000  2.365000e+04  23650.000000  23650.000000    23650.000000   \n",
       "mean       9.862326  6.541127e+06     60.329069      2.070106        3.616592   \n",
       "std        5.682278  1.089640e+07     35.661808      1.078620       13.215397   \n",
       "min        0.000000  1.219000e+04     12.000000      0.000000        1.000000   \n",
       "25%        6.000000  3.400000e+06     40.000000      1.000000        2.550000   \n",
       "50%        9.000000  4.650000e+06     52.000000      2.000000        2.700000   \n",
       "75%       14.000000  6.799000e+06     69.700000      3.000000        2.700000   \n",
       "max       50.000000  7.630000e+08    900.000000     19.000000      200.000000   \n",
       "\n",
       "       floors_total   living_area         floor  kitchen_area       balcony  \\\n",
       "count  23650.000000  21752.000000  23650.000000  23636.000000  23650.000000   \n",
       "mean      10.682452     34.448356      5.893277      9.600198      0.591712   \n",
       "std        6.590616     22.037664      4.883317      6.365515      0.959662   \n",
       "min        1.000000      2.000000      1.000000     -7.200000      0.000000   \n",
       "25%        5.000000     18.600000      2.000000      6.300000      0.000000   \n",
       "50%        9.000000     30.000000      4.000000      9.000000      0.000000   \n",
       "75%       16.000000     42.300000      8.000000     11.492500      1.000000   \n",
       "max       60.000000    409.700000     33.000000    112.000000      5.000000   \n",
       "\n",
       "       ...  parks_nearest  ponds_around3000  ponds_nearest  days_exposition  \\\n",
       "count  ...   23650.000000      23650.000000   23650.000000     23650.000000   \n",
       "mean   ...   25728.927397      20423.473150   21281.349872       222.170359   \n",
       "std    ...   43295.205911      40314.188123   40439.586629       660.351629   \n",
       "min    ...       1.000000          0.000000      13.000000         1.000000   \n",
       "25%    ...     498.597886          0.000000     520.213955        45.000000   \n",
       "50%    ...     498.597886          1.000000     520.213955       120.000000   \n",
       "75%    ...  100000.000000          3.000000     888.000000       221.000000   \n",
       "max    ...  100000.000000     100000.000000  100000.000000     10000.000000   \n",
       "\n",
       "       sq_meter_price       weekday         month          year  \\\n",
       "count    2.365000e+04  23650.000000  23650.000000  23650.000000   \n",
       "mean     9.943225e+04      2.568710      6.401564   2017.370021   \n",
       "std      5.033794e+04      1.788808      3.491418      1.037806   \n",
       "min      1.118349e+02      0.000000      1.000000   2014.000000   \n",
       "25%      7.661497e+04      1.000000      3.000000   2017.000000   \n",
       "50%      9.500000e+04      3.000000      6.000000   2017.000000   \n",
       "75%      1.142742e+05      4.000000     10.000000   2018.000000   \n",
       "max      1.907500e+06      6.000000     12.000000   2019.000000   \n",
       "\n",
       "       kitchen_coeff  living_coeff  \n",
       "count   23636.000000  21752.000000  \n",
       "mean        0.170395      0.564750  \n",
       "std         0.087721      0.105385  \n",
       "min        -0.297521      0.021583  \n",
       "25%         0.121212      0.495157  \n",
       "50%         0.162331      0.567860  \n",
       "75%         0.223881      0.637778  \n",
       "max         0.787879      1.000000  \n",
       "\n",
       "[8 rows x 23 columns]"
      ]
     },
     "execution_count": 48,
     "metadata": {},
     "output_type": "execute_result"
    }
   ],
   "source": [
    "advert.describe()"
   ]
  },
  {
   "cell_type": "markdown",
   "metadata": {},
   "source": [
    "Первым выбивающимся значением - объявления с публикацией длительностью 45 дней, что является и и первым квартилем."
   ]
  },
  {
   "cell_type": "code",
   "execution_count": 49,
   "metadata": {},
   "outputs": [
    {
     "data": {
      "text/plain": [
       "0.15      30.00\n",
       "0.20      41.00\n",
       "0.75     221.00\n",
       "0.80     266.00\n",
       "0.85     336.00\n",
       "0.90     437.00\n",
       "0.95     627.00\n",
       "0.99    1135.51\n",
       "Name: days_exposition, dtype: float64"
      ]
     },
     "execution_count": 49,
     "metadata": {},
     "output_type": "execute_result"
    }
   ],
   "source": [
    "mean_median_table_exposition = advert.agg({'days_exposition':('median', 'mean')})\n",
    "mean_median_table_exposition\n",
    "advert['days_exposition'].quantile([0.15, 0.2, 0.75, 0.8, 0.85, 0.9, 0.95, 0.99])"
   ]
  },
  {
   "cell_type": "markdown",
   "metadata": {},
   "source": [
    "Среднее почти в два раза отличается от медианы: медиана - 3 месяца, среднее - более 7 месяцев.\n",
    "15% квартир уходят за 30 дней и меньше, поэтому именно порог будет являться быстрым сроком продажи квартиры.\n",
    "85% квартир уходит за 366 дней и меньше, поэтому все показатели выше 366 будем считать долгим.\n",
    "\n",
    "По значениям выше видим, что резкий скачок по длительности произошел после 95% квартир, именно эти 5% продавались необъяснимо долго."
   ]
  },
  {
   "cell_type": "markdown",
   "metadata": {},
   "source": [
    "### Уберем редкие и выбивающиеся значения. \n",
    "В этой части работы посмотрим и обработаем редкие и выбивающиеся значения в следующих столбцах:\n",
    "- Стоимость квартиры\n",
    "- Количество комнат в квартире\n",
    "- Площадь квартиры"
   ]
  },
  {
   "cell_type": "markdown",
   "metadata": {},
   "source": [
    "Создадим таблицу, в которой будем отсекать редкие и выбивающиеся значения."
   ]
  },
  {
   "cell_type": "code",
   "execution_count": 50,
   "metadata": {},
   "outputs": [
    {
     "data": {
      "text/html": [
       "<div>\n",
       "<style scoped>\n",
       "    .dataframe tbody tr th:only-of-type {\n",
       "        vertical-align: middle;\n",
       "    }\n",
       "\n",
       "    .dataframe tbody tr th {\n",
       "        vertical-align: top;\n",
       "    }\n",
       "\n",
       "    .dataframe thead th {\n",
       "        text-align: right;\n",
       "    }\n",
       "</style>\n",
       "<table border=\"1\" class=\"dataframe\">\n",
       "  <thead>\n",
       "    <tr style=\"text-align: right;\">\n",
       "      <th></th>\n",
       "      <th>last_price</th>\n",
       "      <th>total_area</th>\n",
       "      <th>living_area</th>\n",
       "      <th>kitchen_area</th>\n",
       "      <th>rooms</th>\n",
       "      <th>ceiling_height</th>\n",
       "      <th>floors_total</th>\n",
       "      <th>floor</th>\n",
       "      <th>locality_name</th>\n",
       "      <th>cityCenters_nearest</th>\n",
       "      <th>parks_around3000</th>\n",
       "      <th>parks_nearest</th>\n",
       "      <th>ponds_around3000</th>\n",
       "      <th>ponds_nearest</th>\n",
       "      <th>days_exposition</th>\n",
       "      <th>sq_meter_price</th>\n",
       "      <th>floor_type</th>\n",
       "      <th>weekday</th>\n",
       "      <th>month</th>\n",
       "      <th>year</th>\n",
       "    </tr>\n",
       "  </thead>\n",
       "  <tbody>\n",
       "    <tr>\n",
       "      <td>0</td>\n",
       "      <td>13000000.0</td>\n",
       "      <td>108.0</td>\n",
       "      <td>51.0</td>\n",
       "      <td>25.000000</td>\n",
       "      <td>3</td>\n",
       "      <td>2.70</td>\n",
       "      <td>16</td>\n",
       "      <td>8</td>\n",
       "      <td>Санкт-Петербург</td>\n",
       "      <td>16028.0</td>\n",
       "      <td>1</td>\n",
       "      <td>482.0</td>\n",
       "      <td>2</td>\n",
       "      <td>755.000000</td>\n",
       "      <td>205</td>\n",
       "      <td>120370.370370</td>\n",
       "      <td>другой</td>\n",
       "      <td>3</td>\n",
       "      <td>3</td>\n",
       "      <td>2019</td>\n",
       "    </tr>\n",
       "    <tr>\n",
       "      <td>1</td>\n",
       "      <td>3350000.0</td>\n",
       "      <td>40.4</td>\n",
       "      <td>18.6</td>\n",
       "      <td>11.000000</td>\n",
       "      <td>1</td>\n",
       "      <td>2.63</td>\n",
       "      <td>11</td>\n",
       "      <td>1</td>\n",
       "      <td>поселок Шушары</td>\n",
       "      <td>18603.0</td>\n",
       "      <td>0</td>\n",
       "      <td>100000.0</td>\n",
       "      <td>0</td>\n",
       "      <td>573.217105</td>\n",
       "      <td>81</td>\n",
       "      <td>82920.792079</td>\n",
       "      <td>первый</td>\n",
       "      <td>1</td>\n",
       "      <td>12</td>\n",
       "      <td>2018</td>\n",
       "    </tr>\n",
       "    <tr>\n",
       "      <td>2</td>\n",
       "      <td>5196000.0</td>\n",
       "      <td>56.0</td>\n",
       "      <td>34.3</td>\n",
       "      <td>8.300000</td>\n",
       "      <td>2</td>\n",
       "      <td>2.70</td>\n",
       "      <td>5</td>\n",
       "      <td>4</td>\n",
       "      <td>Санкт-Петербург</td>\n",
       "      <td>13933.0</td>\n",
       "      <td>1</td>\n",
       "      <td>90.0</td>\n",
       "      <td>2</td>\n",
       "      <td>574.000000</td>\n",
       "      <td>558</td>\n",
       "      <td>92785.714286</td>\n",
       "      <td>другой</td>\n",
       "      <td>3</td>\n",
       "      <td>8</td>\n",
       "      <td>2015</td>\n",
       "    </tr>\n",
       "    <tr>\n",
       "      <td>3</td>\n",
       "      <td>64900000.0</td>\n",
       "      <td>159.0</td>\n",
       "      <td>NaN</td>\n",
       "      <td>0.422771</td>\n",
       "      <td>3</td>\n",
       "      <td>2.70</td>\n",
       "      <td>14</td>\n",
       "      <td>9</td>\n",
       "      <td>Санкт-Петербург</td>\n",
       "      <td>6800.0</td>\n",
       "      <td>2</td>\n",
       "      <td>84.0</td>\n",
       "      <td>3</td>\n",
       "      <td>234.000000</td>\n",
       "      <td>424</td>\n",
       "      <td>408176.100629</td>\n",
       "      <td>другой</td>\n",
       "      <td>4</td>\n",
       "      <td>7</td>\n",
       "      <td>2015</td>\n",
       "    </tr>\n",
       "    <tr>\n",
       "      <td>4</td>\n",
       "      <td>10000000.0</td>\n",
       "      <td>100.0</td>\n",
       "      <td>32.0</td>\n",
       "      <td>41.000000</td>\n",
       "      <td>2</td>\n",
       "      <td>3.03</td>\n",
       "      <td>14</td>\n",
       "      <td>13</td>\n",
       "      <td>Санкт-Петербург</td>\n",
       "      <td>8098.0</td>\n",
       "      <td>2</td>\n",
       "      <td>112.0</td>\n",
       "      <td>1</td>\n",
       "      <td>48.000000</td>\n",
       "      <td>121</td>\n",
       "      <td>100000.000000</td>\n",
       "      <td>другой</td>\n",
       "      <td>1</td>\n",
       "      <td>6</td>\n",
       "      <td>2018</td>\n",
       "    </tr>\n",
       "  </tbody>\n",
       "</table>\n",
       "</div>"
      ],
      "text/plain": [
       "   last_price  total_area  living_area  kitchen_area  rooms  ceiling_height  \\\n",
       "0  13000000.0       108.0         51.0     25.000000      3            2.70   \n",
       "1   3350000.0        40.4         18.6     11.000000      1            2.63   \n",
       "2   5196000.0        56.0         34.3      8.300000      2            2.70   \n",
       "3  64900000.0       159.0          NaN      0.422771      3            2.70   \n",
       "4  10000000.0       100.0         32.0     41.000000      2            3.03   \n",
       "\n",
       "   floors_total  floor    locality_name  cityCenters_nearest  \\\n",
       "0            16      8  Санкт-Петербург              16028.0   \n",
       "1            11      1   поселок Шушары              18603.0   \n",
       "2             5      4  Санкт-Петербург              13933.0   \n",
       "3            14      9  Санкт-Петербург               6800.0   \n",
       "4            14     13  Санкт-Петербург               8098.0   \n",
       "\n",
       "   parks_around3000  parks_nearest  ponds_around3000  ponds_nearest  \\\n",
       "0                 1          482.0                 2     755.000000   \n",
       "1                 0       100000.0                 0     573.217105   \n",
       "2                 1           90.0                 2     574.000000   \n",
       "3                 2           84.0                 3     234.000000   \n",
       "4                 2          112.0                 1      48.000000   \n",
       "\n",
       "   days_exposition  sq_meter_price floor_type  weekday  month  year  \n",
       "0              205   120370.370370     другой        3      3  2019  \n",
       "1               81    82920.792079     первый        1     12  2018  \n",
       "2              558    92785.714286     другой        3      8  2015  \n",
       "3              424   408176.100629     другой        4      7  2015  \n",
       "4              121   100000.000000     другой        1      6  2018  "
      ]
     },
     "execution_count": 50,
     "metadata": {},
     "output_type": "execute_result"
    }
   ],
   "source": [
    "filt_data = advert[['last_price', 'total_area', 'living_area', 'kitchen_area', 'rooms', \n",
    "                   'ceiling_height', 'floors_total', 'floor', 'locality_name', 'cityCenters_nearest',\n",
    "                    'parks_around3000', 'parks_nearest', 'ponds_around3000', 'ponds_nearest',\n",
    "                    'days_exposition', 'sq_meter_price', 'floor_type', 'weekday', 'month', 'year']]\n",
    "filt_data.head()"
   ]
  },
  {
   "cell_type": "markdown",
   "metadata": {},
   "source": [
    "Посмотрим с помощью графика boxplot, какие значения выбиваются из общего строя в столбце со стоимостью и уберем их методом query()."
   ]
  },
  {
   "cell_type": "code",
   "execution_count": 51,
   "metadata": {
    "scrolled": true
   },
   "outputs": [
    {
     "data": {
      "text/plain": [
       "<matplotlib.axes._subplots.AxesSubplot at 0x7f48bcaa5910>"
      ]
     },
     "execution_count": 51,
     "metadata": {},
     "output_type": "execute_result"
    },
    {
     "data": {
      "image/png": "[encoded data removed]",
      "text/plain": [
       "<Figure size 432x288 with 1 Axes>"
      ]
     },
     "metadata": {
      "needs_background": "light"
     },
     "output_type": "display_data"
    }
   ],
   "source": [
    "filt_data.boxplot('last_price')"
   ]
  },
  {
   "cell_type": "code",
   "execution_count": 52,
   "metadata": {},
   "outputs": [
    {
     "data": {
      "text/plain": [
       "(23455, 20)"
      ]
     },
     "execution_count": 52,
     "metadata": {},
     "output_type": "execute_result"
    },
    {
     "data": {
      "image/png": "[encoded data removed]",
      "text/plain": [
       "<Figure size 432x288 with 1 Axes>"
      ]
     },
     "metadata": {
      "needs_background": "light"
     },
     "output_type": "display_data"
    }
   ],
   "source": [
    "filt_data = filt_data.query('1e5 <last_price < 4e7')\n",
    "filt_data.boxplot('last_price')\n",
    "filt_data.shape"
   ]
  },
  {
   "cell_type": "code",
   "execution_count": 53,
   "metadata": {},
   "outputs": [
    {
     "data": {
      "text/html": [
       "<div>\n",
       "<style scoped>\n",
       "    .dataframe tbody tr th:only-of-type {\n",
       "        vertical-align: middle;\n",
       "    }\n",
       "\n",
       "    .dataframe tbody tr th {\n",
       "        vertical-align: top;\n",
       "    }\n",
       "\n",
       "    .dataframe thead th {\n",
       "        text-align: right;\n",
       "    }\n",
       "</style>\n",
       "<table border=\"1\" class=\"dataframe\">\n",
       "  <thead>\n",
       "    <tr style=\"text-align: right;\">\n",
       "      <th></th>\n",
       "      <th>last_price</th>\n",
       "      <th>total_area</th>\n",
       "      <th>living_area</th>\n",
       "      <th>kitchen_area</th>\n",
       "      <th>rooms</th>\n",
       "      <th>ceiling_height</th>\n",
       "      <th>floors_total</th>\n",
       "      <th>floor</th>\n",
       "      <th>locality_name</th>\n",
       "      <th>cityCenters_nearest</th>\n",
       "      <th>parks_around3000</th>\n",
       "      <th>parks_nearest</th>\n",
       "      <th>ponds_around3000</th>\n",
       "      <th>ponds_nearest</th>\n",
       "      <th>days_exposition</th>\n",
       "      <th>sq_meter_price</th>\n",
       "      <th>floor_type</th>\n",
       "      <th>weekday</th>\n",
       "      <th>month</th>\n",
       "      <th>year</th>\n",
       "    </tr>\n",
       "  </thead>\n",
       "  <tbody>\n",
       "    <tr>\n",
       "      <td>14911</td>\n",
       "      <td>430000.0</td>\n",
       "      <td>54.0</td>\n",
       "      <td>NaN</td>\n",
       "      <td>0.348277</td>\n",
       "      <td>2</td>\n",
       "      <td>200.000</td>\n",
       "      <td>3</td>\n",
       "      <td>3</td>\n",
       "      <td>поселок станции Свирь</td>\n",
       "      <td>100000.0</td>\n",
       "      <td>100000</td>\n",
       "      <td>100000.0</td>\n",
       "      <td>100000</td>\n",
       "      <td>100000.0</td>\n",
       "      <td>44</td>\n",
       "      <td>7962.962963</td>\n",
       "      <td>последний</td>\n",
       "      <td>1</td>\n",
       "      <td>6</td>\n",
       "      <td>2018</td>\n",
       "    </tr>\n",
       "    <tr>\n",
       "      <td>17456</td>\n",
       "      <td>430000.0</td>\n",
       "      <td>30.4</td>\n",
       "      <td>16.0</td>\n",
       "      <td>6.000000</td>\n",
       "      <td>1</td>\n",
       "      <td>2.500</td>\n",
       "      <td>2</td>\n",
       "      <td>1</td>\n",
       "      <td>Сланцы</td>\n",
       "      <td>100000.0</td>\n",
       "      <td>100000</td>\n",
       "      <td>100000.0</td>\n",
       "      <td>100000</td>\n",
       "      <td>100000.0</td>\n",
       "      <td>176</td>\n",
       "      <td>14144.736842</td>\n",
       "      <td>первый</td>\n",
       "      <td>0</td>\n",
       "      <td>4</td>\n",
       "      <td>2019</td>\n",
       "    </tr>\n",
       "    <tr>\n",
       "      <td>16274</td>\n",
       "      <td>440000.0</td>\n",
       "      <td>40.0</td>\n",
       "      <td>NaN</td>\n",
       "      <td>0.249899</td>\n",
       "      <td>1</td>\n",
       "      <td>200.000</td>\n",
       "      <td>5</td>\n",
       "      <td>1</td>\n",
       "      <td>деревня Старополье</td>\n",
       "      <td>100000.0</td>\n",
       "      <td>100000</td>\n",
       "      <td>100000.0</td>\n",
       "      <td>100000</td>\n",
       "      <td>100000.0</td>\n",
       "      <td>45</td>\n",
       "      <td>11000.000000</td>\n",
       "      <td>первый</td>\n",
       "      <td>1</td>\n",
       "      <td>7</td>\n",
       "      <td>2018</td>\n",
       "    </tr>\n",
       "    <tr>\n",
       "      <td>17676</td>\n",
       "      <td>450000.0</td>\n",
       "      <td>36.5</td>\n",
       "      <td>17.3</td>\n",
       "      <td>8.500000</td>\n",
       "      <td>1</td>\n",
       "      <td>200.000</td>\n",
       "      <td>5</td>\n",
       "      <td>4</td>\n",
       "      <td>деревня Ям-Тесово</td>\n",
       "      <td>100000.0</td>\n",
       "      <td>100000</td>\n",
       "      <td>100000.0</td>\n",
       "      <td>100000</td>\n",
       "      <td>100000.0</td>\n",
       "      <td>120</td>\n",
       "      <td>12328.767123</td>\n",
       "      <td>другой</td>\n",
       "      <td>3</td>\n",
       "      <td>2</td>\n",
       "      <td>2018</td>\n",
       "    </tr>\n",
       "    <tr>\n",
       "      <td>16219</td>\n",
       "      <td>450000.0</td>\n",
       "      <td>38.5</td>\n",
       "      <td>NaN</td>\n",
       "      <td>0.348277</td>\n",
       "      <td>2</td>\n",
       "      <td>2.650</td>\n",
       "      <td>2</td>\n",
       "      <td>1</td>\n",
       "      <td>деревня Вахнова Кара</td>\n",
       "      <td>100000.0</td>\n",
       "      <td>100000</td>\n",
       "      <td>100000.0</td>\n",
       "      <td>100000</td>\n",
       "      <td>100000.0</td>\n",
       "      <td>45</td>\n",
       "      <td>11688.311688</td>\n",
       "      <td>первый</td>\n",
       "      <td>2</td>\n",
       "      <td>7</td>\n",
       "      <td>2018</td>\n",
       "    </tr>\n",
       "    <tr>\n",
       "      <td>9581</td>\n",
       "      <td>450000.0</td>\n",
       "      <td>43.4</td>\n",
       "      <td>30.3</td>\n",
       "      <td>5.500000</td>\n",
       "      <td>2</td>\n",
       "      <td>200.000</td>\n",
       "      <td>5</td>\n",
       "      <td>3</td>\n",
       "      <td>деревня Старополье</td>\n",
       "      <td>100000.0</td>\n",
       "      <td>100000</td>\n",
       "      <td>100000.0</td>\n",
       "      <td>100000</td>\n",
       "      <td>100000.0</td>\n",
       "      <td>96</td>\n",
       "      <td>10368.663594</td>\n",
       "      <td>другой</td>\n",
       "      <td>4</td>\n",
       "      <td>8</td>\n",
       "      <td>2018</td>\n",
       "    </tr>\n",
       "    <tr>\n",
       "      <td>5698</td>\n",
       "      <td>450000.0</td>\n",
       "      <td>42.0</td>\n",
       "      <td>23.0</td>\n",
       "      <td>5.800000</td>\n",
       "      <td>2</td>\n",
       "      <td>2.615</td>\n",
       "      <td>1</td>\n",
       "      <td>1</td>\n",
       "      <td>городской поселок Будогощь</td>\n",
       "      <td>100000.0</td>\n",
       "      <td>100000</td>\n",
       "      <td>100000.0</td>\n",
       "      <td>100000</td>\n",
       "      <td>100000.0</td>\n",
       "      <td>233</td>\n",
       "      <td>10714.285714</td>\n",
       "      <td>первый</td>\n",
       "      <td>0</td>\n",
       "      <td>7</td>\n",
       "      <td>2017</td>\n",
       "    </tr>\n",
       "    <tr>\n",
       "      <td>23484</td>\n",
       "      <td>470000.0</td>\n",
       "      <td>44.5</td>\n",
       "      <td>28.0</td>\n",
       "      <td>7.500000</td>\n",
       "      <td>2</td>\n",
       "      <td>2.500</td>\n",
       "      <td>2</td>\n",
       "      <td>2</td>\n",
       "      <td>Сланцы</td>\n",
       "      <td>100000.0</td>\n",
       "      <td>100000</td>\n",
       "      <td>100000.0</td>\n",
       "      <td>100000</td>\n",
       "      <td>100000.0</td>\n",
       "      <td>298</td>\n",
       "      <td>10561.797753</td>\n",
       "      <td>последний</td>\n",
       "      <td>0</td>\n",
       "      <td>7</td>\n",
       "      <td>2018</td>\n",
       "    </tr>\n",
       "    <tr>\n",
       "      <td>18867</td>\n",
       "      <td>470000.0</td>\n",
       "      <td>41.0</td>\n",
       "      <td>32.0</td>\n",
       "      <td>9.000000</td>\n",
       "      <td>1</td>\n",
       "      <td>200.000</td>\n",
       "      <td>5</td>\n",
       "      <td>3</td>\n",
       "      <td>деревня Выскатка</td>\n",
       "      <td>100000.0</td>\n",
       "      <td>100000</td>\n",
       "      <td>100000.0</td>\n",
       "      <td>100000</td>\n",
       "      <td>100000.0</td>\n",
       "      <td>46</td>\n",
       "      <td>11463.414634</td>\n",
       "      <td>другой</td>\n",
       "      <td>6</td>\n",
       "      <td>2</td>\n",
       "      <td>2018</td>\n",
       "    </tr>\n",
       "    <tr>\n",
       "      <td>21912</td>\n",
       "      <td>470000.0</td>\n",
       "      <td>37.0</td>\n",
       "      <td>NaN</td>\n",
       "      <td>0.249899</td>\n",
       "      <td>1</td>\n",
       "      <td>2.600</td>\n",
       "      <td>3</td>\n",
       "      <td>3</td>\n",
       "      <td>поселок Совхозный</td>\n",
       "      <td>100000.0</td>\n",
       "      <td>100000</td>\n",
       "      <td>100000.0</td>\n",
       "      <td>100000</td>\n",
       "      <td>100000.0</td>\n",
       "      <td>45</td>\n",
       "      <td>12702.702703</td>\n",
       "      <td>последний</td>\n",
       "      <td>6</td>\n",
       "      <td>2</td>\n",
       "      <td>2018</td>\n",
       "    </tr>\n",
       "    <tr>\n",
       "      <td>16032</td>\n",
       "      <td>480000.0</td>\n",
       "      <td>32.0</td>\n",
       "      <td>16.0</td>\n",
       "      <td>0.249899</td>\n",
       "      <td>1</td>\n",
       "      <td>2.500</td>\n",
       "      <td>2</td>\n",
       "      <td>1</td>\n",
       "      <td>Сланцы</td>\n",
       "      <td>100000.0</td>\n",
       "      <td>100000</td>\n",
       "      <td>100000.0</td>\n",
       "      <td>100000</td>\n",
       "      <td>100000.0</td>\n",
       "      <td>83</td>\n",
       "      <td>15000.000000</td>\n",
       "      <td>первый</td>\n",
       "      <td>6</td>\n",
       "      <td>1</td>\n",
       "      <td>2019</td>\n",
       "    </tr>\n",
       "    <tr>\n",
       "      <td>10782</td>\n",
       "      <td>490000.0</td>\n",
       "      <td>29.1</td>\n",
       "      <td>17.0</td>\n",
       "      <td>5.500000</td>\n",
       "      <td>1</td>\n",
       "      <td>2.500</td>\n",
       "      <td>5</td>\n",
       "      <td>5</td>\n",
       "      <td>Сланцы</td>\n",
       "      <td>100000.0</td>\n",
       "      <td>100000</td>\n",
       "      <td>100000.0</td>\n",
       "      <td>100000</td>\n",
       "      <td>100000.0</td>\n",
       "      <td>719</td>\n",
       "      <td>16838.487973</td>\n",
       "      <td>последний</td>\n",
       "      <td>3</td>\n",
       "      <td>5</td>\n",
       "      <td>2016</td>\n",
       "    </tr>\n",
       "    <tr>\n",
       "      <td>6859</td>\n",
       "      <td>490000.0</td>\n",
       "      <td>40.0</td>\n",
       "      <td>NaN</td>\n",
       "      <td>0.249899</td>\n",
       "      <td>1</td>\n",
       "      <td>200.000</td>\n",
       "      <td>5</td>\n",
       "      <td>3</td>\n",
       "      <td>деревня Старополье</td>\n",
       "      <td>100000.0</td>\n",
       "      <td>100000</td>\n",
       "      <td>100000.0</td>\n",
       "      <td>100000</td>\n",
       "      <td>100000.0</td>\n",
       "      <td>43</td>\n",
       "      <td>12250.000000</td>\n",
       "      <td>другой</td>\n",
       "      <td>0</td>\n",
       "      <td>12</td>\n",
       "      <td>2017</td>\n",
       "    </tr>\n",
       "    <tr>\n",
       "      <td>14295</td>\n",
       "      <td>500000.0</td>\n",
       "      <td>34.0</td>\n",
       "      <td>17.0</td>\n",
       "      <td>8.000000</td>\n",
       "      <td>1</td>\n",
       "      <td>2.500</td>\n",
       "      <td>5</td>\n",
       "      <td>4</td>\n",
       "      <td>поселок городского типа Никольский</td>\n",
       "      <td>100000.0</td>\n",
       "      <td>100000</td>\n",
       "      <td>100000.0</td>\n",
       "      <td>100000</td>\n",
       "      <td>100000.0</td>\n",
       "      <td>724</td>\n",
       "      <td>14705.882353</td>\n",
       "      <td>другой</td>\n",
       "      <td>1</td>\n",
       "      <td>2</td>\n",
       "      <td>2016</td>\n",
       "    </tr>\n",
       "    <tr>\n",
       "      <td>2097</td>\n",
       "      <td>500000.0</td>\n",
       "      <td>30.7</td>\n",
       "      <td>15.1</td>\n",
       "      <td>7.400000</td>\n",
       "      <td>1</td>\n",
       "      <td>200.000</td>\n",
       "      <td>2</td>\n",
       "      <td>2</td>\n",
       "      <td>деревня Чудской Бор</td>\n",
       "      <td>100000.0</td>\n",
       "      <td>100000</td>\n",
       "      <td>100000.0</td>\n",
       "      <td>100000</td>\n",
       "      <td>100000.0</td>\n",
       "      <td>10000</td>\n",
       "      <td>16286.644951</td>\n",
       "      <td>последний</td>\n",
       "      <td>1</td>\n",
       "      <td>4</td>\n",
       "      <td>2019</td>\n",
       "    </tr>\n",
       "  </tbody>\n",
       "</table>\n",
       "</div>"
      ],
      "text/plain": [
       "       last_price  total_area  living_area  kitchen_area  rooms  \\\n",
       "14911    430000.0        54.0          NaN      0.348277      2   \n",
       "17456    430000.0        30.4         16.0      6.000000      1   \n",
       "16274    440000.0        40.0          NaN      0.249899      1   \n",
       "17676    450000.0        36.5         17.3      8.500000      1   \n",
       "16219    450000.0        38.5          NaN      0.348277      2   \n",
       "9581     450000.0        43.4         30.3      5.500000      2   \n",
       "5698     450000.0        42.0         23.0      5.800000      2   \n",
       "23484    470000.0        44.5         28.0      7.500000      2   \n",
       "18867    470000.0        41.0         32.0      9.000000      1   \n",
       "21912    470000.0        37.0          NaN      0.249899      1   \n",
       "16032    480000.0        32.0         16.0      0.249899      1   \n",
       "10782    490000.0        29.1         17.0      5.500000      1   \n",
       "6859     490000.0        40.0          NaN      0.249899      1   \n",
       "14295    500000.0        34.0         17.0      8.000000      1   \n",
       "2097     500000.0        30.7         15.1      7.400000      1   \n",
       "\n",
       "       ceiling_height  floors_total  floor  \\\n",
       "14911         200.000             3      3   \n",
       "17456           2.500             2      1   \n",
       "16274         200.000             5      1   \n",
       "17676         200.000             5      4   \n",
       "16219           2.650             2      1   \n",
       "9581          200.000             5      3   \n",
       "5698            2.615             1      1   \n",
       "23484           2.500             2      2   \n",
       "18867         200.000             5      3   \n",
       "21912           2.600             3      3   \n",
       "16032           2.500             2      1   \n",
       "10782           2.500             5      5   \n",
       "6859          200.000             5      3   \n",
       "14295           2.500             5      4   \n",
       "2097          200.000             2      2   \n",
       "\n",
       "                            locality_name  cityCenters_nearest  \\\n",
       "14911               поселок станции Свирь             100000.0   \n",
       "17456                              Сланцы             100000.0   \n",
       "16274                  деревня Старополье             100000.0   \n",
       "17676                   деревня Ям-Тесово             100000.0   \n",
       "16219                деревня Вахнова Кара             100000.0   \n",
       "9581                   деревня Старополье             100000.0   \n",
       "5698           городской поселок Будогощь             100000.0   \n",
       "23484                              Сланцы             100000.0   \n",
       "18867                    деревня Выскатка             100000.0   \n",
       "21912                   поселок Совхозный             100000.0   \n",
       "16032                              Сланцы             100000.0   \n",
       "10782                              Сланцы             100000.0   \n",
       "6859                   деревня Старополье             100000.0   \n",
       "14295  поселок городского типа Никольский             100000.0   \n",
       "2097                  деревня Чудской Бор             100000.0   \n",
       "\n",
       "       parks_around3000  parks_nearest  ponds_around3000  ponds_nearest  \\\n",
       "14911            100000       100000.0            100000       100000.0   \n",
       "17456            100000       100000.0            100000       100000.0   \n",
       "16274            100000       100000.0            100000       100000.0   \n",
       "17676            100000       100000.0            100000       100000.0   \n",
       "16219            100000       100000.0            100000       100000.0   \n",
       "9581             100000       100000.0            100000       100000.0   \n",
       "5698             100000       100000.0            100000       100000.0   \n",
       "23484            100000       100000.0            100000       100000.0   \n",
       "18867            100000       100000.0            100000       100000.0   \n",
       "21912            100000       100000.0            100000       100000.0   \n",
       "16032            100000       100000.0            100000       100000.0   \n",
       "10782            100000       100000.0            100000       100000.0   \n",
       "6859             100000       100000.0            100000       100000.0   \n",
       "14295            100000       100000.0            100000       100000.0   \n",
       "2097             100000       100000.0            100000       100000.0   \n",
       "\n",
       "       days_exposition  sq_meter_price floor_type  weekday  month  year  \n",
       "14911               44     7962.962963  последний        1      6  2018  \n",
       "17456              176    14144.736842     первый        0      4  2019  \n",
       "16274               45    11000.000000     первый        1      7  2018  \n",
       "17676              120    12328.767123     другой        3      2  2018  \n",
       "16219               45    11688.311688     первый        2      7  2018  \n",
       "9581                96    10368.663594     другой        4      8  2018  \n",
       "5698               233    10714.285714     первый        0      7  2017  \n",
       "23484              298    10561.797753  последний        0      7  2018  \n",
       "18867               46    11463.414634     другой        6      2  2018  \n",
       "21912               45    12702.702703  последний        6      2  2018  \n",
       "16032               83    15000.000000     первый        6      1  2019  \n",
       "10782              719    16838.487973  последний        3      5  2016  \n",
       "6859                43    12250.000000     другой        0     12  2017  \n",
       "14295              724    14705.882353     другой        1      2  2016  \n",
       "2097             10000    16286.644951  последний        1      4  2019  "
      ]
     },
     "execution_count": 53,
     "metadata": {},
     "output_type": "execute_result"
    }
   ],
   "source": [
    "filt_data.sort_values('last_price').head(15)"
   ]
  },
  {
   "cell_type": "code",
   "execution_count": 54,
   "metadata": {},
   "outputs": [
    {
     "data": {
      "text/plain": [
       "1     8034\n",
       "2     7912\n",
       "3     5742\n",
       "4     1130\n",
       "5      286\n",
       "0      196\n",
       "6       89\n",
       "7       43\n",
       "8        9\n",
       "9        6\n",
       "14       2\n",
       "11       2\n",
       "10       2\n",
       "19       1\n",
       "16       1\n",
       "Name: rooms, dtype: int64"
      ]
     },
     "execution_count": 54,
     "metadata": {},
     "output_type": "execute_result"
    }
   ],
   "source": [
    "filt_data['rooms'].value_counts()"
   ]
  },
  {
   "cell_type": "markdown",
   "metadata": {},
   "source": [
    "Таким образом мы оставили только те квартиры, которые стоят не ниже 100 000 и не выше 40 млн, так как такая стоимость уже не является редкостью и не так сильно выбивается по сравнению с ценами вроде 12 000 или 200 млн. за квартиру."
   ]
  },
  {
   "cell_type": "code",
   "execution_count": 55,
   "metadata": {},
   "outputs": [
    {
     "data": {
      "text/plain": [
       "(23432, 20)"
      ]
     },
     "execution_count": 55,
     "metadata": {},
     "output_type": "execute_result"
    },
    {
     "data": {
      "image/png": "[encoded data removed]",
      "text/plain": [
       "<Figure size 432x288 with 1 Axes>"
      ]
     },
     "metadata": {
      "needs_background": "light"
     },
     "output_type": "display_data"
    }
   ],
   "source": [
    "# Теперь уберем выбивающиеся значения в столбце количество комнат\n",
    "# оставим только те, где 7 комнат и меньше.\n",
    "\n",
    "filt_data = filt_data.query('rooms <= 7')\n",
    "filt_data.boxplot('rooms')\n",
    "filt_data.shape"
   ]
  },
  {
   "cell_type": "code",
   "execution_count": 56,
   "metadata": {},
   "outputs": [
    {
     "data": {
      "text/plain": [
       "array([[<matplotlib.axes._subplots.AxesSubplot object at 0x7f48bc9df590>]],\n",
       "      dtype=object)"
      ]
     },
     "execution_count": 56,
     "metadata": {},
     "output_type": "execute_result"
    },
    {
     "data": {
      "image/png": "[encoded data removed]",
      "text/plain": [
       "<Figure size 432x288 with 1 Axes>"
      ]
     },
     "metadata": {
      "needs_background": "light"
     },
     "output_type": "display_data"
    }
   ],
   "source": [
    "filt_data.hist('rooms', bins=100)"
   ]
  },
  {
   "cell_type": "code",
   "execution_count": 57,
   "metadata": {},
   "outputs": [
    {
     "data": {
      "text/html": [
       "<div>\n",
       "<style scoped>\n",
       "    .dataframe tbody tr th:only-of-type {\n",
       "        vertical-align: middle;\n",
       "    }\n",
       "\n",
       "    .dataframe tbody tr th {\n",
       "        vertical-align: top;\n",
       "    }\n",
       "\n",
       "    .dataframe thead th {\n",
       "        text-align: right;\n",
       "    }\n",
       "</style>\n",
       "<table border=\"1\" class=\"dataframe\">\n",
       "  <thead>\n",
       "    <tr style=\"text-align: right;\">\n",
       "      <th></th>\n",
       "      <th>last_price</th>\n",
       "      <th>total_area</th>\n",
       "      <th>living_area</th>\n",
       "      <th>kitchen_area</th>\n",
       "      <th>rooms</th>\n",
       "      <th>ceiling_height</th>\n",
       "      <th>floors_total</th>\n",
       "      <th>floor</th>\n",
       "      <th>locality_name</th>\n",
       "      <th>cityCenters_nearest</th>\n",
       "      <th>parks_around3000</th>\n",
       "      <th>parks_nearest</th>\n",
       "      <th>ponds_around3000</th>\n",
       "      <th>ponds_nearest</th>\n",
       "      <th>days_exposition</th>\n",
       "      <th>sq_meter_price</th>\n",
       "      <th>floor_type</th>\n",
       "      <th>weekday</th>\n",
       "      <th>month</th>\n",
       "      <th>year</th>\n",
       "    </tr>\n",
       "  </thead>\n",
       "  <tbody>\n",
       "    <tr>\n",
       "      <td>19904</td>\n",
       "      <td>2400000.0</td>\n",
       "      <td>12.0</td>\n",
       "      <td>10.0</td>\n",
       "      <td>0.249899</td>\n",
       "      <td>1</td>\n",
       "      <td>2.55</td>\n",
       "      <td>5</td>\n",
       "      <td>2</td>\n",
       "      <td>Санкт-Петербург</td>\n",
       "      <td>964.0</td>\n",
       "      <td>1</td>\n",
       "      <td>886.000000</td>\n",
       "      <td>2</td>\n",
       "      <td>45.000000</td>\n",
       "      <td>200</td>\n",
       "      <td>200000.000000</td>\n",
       "      <td>другой</td>\n",
       "      <td>2</td>\n",
       "      <td>7</td>\n",
       "      <td>2017</td>\n",
       "    </tr>\n",
       "    <tr>\n",
       "      <td>19807</td>\n",
       "      <td>3800000.0</td>\n",
       "      <td>13.0</td>\n",
       "      <td>10.0</td>\n",
       "      <td>0.249899</td>\n",
       "      <td>1</td>\n",
       "      <td>2.70</td>\n",
       "      <td>5</td>\n",
       "      <td>3</td>\n",
       "      <td>Санкт-Петербург</td>\n",
       "      <td>1242.0</td>\n",
       "      <td>1</td>\n",
       "      <td>592.000000</td>\n",
       "      <td>3</td>\n",
       "      <td>27.000000</td>\n",
       "      <td>9</td>\n",
       "      <td>292307.692308</td>\n",
       "      <td>другой</td>\n",
       "      <td>2</td>\n",
       "      <td>7</td>\n",
       "      <td>2018</td>\n",
       "    </tr>\n",
       "    <tr>\n",
       "      <td>19546</td>\n",
       "      <td>1850000.0</td>\n",
       "      <td>13.0</td>\n",
       "      <td>NaN</td>\n",
       "      <td>0.249899</td>\n",
       "      <td>1</td>\n",
       "      <td>3.40</td>\n",
       "      <td>5</td>\n",
       "      <td>2</td>\n",
       "      <td>Санкт-Петербург</td>\n",
       "      <td>5483.0</td>\n",
       "      <td>1</td>\n",
       "      <td>644.000000</td>\n",
       "      <td>0</td>\n",
       "      <td>520.213955</td>\n",
       "      <td>24</td>\n",
       "      <td>142307.692308</td>\n",
       "      <td>другой</td>\n",
       "      <td>0</td>\n",
       "      <td>3</td>\n",
       "      <td>2019</td>\n",
       "    </tr>\n",
       "    <tr>\n",
       "      <td>17961</td>\n",
       "      <td>1400000.0</td>\n",
       "      <td>13.0</td>\n",
       "      <td>NaN</td>\n",
       "      <td>0.249899</td>\n",
       "      <td>1</td>\n",
       "      <td>2.60</td>\n",
       "      <td>9</td>\n",
       "      <td>1</td>\n",
       "      <td>Санкт-Петербург</td>\n",
       "      <td>15945.0</td>\n",
       "      <td>0</td>\n",
       "      <td>498.597886</td>\n",
       "      <td>1</td>\n",
       "      <td>185.000000</td>\n",
       "      <td>410</td>\n",
       "      <td>107692.307692</td>\n",
       "      <td>первый</td>\n",
       "      <td>6</td>\n",
       "      <td>12</td>\n",
       "      <td>2017</td>\n",
       "    </tr>\n",
       "    <tr>\n",
       "      <td>19558</td>\n",
       "      <td>1686000.0</td>\n",
       "      <td>13.2</td>\n",
       "      <td>NaN</td>\n",
       "      <td>0.249899</td>\n",
       "      <td>1</td>\n",
       "      <td>2.70</td>\n",
       "      <td>5</td>\n",
       "      <td>1</td>\n",
       "      <td>Санкт-Петербург</td>\n",
       "      <td>4165.0</td>\n",
       "      <td>1</td>\n",
       "      <td>361.000000</td>\n",
       "      <td>1</td>\n",
       "      <td>155.000000</td>\n",
       "      <td>19</td>\n",
       "      <td>127727.272727</td>\n",
       "      <td>первый</td>\n",
       "      <td>0</td>\n",
       "      <td>12</td>\n",
       "      <td>2018</td>\n",
       "    </tr>\n",
       "    <tr>\n",
       "      <td>19642</td>\n",
       "      <td>1190000.0</td>\n",
       "      <td>14.0</td>\n",
       "      <td>11.0</td>\n",
       "      <td>2.000000</td>\n",
       "      <td>1</td>\n",
       "      <td>2.70</td>\n",
       "      <td>5</td>\n",
       "      <td>1</td>\n",
       "      <td>Санкт-Петербург</td>\n",
       "      <td>11122.0</td>\n",
       "      <td>0</td>\n",
       "      <td>498.597886</td>\n",
       "      <td>0</td>\n",
       "      <td>520.213955</td>\n",
       "      <td>4</td>\n",
       "      <td>85000.000000</td>\n",
       "      <td>первый</td>\n",
       "      <td>6</td>\n",
       "      <td>7</td>\n",
       "      <td>2018</td>\n",
       "    </tr>\n",
       "    <tr>\n",
       "      <td>12040</td>\n",
       "      <td>1900000.0</td>\n",
       "      <td>15.0</td>\n",
       "      <td>NaN</td>\n",
       "      <td>0.249899</td>\n",
       "      <td>1</td>\n",
       "      <td>2.50</td>\n",
       "      <td>5</td>\n",
       "      <td>1</td>\n",
       "      <td>Сосновый Бор</td>\n",
       "      <td>100000.0</td>\n",
       "      <td>100000</td>\n",
       "      <td>100000.000000</td>\n",
       "      <td>100000</td>\n",
       "      <td>100000.000000</td>\n",
       "      <td>45</td>\n",
       "      <td>126666.666667</td>\n",
       "      <td>первый</td>\n",
       "      <td>2</td>\n",
       "      <td>6</td>\n",
       "      <td>2018</td>\n",
       "    </tr>\n",
       "    <tr>\n",
       "      <td>16949</td>\n",
       "      <td>1550000.0</td>\n",
       "      <td>15.0</td>\n",
       "      <td>NaN</td>\n",
       "      <td>0.249899</td>\n",
       "      <td>1</td>\n",
       "      <td>2.70</td>\n",
       "      <td>9</td>\n",
       "      <td>1</td>\n",
       "      <td>Санкт-Петербург</td>\n",
       "      <td>16376.0</td>\n",
       "      <td>0</td>\n",
       "      <td>498.597886</td>\n",
       "      <td>1</td>\n",
       "      <td>1079.000000</td>\n",
       "      <td>42</td>\n",
       "      <td>103333.333333</td>\n",
       "      <td>первый</td>\n",
       "      <td>1</td>\n",
       "      <td>8</td>\n",
       "      <td>2018</td>\n",
       "    </tr>\n",
       "    <tr>\n",
       "      <td>8886</td>\n",
       "      <td>2450000.0</td>\n",
       "      <td>15.5</td>\n",
       "      <td>10.0</td>\n",
       "      <td>-1.700000</td>\n",
       "      <td>0</td>\n",
       "      <td>2.70</td>\n",
       "      <td>5</td>\n",
       "      <td>2</td>\n",
       "      <td>Санкт-Петербург</td>\n",
       "      <td>4589.0</td>\n",
       "      <td>0</td>\n",
       "      <td>498.597886</td>\n",
       "      <td>1</td>\n",
       "      <td>446.000000</td>\n",
       "      <td>27</td>\n",
       "      <td>158064.516129</td>\n",
       "      <td>другой</td>\n",
       "      <td>2</td>\n",
       "      <td>8</td>\n",
       "      <td>2018</td>\n",
       "    </tr>\n",
       "    <tr>\n",
       "      <td>9412</td>\n",
       "      <td>2100000.0</td>\n",
       "      <td>16.0</td>\n",
       "      <td>13.0</td>\n",
       "      <td>-4.200000</td>\n",
       "      <td>0</td>\n",
       "      <td>2.70</td>\n",
       "      <td>6</td>\n",
       "      <td>1</td>\n",
       "      <td>Санкт-Петербург</td>\n",
       "      <td>2111.0</td>\n",
       "      <td>2</td>\n",
       "      <td>228.000000</td>\n",
       "      <td>3</td>\n",
       "      <td>72.000000</td>\n",
       "      <td>3</td>\n",
       "      <td>131250.000000</td>\n",
       "      <td>первый</td>\n",
       "      <td>6</td>\n",
       "      <td>12</td>\n",
       "      <td>2017</td>\n",
       "    </tr>\n",
       "  </tbody>\n",
       "</table>\n",
       "</div>"
      ],
      "text/plain": [
       "       last_price  total_area  living_area  kitchen_area  rooms  \\\n",
       "19904   2400000.0        12.0         10.0      0.249899      1   \n",
       "19807   3800000.0        13.0         10.0      0.249899      1   \n",
       "19546   1850000.0        13.0          NaN      0.249899      1   \n",
       "17961   1400000.0        13.0          NaN      0.249899      1   \n",
       "19558   1686000.0        13.2          NaN      0.249899      1   \n",
       "19642   1190000.0        14.0         11.0      2.000000      1   \n",
       "12040   1900000.0        15.0          NaN      0.249899      1   \n",
       "16949   1550000.0        15.0          NaN      0.249899      1   \n",
       "8886    2450000.0        15.5         10.0     -1.700000      0   \n",
       "9412    2100000.0        16.0         13.0     -4.200000      0   \n",
       "\n",
       "       ceiling_height  floors_total  floor    locality_name  \\\n",
       "19904            2.55             5      2  Санкт-Петербург   \n",
       "19807            2.70             5      3  Санкт-Петербург   \n",
       "19546            3.40             5      2  Санкт-Петербург   \n",
       "17961            2.60             9      1  Санкт-Петербург   \n",
       "19558            2.70             5      1  Санкт-Петербург   \n",
       "19642            2.70             5      1  Санкт-Петербург   \n",
       "12040            2.50             5      1     Сосновый Бор   \n",
       "16949            2.70             9      1  Санкт-Петербург   \n",
       "8886             2.70             5      2  Санкт-Петербург   \n",
       "9412             2.70             6      1  Санкт-Петербург   \n",
       "\n",
       "       cityCenters_nearest  parks_around3000  parks_nearest  ponds_around3000  \\\n",
       "19904                964.0                 1     886.000000                 2   \n",
       "19807               1242.0                 1     592.000000                 3   \n",
       "19546               5483.0                 1     644.000000                 0   \n",
       "17961              15945.0                 0     498.597886                 1   \n",
       "19558               4165.0                 1     361.000000                 1   \n",
       "19642              11122.0                 0     498.597886                 0   \n",
       "12040             100000.0            100000  100000.000000            100000   \n",
       "16949              16376.0                 0     498.597886                 1   \n",
       "8886                4589.0                 0     498.597886                 1   \n",
       "9412                2111.0                 2     228.000000                 3   \n",
       "\n",
       "       ponds_nearest  days_exposition  sq_meter_price floor_type  weekday  \\\n",
       "19904      45.000000              200   200000.000000     другой        2   \n",
       "19807      27.000000                9   292307.692308     другой        2   \n",
       "19546     520.213955               24   142307.692308     другой        0   \n",
       "17961     185.000000              410   107692.307692     первый        6   \n",
       "19558     155.000000               19   127727.272727     первый        0   \n",
       "19642     520.213955                4    85000.000000     первый        6   \n",
       "12040  100000.000000               45   126666.666667     первый        2   \n",
       "16949    1079.000000               42   103333.333333     первый        1   \n",
       "8886      446.000000               27   158064.516129     другой        2   \n",
       "9412       72.000000                3   131250.000000     первый        6   \n",
       "\n",
       "       month  year  \n",
       "19904      7  2017  \n",
       "19807      7  2018  \n",
       "19546      3  2019  \n",
       "17961     12  2017  \n",
       "19558     12  2018  \n",
       "19642      7  2018  \n",
       "12040      6  2018  \n",
       "16949      8  2018  \n",
       "8886       8  2018  \n",
       "9412      12  2017  "
      ]
     },
     "execution_count": 57,
     "metadata": {},
     "output_type": "execute_result"
    }
   ],
   "source": [
    "# Теперь посмотрим на площадь квартир.\n",
    "\n",
    "filt_data.sort_values('total_area').head(10)"
   ]
  },
  {
   "cell_type": "markdown",
   "metadata": {},
   "source": [
    "Интересно в некоторых случаях, что жилая площадь несильно отличается от общей площади. Предположим, что это могут быть отдельные комнаты в коммунальных квартирах."
   ]
  },
  {
   "cell_type": "code",
   "execution_count": 58,
   "metadata": {},
   "outputs": [
    {
     "data": {
      "text/plain": [
       "(23432, 20)"
      ]
     },
     "execution_count": 58,
     "metadata": {},
     "output_type": "execute_result"
    },
    {
     "data": {
      "image/png": "[encoded data removed]",
      "text/plain": [
       "<Figure size 432x288 with 1 Axes>"
      ]
     },
     "metadata": {
      "needs_background": "light"
     },
     "output_type": "display_data"
    }
   ],
   "source": [
    "filt_data.boxplot('total_area')\n",
    "filt_data.shape"
   ]
  },
  {
   "cell_type": "code",
   "execution_count": 59,
   "metadata": {},
   "outputs": [
    {
     "data": {
      "text/plain": [
       "0.25     40.000\n",
       "0.50     51.800\n",
       "0.75     68.900\n",
       "0.90     91.000\n",
       "0.99    169.407\n",
       "1.00    470.300\n",
       "Name: total_area, dtype: float64"
      ]
     },
     "execution_count": 59,
     "metadata": {},
     "output_type": "execute_result"
    }
   ],
   "source": [
    "filt_data.describe()\n",
    "filt_data['total_area'].quantile([0.25, 0.5, 0.75, 0.9, 0.99, 1])"
   ]
  },
  {
   "cell_type": "code",
   "execution_count": 60,
   "metadata": {},
   "outputs": [
    {
     "data": {
      "text/plain": [
       "(22916, 20)"
      ]
     },
     "execution_count": 60,
     "metadata": {},
     "output_type": "execute_result"
    },
    {
     "data": {
      "image/png": "[encoded data removed]",
      "text/plain": [
       "<Figure size 432x288 with 1 Axes>"
      ]
     },
     "metadata": {
      "needs_background": "light"
     },
     "output_type": "display_data"
    }
   ],
   "source": [
    "# В данном случае отсечем 1%, то есть все квартиры с площадью, больше 140 м.\n",
    "\n",
    "filt_data = filt_data.query('total_area < 140')\n",
    "filt_data.boxplot('total_area')\n",
    "filt_data.shape"
   ]
  },
  {
   "cell_type": "markdown",
   "metadata": {},
   "source": [
    "### Какие факторы больше всего влияют на стоимость квартиры? <a id=step6></a>\n",
    "Зависимость цены от квадратного метра, числа комнат, удалённости от центра. Изучим зависимость цены от того, на каком этаже расположена квартира: первом, последнем или другом. Также посмотрим зависимость от даты размещения: дня недели, месяца и года."
   ]
  },
  {
   "cell_type": "code",
   "execution_count": 62,
   "metadata": {},
   "outputs": [
    {
     "data": {
      "text/plain": [
       "0.7318235645304929"
      ]
     },
     "execution_count": 62,
     "metadata": {},
     "output_type": "execute_result"
    },
    {
     "data": {
      "image/png": "[encoded data removed]",
      "text/plain": [
       "<Figure size 864x432 with 1 Axes>"
      ]
     },
     "metadata": {
      "needs_background": "light"
     },
     "output_type": "display_data"
    }
   ],
   "source": [
    "filt_data.plot(x='total_area', y='last_price', style='o', \n",
    "            grid=True, kind='scatter', alpha=0.2, figsize=(12, 6))\n",
    "\n",
    "# Очевидна положительная корреляция, но интересно узнать, насколько она сильная\n",
    "# для этого посчитаем коэффицент корреляции Пирсона\n",
    "\n",
    "filt_data['total_area'].corr(filt_data['last_price'])"
   ]
  },
  {
   "cell_type": "markdown",
   "metadata": {},
   "source": [
    "Значение коэффицента 0.75 - достаточно высокое, чтобы указывать на наличие зависимости между этими двумя показателями."
   ]
  },
  {
   "cell_type": "code",
   "execution_count": 63,
   "metadata": {},
   "outputs": [
    {
     "name": "stderr",
     "output_type": "stream",
     "text": [
      "/opt/conda/lib/python3.7/site-packages/numpy/core/_asarray.py:83: VisibleDeprecationWarning: Creating an ndarray from ragged nested sequences (which is a list-or-tuple of lists-or-tuples-or ndarrays with different lengths or shapes) is deprecated. If you meant to do this, you must specify 'dtype=object' when creating the ndarray\n",
      "  return array(a, dtype, copy=False, order=order)\n"
     ]
    },
    {
     "data": {
      "text/plain": [
       "0.4299030914374781"
      ]
     },
     "execution_count": 63,
     "metadata": {},
     "output_type": "execute_result"
    },
    {
     "data": {
      "image/png": "[encoded data removed]",
      "text/plain": [
       "<Figure size 720x360 with 1 Axes>"
      ]
     },
     "metadata": {
      "needs_background": "light"
     },
     "output_type": "display_data"
    }
   ],
   "source": [
    "filt_data.boxplot('last_price', by='rooms', figsize=(10, 5))\n",
    "\n",
    "# Аналогично найдем коэффицент корреляции и для этой пары.\n",
    "\n",
    "filt_data['rooms'].corr(filt_data['last_price'])"
   ]
  },
  {
   "cell_type": "markdown",
   "metadata": {},
   "source": [
    "Вполне ожидаемо, что с увеличением количества комнат в квартире, цена также увеличивается. Однако стоит отметить, что тут скорее будет влиять площадь занимаемая квартирой, нежели количество комнат, так как квартира с 1 большой комнатой и просторной кухней может оказаться побольше некоторых 3-комнатных квартир.\n",
    "\n",
    "Интересно, что минимальная стоимость квартир с 0 комнат чуть выше по сравнению с 1-, 2- и даже 3-комнатными квартирами, их стоимость начинается примерно как для 4-комнатной квартиры. Возможно, это квартиры с супер большой площадью в центре Петербурга, а возможно были слишком плохие варианты 1, 2 и 3-комнатных квартир."
   ]
  },
  {
   "cell_type": "code",
   "execution_count": 64,
   "metadata": {},
   "outputs": [
    {
     "data": {
      "text/plain": [
       "-0.4225492794377447"
      ]
     },
     "execution_count": 64,
     "metadata": {},
     "output_type": "execute_result"
    },
    {
     "data": {
      "image/png": "[encoded data removed]",
      "text/plain": [
       "<Figure size 864x432 with 1 Axes>"
      ]
     },
     "metadata": {
      "needs_background": "light"
     },
     "output_type": "display_data"
    }
   ],
   "source": [
    "# Перейдем к проверке зависимости цены от удаленности от центра\n",
    "# здесь же найдем коэффицент корреляции.\n",
    "\n",
    "filt_data.query('cityCenters_nearest < 100000').plot(x='cityCenters_nearest', y='last_price', style='o', \n",
    "            grid=True, kind='scatter', alpha=0.2, figsize=(12, 6))\n",
    "\n",
    "filt_data['cityCenters_nearest'].corr(filt_data['last_price'])"
   ]
  },
  {
   "cell_type": "markdown",
   "metadata": {},
   "source": [
    "В данном случае наблюдаем слабую отрицательную корреляцию. на графике видно, что чем дальше от центра тем меньше стоимость квартиры. Но здесь также может сыграть роль сама квартира - сколько комнат, наличие ремонта, первичное или вторичное жилье, транспортная доступность. Поэтому стопроцентно утверждать, что стоимость зависит от удаленности от центра, мы не будем. "
   ]
  },
  {
   "cell_type": "code",
   "execution_count": 65,
   "metadata": {},
   "outputs": [
    {
     "data": {
      "text/plain": [
       "<matplotlib.axes._subplots.AxesSubplot at 0x7f48bac51ed0>"
      ]
     },
     "execution_count": 65,
     "metadata": {},
     "output_type": "execute_result"
    },
    {
     "data": {
      "image/png": "[encoded data removed]",
      "text/plain": [
       "<Figure size 432x288 with 1 Axes>"
      ]
     },
     "metadata": {
      "needs_background": "light"
     },
     "output_type": "display_data"
    }
   ],
   "source": [
    "filt_data.query('cityCenters_nearest < 100000').boxplot('cityCenters_nearest')"
   ]
  },
  {
   "cell_type": "markdown",
   "metadata": {},
   "source": [
    "#### Зависимость стоимости квартиры от этажа"
   ]
  },
  {
   "cell_type": "code",
   "execution_count": 66,
   "metadata": {},
   "outputs": [
    {
     "name": "stderr",
     "output_type": "stream",
     "text": [
      "/opt/conda/lib/python3.7/site-packages/numpy/core/_asarray.py:83: VisibleDeprecationWarning: Creating an ndarray from ragged nested sequences (which is a list-or-tuple of lists-or-tuples-or ndarrays with different lengths or shapes) is deprecated. If you meant to do this, you must specify 'dtype=object' when creating the ndarray\n",
      "  return array(a, dtype, copy=False, order=order)\n"
     ]
    },
    {
     "data": {
      "text/plain": [
       "<matplotlib.axes._subplots.AxesSubplot at 0x7f48bac2ba90>"
      ]
     },
     "execution_count": 66,
     "metadata": {},
     "output_type": "execute_result"
    },
    {
     "data": {
      "image/png": "[encoded data removed]",
      "text/plain": [
       "<Figure size 432x288 with 1 Axes>"
      ]
     },
     "metadata": {
      "needs_background": "light"
     },
     "output_type": "display_data"
    }
   ],
   "source": [
    "filt_data2 = advert[['last_price', 'floor_type']]\n",
    "filt_data2.query('last_price < 4e7').boxplot('last_price', by='floor_type', )"
   ]
  },
  {
   "cell_type": "markdown",
   "metadata": {},
   "source": [
    "Самые доргие квартиры находятся на последнем этаже, но таких дорогих квартир очень мало, поэтому можно предположить, что они доорогие не только из-за этажа, но и по каким-либо другим причинам.\n",
    "\n",
    "В целом же видно, что квартиры на первом этаже все же немного, но дешевле, чем остальные."
   ]
  },
  {
   "cell_type": "markdown",
   "metadata": {},
   "source": [
    "#### Зависимость от даты размещения: дня недели, месяца и года."
   ]
  },
  {
   "cell_type": "code",
   "execution_count": 67,
   "metadata": {},
   "outputs": [
    {
     "data": {
      "text/plain": [
       "<matplotlib.axes._subplots.AxesSubplot at 0x7f48bab69f50>"
      ]
     },
     "execution_count": 67,
     "metadata": {},
     "output_type": "execute_result"
    },
    {
     "data": {
      "image/png": "[encoded data removed]",
      "text/plain": [
       "<Figure size 432x288 with 1 Axes>"
      ]
     },
     "metadata": {
      "needs_background": "light"
     },
     "output_type": "display_data"
    }
   ],
   "source": [
    "# Выведем средние и медианные значения стоимости квартир, \n",
    "# распределенные по месяцам размеения объявлений.\n",
    "\n",
    "ax = filt_data.pivot_table(index='month', values='last_price', aggfunc=(\n",
    "    'count', 'mean', 'median')).reset_index().sort_values('mean').plot(\n",
    "    x='month', y='mean', kind='scatter', style='-', color='orange')\n",
    "\n",
    "filt_data.pivot_table(index='month', values='last_price', aggfunc=(\n",
    "    'count', 'mean', 'median')).reset_index().sort_values('mean').plot(\n",
    "    x='month', y='median', kind='scatter', style='o', ax=ax, grid=True)"
   ]
  },
  {
   "cell_type": "code",
   "execution_count": 68,
   "metadata": {},
   "outputs": [
    {
     "name": "stderr",
     "output_type": "stream",
     "text": [
      "/opt/conda/lib/python3.7/site-packages/numpy/core/_asarray.py:83: VisibleDeprecationWarning: Creating an ndarray from ragged nested sequences (which is a list-or-tuple of lists-or-tuples-or ndarrays with different lengths or shapes) is deprecated. If you meant to do this, you must specify 'dtype=object' when creating the ndarray\n",
      "  return array(a, dtype, copy=False, order=order)\n",
      "/opt/conda/lib/python3.7/site-packages/numpy/core/_asarray.py:83: VisibleDeprecationWarning: Creating an ndarray from ragged nested sequences (which is a list-or-tuple of lists-or-tuples-or ndarrays with different lengths or shapes) is deprecated. If you meant to do this, you must specify 'dtype=object' when creating the ndarray\n",
      "  return array(a, dtype, copy=False, order=order)\n",
      "/opt/conda/lib/python3.7/site-packages/numpy/core/_asarray.py:83: VisibleDeprecationWarning: Creating an ndarray from ragged nested sequences (which is a list-or-tuple of lists-or-tuples-or ndarrays with different lengths or shapes) is deprecated. If you meant to do this, you must specify 'dtype=object' when creating the ndarray\n",
      "  return array(a, dtype, copy=False, order=order)\n"
     ]
    },
    {
     "data": {
      "image/png": "[encoded data removed]",
      "text/plain": [
       "<Figure size 864x432 with 1 Axes>"
      ]
     },
     "metadata": {
      "needs_background": "light"
     },
     "output_type": "display_data"
    },
    {
     "data": {
      "image/png": "[encoded data removed]",
      "text/plain": [
       "<Figure size 864x432 with 1 Axes>"
      ]
     },
     "metadata": {
      "needs_background": "light"
     },
     "output_type": "display_data"
    },
    {
     "data": {
      "image/png": "[encoded data removed]",
      "text/plain": [
       "<Figure size 864x432 with 1 Axes>"
      ]
     },
     "metadata": {
      "needs_background": "light"
     },
     "output_type": "display_data"
    }
   ],
   "source": [
    "for column in ['weekday', 'month', 'year']:\n",
    "    filt_data.query('last_price < 4e7').boxplot(\n",
    "    'last_price', by=column, figsize=(12, 6))\n",
    "    plt.ylim(-500, 4e7)"
   ]
  },
  {
   "cell_type": "markdown",
   "metadata": {},
   "source": [
    "Итак посмотрим на графики зависимости.\n",
    "##### День недели\n",
    "Сильно сомневаюсь, что есть какая-либо зависимость цены от даты размещения, но посмотрим данные. В выходные выкладывали гораздо меньше дорогих вариантов, а в  понедельник и честверг выкладивались квартиры всех ценовых категорий. В целом же сильной разницы в остальных днях не заметно.\n",
    "\n",
    "##### Месяц\n",
    "Если мы говорим о стоимости квартир, то в октябре и в мае было меньше дорогих вариантов по сравнению с остальными месяцами. В целом во все месяцы квартиры распределены по стоимости более или менее одинаково, поэтому говорить о сильной зависимости от месяца размещения кажется неправдоподобным. Но если же посмотреть на средние и медианные значения на графиках выше, то увидим большое различие в медианных и средних значениях стоимости по месяцам. Но видно, что дешевле варианты были в июне, а дороже в апреле. Высокие показатели среднего по декабрю и сентябрю скорее всего появилимь из-за больших выбросов, поэтому берем апрель.\n",
    "\n",
    "##### Год\n",
    "Здесь мы видим, что медиана цен квартир в 2014 году была заметно выше, чем в другие года, очень интересное наблюдение, с учетом того, что курс доллара был значительно ниже, чем после 2014. Дальше медина цен на квартиры начали снижаться, а 2019 год вышел на отметку меданы, как в 2015 году. В 2017 чуть больше дорогих квартир, чем в остальные года."
   ]
  },
  {
   "cell_type": "markdown",
   "metadata": {},
   "source": [
    "### 10 населённых пунктов с наибольшим числом объявлений. <a id=step7></a>\n",
    "Посчитаем среднюю цену квадратного метра в этих населённых пунктах. Выделим населённые пункты с самой высокой и низкой стоимостью жилья. Эти данные можно найти по имени в столбце 'locality_name'."
   ]
  },
  {
   "cell_type": "code",
   "execution_count": 70,
   "metadata": {},
   "outputs": [
    {
     "data": {
      "text/plain": [
       "(18487, 20)"
      ]
     },
     "execution_count": 70,
     "metadata": {},
     "output_type": "execute_result"
    }
   ],
   "source": [
    "# Создаем датафрейм, где мы остальвяет только те строки, \n",
    "# где указан один из 10 населенных пунктов с наиболшим числом объявлений.\n",
    "\n",
    "locality_name_top_10 = filt_data['locality_name'].value_counts().head(10).index\n",
    "data_top_10 = filt_data.query('locality_name in @locality_name_top_10')\n",
    "data_top_10.shape"
   ]
  },
  {
   "cell_type": "code",
   "execution_count": 71,
   "metadata": {},
   "outputs": [
    {
     "data": {
      "text/html": [
       "<div>\n",
       "<style scoped>\n",
       "    .dataframe tbody tr th:only-of-type {\n",
       "        vertical-align: middle;\n",
       "    }\n",
       "\n",
       "    .dataframe tbody tr th {\n",
       "        vertical-align: top;\n",
       "    }\n",
       "\n",
       "    .dataframe thead th {\n",
       "        text-align: right;\n",
       "    }\n",
       "</style>\n",
       "<table border=\"1\" class=\"dataframe\">\n",
       "  <thead>\n",
       "    <tr style=\"text-align: right;\">\n",
       "      <th></th>\n",
       "      <th>sq_meter_price</th>\n",
       "    </tr>\n",
       "    <tr>\n",
       "      <th>locality_name</th>\n",
       "      <th></th>\n",
       "    </tr>\n",
       "  </thead>\n",
       "  <tbody>\n",
       "    <tr>\n",
       "      <td>Выборг</td>\n",
       "      <td>58180.714024</td>\n",
       "    </tr>\n",
       "    <tr>\n",
       "      <td>Всеволожск</td>\n",
       "      <td>68703.119751</td>\n",
       "    </tr>\n",
       "    <tr>\n",
       "      <td>Гатчина</td>\n",
       "      <td>68727.953785</td>\n",
       "    </tr>\n",
       "    <tr>\n",
       "      <td>Колпино</td>\n",
       "      <td>75333.295801</td>\n",
       "    </tr>\n",
       "    <tr>\n",
       "      <td>поселок Шушары</td>\n",
       "      <td>78677.364217</td>\n",
       "    </tr>\n",
       "    <tr>\n",
       "      <td>Мурино</td>\n",
       "      <td>86087.512050</td>\n",
       "    </tr>\n",
       "    <tr>\n",
       "      <td>поселок Парголово</td>\n",
       "      <td>90332.263023</td>\n",
       "    </tr>\n",
       "    <tr>\n",
       "      <td>Кудрово</td>\n",
       "      <td>95324.930544</td>\n",
       "    </tr>\n",
       "    <tr>\n",
       "      <td>Пушкин</td>\n",
       "      <td>102943.877451</td>\n",
       "    </tr>\n",
       "    <tr>\n",
       "      <td>Санкт-Петербург</td>\n",
       "      <td>111233.385408</td>\n",
       "    </tr>\n",
       "  </tbody>\n",
       "</table>\n",
       "</div>"
      ],
      "text/plain": [
       "                   sq_meter_price\n",
       "locality_name                    \n",
       "Выборг               58180.714024\n",
       "Всеволожск           68703.119751\n",
       "Гатчина              68727.953785\n",
       "Колпино              75333.295801\n",
       "поселок Шушары       78677.364217\n",
       "Мурино               86087.512050\n",
       "поселок Парголово    90332.263023\n",
       "Кудрово              95324.930544\n",
       "Пушкин              102943.877451\n",
       "Санкт-Петербург     111233.385408"
      ]
     },
     "execution_count": 71,
     "metadata": {},
     "output_type": "execute_result"
    }
   ],
   "source": [
    "data_top_10.pivot_table(index='locality_name', values='sq_meter_price', \n",
    "                        aggfunc='mean').sort_values('sq_meter_price')"
   ]
  },
  {
   "cell_type": "markdown",
   "metadata": {},
   "source": [
    "Самая высокая стоимость квадратного метра в Санкт-Петербурге, а дешевле всего квадратный метр стоит в Выборге."
   ]
  },
  {
   "cell_type": "markdown",
   "metadata": {},
   "source": [
    "### Расстояние до центра. <a id=step8></a>\n",
    "Выделим квартиры в Санкт-Петербурге ('locality_name'). Наша задача — выяснить, какая область входит в центр. Создадим столбец с расстоянием до центра в километрах: округлим до целых значений. Далее посчитаем среднюю цену для каждого километра. Построим график - как цена зависит от удалённости от центра. Определим границу, где график сильно меняется — это и будет центральная зона."
   ]
  },
  {
   "cell_type": "code",
   "execution_count": 72,
   "metadata": {},
   "outputs": [
    {
     "data": {
      "text/html": [
       "<div>\n",
       "<style scoped>\n",
       "    .dataframe tbody tr th:only-of-type {\n",
       "        vertical-align: middle;\n",
       "    }\n",
       "\n",
       "    .dataframe tbody tr th {\n",
       "        vertical-align: top;\n",
       "    }\n",
       "\n",
       "    .dataframe thead th {\n",
       "        text-align: right;\n",
       "    }\n",
       "</style>\n",
       "<table border=\"1\" class=\"dataframe\">\n",
       "  <thead>\n",
       "    <tr style=\"text-align: right;\">\n",
       "      <th></th>\n",
       "      <th>last_price</th>\n",
       "      <th>total_area</th>\n",
       "      <th>living_area</th>\n",
       "      <th>kitchen_area</th>\n",
       "      <th>rooms</th>\n",
       "      <th>ceiling_height</th>\n",
       "      <th>floors_total</th>\n",
       "      <th>floor</th>\n",
       "      <th>locality_name</th>\n",
       "      <th>cityCenters_nearest</th>\n",
       "      <th>...</th>\n",
       "      <th>parks_nearest</th>\n",
       "      <th>ponds_around3000</th>\n",
       "      <th>ponds_nearest</th>\n",
       "      <th>days_exposition</th>\n",
       "      <th>sq_meter_price</th>\n",
       "      <th>floor_type</th>\n",
       "      <th>weekday</th>\n",
       "      <th>month</th>\n",
       "      <th>year</th>\n",
       "      <th>cityCenters_nearest_km</th>\n",
       "    </tr>\n",
       "  </thead>\n",
       "  <tbody>\n",
       "    <tr>\n",
       "      <td>21574</td>\n",
       "      <td>12300000.0</td>\n",
       "      <td>120.00</td>\n",
       "      <td>78.00</td>\n",
       "      <td>14.000000</td>\n",
       "      <td>4</td>\n",
       "      <td>3.10</td>\n",
       "      <td>4</td>\n",
       "      <td>4</td>\n",
       "      <td>Санкт-Петербург</td>\n",
       "      <td>772.0</td>\n",
       "      <td>...</td>\n",
       "      <td>605.0</td>\n",
       "      <td>2</td>\n",
       "      <td>110.0</td>\n",
       "      <td>257</td>\n",
       "      <td>102500.000000</td>\n",
       "      <td>последний</td>\n",
       "      <td>4</td>\n",
       "      <td>9</td>\n",
       "      <td>2018</td>\n",
       "      <td>0</td>\n",
       "    </tr>\n",
       "    <tr>\n",
       "      <td>3314</td>\n",
       "      <td>16550000.0</td>\n",
       "      <td>96.00</td>\n",
       "      <td>80.00</td>\n",
       "      <td>10.000000</td>\n",
       "      <td>6</td>\n",
       "      <td>2.60</td>\n",
       "      <td>5</td>\n",
       "      <td>3</td>\n",
       "      <td>Санкт-Петербург</td>\n",
       "      <td>700.0</td>\n",
       "      <td>...</td>\n",
       "      <td>546.0</td>\n",
       "      <td>3</td>\n",
       "      <td>183.0</td>\n",
       "      <td>108</td>\n",
       "      <td>172395.833333</td>\n",
       "      <td>другой</td>\n",
       "      <td>4</td>\n",
       "      <td>2</td>\n",
       "      <td>2018</td>\n",
       "      <td>0</td>\n",
       "    </tr>\n",
       "    <tr>\n",
       "      <td>20207</td>\n",
       "      <td>22400000.0</td>\n",
       "      <td>113.00</td>\n",
       "      <td>75.00</td>\n",
       "      <td>26.100000</td>\n",
       "      <td>3</td>\n",
       "      <td>3.06</td>\n",
       "      <td>4</td>\n",
       "      <td>1</td>\n",
       "      <td>Санкт-Петербург</td>\n",
       "      <td>649.0</td>\n",
       "      <td>...</td>\n",
       "      <td>1079.0</td>\n",
       "      <td>2</td>\n",
       "      <td>44.0</td>\n",
       "      <td>86</td>\n",
       "      <td>198230.088496</td>\n",
       "      <td>первый</td>\n",
       "      <td>2</td>\n",
       "      <td>8</td>\n",
       "      <td>2018</td>\n",
       "      <td>0</td>\n",
       "    </tr>\n",
       "    <tr>\n",
       "      <td>3800</td>\n",
       "      <td>6900000.0</td>\n",
       "      <td>47.60</td>\n",
       "      <td>28.20</td>\n",
       "      <td>8.200000</td>\n",
       "      <td>2</td>\n",
       "      <td>2.70</td>\n",
       "      <td>5</td>\n",
       "      <td>5</td>\n",
       "      <td>Санкт-Петербург</td>\n",
       "      <td>472.0</td>\n",
       "      <td>...</td>\n",
       "      <td>319.0</td>\n",
       "      <td>3</td>\n",
       "      <td>142.0</td>\n",
       "      <td>398</td>\n",
       "      <td>144957.983193</td>\n",
       "      <td>последний</td>\n",
       "      <td>2</td>\n",
       "      <td>7</td>\n",
       "      <td>2015</td>\n",
       "      <td>0</td>\n",
       "    </tr>\n",
       "    <tr>\n",
       "      <td>2478</td>\n",
       "      <td>4000000.0</td>\n",
       "      <td>39.00</td>\n",
       "      <td>25.90</td>\n",
       "      <td>5.400000</td>\n",
       "      <td>2</td>\n",
       "      <td>3.10</td>\n",
       "      <td>5</td>\n",
       "      <td>1</td>\n",
       "      <td>Санкт-Петербург</td>\n",
       "      <td>853.0</td>\n",
       "      <td>...</td>\n",
       "      <td>888.0</td>\n",
       "      <td>2</td>\n",
       "      <td>134.0</td>\n",
       "      <td>4</td>\n",
       "      <td>102564.102564</td>\n",
       "      <td>первый</td>\n",
       "      <td>3</td>\n",
       "      <td>2</td>\n",
       "      <td>2018</td>\n",
       "      <td>0</td>\n",
       "    </tr>\n",
       "    <tr>\n",
       "      <td>7467</td>\n",
       "      <td>14000000.0</td>\n",
       "      <td>105.10</td>\n",
       "      <td>61.00</td>\n",
       "      <td>14.000000</td>\n",
       "      <td>3</td>\n",
       "      <td>2.70</td>\n",
       "      <td>5</td>\n",
       "      <td>3</td>\n",
       "      <td>Санкт-Петербург</td>\n",
       "      <td>996.0</td>\n",
       "      <td>...</td>\n",
       "      <td>191.0</td>\n",
       "      <td>3</td>\n",
       "      <td>213.0</td>\n",
       "      <td>117</td>\n",
       "      <td>133206.470029</td>\n",
       "      <td>другой</td>\n",
       "      <td>3</td>\n",
       "      <td>6</td>\n",
       "      <td>2017</td>\n",
       "      <td>0</td>\n",
       "    </tr>\n",
       "    <tr>\n",
       "      <td>19694</td>\n",
       "      <td>24000000.0</td>\n",
       "      <td>132.50</td>\n",
       "      <td>NaN</td>\n",
       "      <td>0.496026</td>\n",
       "      <td>4</td>\n",
       "      <td>3.20</td>\n",
       "      <td>4</td>\n",
       "      <td>3</td>\n",
       "      <td>Санкт-Петербург</td>\n",
       "      <td>602.0</td>\n",
       "      <td>...</td>\n",
       "      <td>539.0</td>\n",
       "      <td>3</td>\n",
       "      <td>38.0</td>\n",
       "      <td>785</td>\n",
       "      <td>181132.075472</td>\n",
       "      <td>другой</td>\n",
       "      <td>2</td>\n",
       "      <td>10</td>\n",
       "      <td>2016</td>\n",
       "      <td>0</td>\n",
       "    </tr>\n",
       "    <tr>\n",
       "      <td>22531</td>\n",
       "      <td>8000000.0</td>\n",
       "      <td>72.70</td>\n",
       "      <td>40.50</td>\n",
       "      <td>12.000000</td>\n",
       "      <td>3</td>\n",
       "      <td>3.05</td>\n",
       "      <td>4</td>\n",
       "      <td>4</td>\n",
       "      <td>Санкт-Петербург</td>\n",
       "      <td>772.0</td>\n",
       "      <td>...</td>\n",
       "      <td>605.0</td>\n",
       "      <td>2</td>\n",
       "      <td>110.0</td>\n",
       "      <td>199</td>\n",
       "      <td>110041.265475</td>\n",
       "      <td>последний</td>\n",
       "      <td>4</td>\n",
       "      <td>2</td>\n",
       "      <td>2018</td>\n",
       "      <td>0</td>\n",
       "    </tr>\n",
       "    <tr>\n",
       "      <td>5014</td>\n",
       "      <td>15000000.0</td>\n",
       "      <td>70.00</td>\n",
       "      <td>48.00</td>\n",
       "      <td>9.000000</td>\n",
       "      <td>2</td>\n",
       "      <td>2.70</td>\n",
       "      <td>4</td>\n",
       "      <td>4</td>\n",
       "      <td>Санкт-Петербург</td>\n",
       "      <td>686.0</td>\n",
       "      <td>...</td>\n",
       "      <td>945.0</td>\n",
       "      <td>2</td>\n",
       "      <td>38.0</td>\n",
       "      <td>167</td>\n",
       "      <td>214285.714286</td>\n",
       "      <td>последний</td>\n",
       "      <td>2</td>\n",
       "      <td>1</td>\n",
       "      <td>2018</td>\n",
       "      <td>0</td>\n",
       "    </tr>\n",
       "    <tr>\n",
       "      <td>5195</td>\n",
       "      <td>9500000.0</td>\n",
       "      <td>60.28</td>\n",
       "      <td>39.18</td>\n",
       "      <td>8.000000</td>\n",
       "      <td>2</td>\n",
       "      <td>3.47</td>\n",
       "      <td>4</td>\n",
       "      <td>3</td>\n",
       "      <td>Санкт-Петербург</td>\n",
       "      <td>730.0</td>\n",
       "      <td>...</td>\n",
       "      <td>973.0</td>\n",
       "      <td>2</td>\n",
       "      <td>184.0</td>\n",
       "      <td>216</td>\n",
       "      <td>157597.876576</td>\n",
       "      <td>другой</td>\n",
       "      <td>2</td>\n",
       "      <td>9</td>\n",
       "      <td>2018</td>\n",
       "      <td>0</td>\n",
       "    </tr>\n",
       "  </tbody>\n",
       "</table>\n",
       "<p>10 rows × 21 columns</p>\n",
       "</div>"
      ],
      "text/plain": [
       "       last_price  total_area  living_area  kitchen_area  rooms  \\\n",
       "21574  12300000.0      120.00        78.00     14.000000      4   \n",
       "3314   16550000.0       96.00        80.00     10.000000      6   \n",
       "20207  22400000.0      113.00        75.00     26.100000      3   \n",
       "3800    6900000.0       47.60        28.20      8.200000      2   \n",
       "2478    4000000.0       39.00        25.90      5.400000      2   \n",
       "7467   14000000.0      105.10        61.00     14.000000      3   \n",
       "19694  24000000.0      132.50          NaN      0.496026      4   \n",
       "22531   8000000.0       72.70        40.50     12.000000      3   \n",
       "5014   15000000.0       70.00        48.00      9.000000      2   \n",
       "5195    9500000.0       60.28        39.18      8.000000      2   \n",
       "\n",
       "       ceiling_height  floors_total  floor    locality_name  \\\n",
       "21574            3.10             4      4  Санкт-Петербург   \n",
       "3314             2.60             5      3  Санкт-Петербург   \n",
       "20207            3.06             4      1  Санкт-Петербург   \n",
       "3800             2.70             5      5  Санкт-Петербург   \n",
       "2478             3.10             5      1  Санкт-Петербург   \n",
       "7467             2.70             5      3  Санкт-Петербург   \n",
       "19694            3.20             4      3  Санкт-Петербург   \n",
       "22531            3.05             4      4  Санкт-Петербург   \n",
       "5014             2.70             4      4  Санкт-Петербург   \n",
       "5195             3.47             4      3  Санкт-Петербург   \n",
       "\n",
       "       cityCenters_nearest  ...  parks_nearest  ponds_around3000  \\\n",
       "21574                772.0  ...          605.0                 2   \n",
       "3314                 700.0  ...          546.0                 3   \n",
       "20207                649.0  ...         1079.0                 2   \n",
       "3800                 472.0  ...          319.0                 3   \n",
       "2478                 853.0  ...          888.0                 2   \n",
       "7467                 996.0  ...          191.0                 3   \n",
       "19694                602.0  ...          539.0                 3   \n",
       "22531                772.0  ...          605.0                 2   \n",
       "5014                 686.0  ...          945.0                 2   \n",
       "5195                 730.0  ...          973.0                 2   \n",
       "\n",
       "       ponds_nearest  days_exposition  sq_meter_price  floor_type weekday  \\\n",
       "21574          110.0              257   102500.000000   последний       4   \n",
       "3314           183.0              108   172395.833333      другой       4   \n",
       "20207           44.0               86   198230.088496      первый       2   \n",
       "3800           142.0              398   144957.983193   последний       2   \n",
       "2478           134.0                4   102564.102564      первый       3   \n",
       "7467           213.0              117   133206.470029      другой       3   \n",
       "19694           38.0              785   181132.075472      другой       2   \n",
       "22531          110.0              199   110041.265475   последний       4   \n",
       "5014            38.0              167   214285.714286   последний       2   \n",
       "5195           184.0              216   157597.876576      другой       2   \n",
       "\n",
       "       month  year  cityCenters_nearest_km  \n",
       "21574      9  2018                       0  \n",
       "3314       2  2018                       0  \n",
       "20207      8  2018                       0  \n",
       "3800       7  2015                       0  \n",
       "2478       2  2018                       0  \n",
       "7467       6  2017                       0  \n",
       "19694     10  2016                       0  \n",
       "22531      2  2018                       0  \n",
       "5014       1  2018                       0  \n",
       "5195       9  2018                       0  \n",
       "\n",
       "[10 rows x 21 columns]"
      ]
     },
     "execution_count": 72,
     "metadata": {},
     "output_type": "execute_result"
    }
   ],
   "source": [
    "# Cтолбец с расстоянием до центра в километрах.\n",
    "# округлили до целых значений.\n",
    "\n",
    "filt_data['cityCenters_nearest_km'] = (filt_data['cityCenters_nearest'] / 1000).astype('int')\n",
    "data_spb = filt_data.query('locality_name == \"Санкт-Петербург\"')\n",
    "\n",
    "data_spb.sort_values('cityCenters_nearest_km').head(10)"
   ]
  },
  {
   "cell_type": "code",
   "execution_count": 73,
   "metadata": {},
   "outputs": [
    {
     "data": {
      "text/plain": [
       "<matplotlib.axes._subplots.AxesSubplot at 0x7f48badeb410>"
      ]
     },
     "execution_count": 73,
     "metadata": {},
     "output_type": "execute_result"
    },
    {
     "data": {
      "image/png": "[encoded data removed]",
      "text/plain": [
       "<Figure size 432x288 with 1 Axes>"
      ]
     },
     "metadata": {
      "needs_background": "light"
     },
     "output_type": "display_data"
    }
   ],
   "source": [
    "# Строим график для определения границы центральной части.\n",
    "\n",
    "data_spb.pivot_table(index='cityCenters_nearest_km', values='last_price', \n",
    "                     aggfunc='mean').reset_index().plot(kind='scatter', \n",
    "                            y='last_price', x='cityCenters_nearest_km', style='o-', grid=True)"
   ]
  },
  {
   "cell_type": "markdown",
   "metadata": {},
   "source": [
    "Судя по графику, резкий скачок в цене произошел между 9 и 10 колиметрами от центра, соответственно первые 9 км и буду являться центральной зоной."
   ]
  },
  {
   "cell_type": "markdown",
   "metadata": {},
   "source": [
    "### Выделение сегмента квартир в центре. <a id=step9></a>\n",
    "Проанализируем эту территорию и изучим следующие параметры: площадь, цена, число комнат, высота потолков. Также выделите факторы, которые влияют на стоимость квартиры (число комнат, этаж, удалённость от центра, дата размещения объявления). Отличаются ли они от общих выводов по всему городу?"
   ]
  },
  {
   "cell_type": "code",
   "execution_count": 75,
   "metadata": {},
   "outputs": [
    {
     "name": "stderr",
     "output_type": "stream",
     "text": [
      "/opt/conda/lib/python3.7/site-packages/ipykernel_launcher.py:9: SettingWithCopyWarning: \n",
      "A value is trying to be set on a copy of a slice from a DataFrame.\n",
      "Try using .loc[row_indexer,col_indexer] = value instead\n",
      "\n",
      "See the caveats in the documentation: http://pandas.pydata.org/pandas-docs/stable/user_guide/indexing.html#returning-a-view-versus-a-copy\n",
      "  if __name__ == '__main__':\n"
     ]
    },
    {
     "data": {
      "text/html": [
       "<div>\n",
       "<style scoped>\n",
       "    .dataframe tbody tr th:only-of-type {\n",
       "        vertical-align: middle;\n",
       "    }\n",
       "\n",
       "    .dataframe tbody tr th {\n",
       "        vertical-align: top;\n",
       "    }\n",
       "\n",
       "    .dataframe thead th {\n",
       "        text-align: right;\n",
       "    }\n",
       "</style>\n",
       "<table border=\"1\" class=\"dataframe\">\n",
       "  <thead>\n",
       "    <tr style=\"text-align: right;\">\n",
       "      <th></th>\n",
       "      <th>last_price</th>\n",
       "      <th>total_area</th>\n",
       "      <th>living_area</th>\n",
       "      <th>kitchen_area</th>\n",
       "      <th>rooms</th>\n",
       "      <th>ceiling_height</th>\n",
       "      <th>floors_total</th>\n",
       "      <th>floor</th>\n",
       "      <th>locality_name</th>\n",
       "      <th>cityCenters_nearest</th>\n",
       "      <th>...</th>\n",
       "      <th>ponds_around3000</th>\n",
       "      <th>ponds_nearest</th>\n",
       "      <th>days_exposition</th>\n",
       "      <th>sq_meter_price</th>\n",
       "      <th>floor_type</th>\n",
       "      <th>weekday</th>\n",
       "      <th>month</th>\n",
       "      <th>year</th>\n",
       "      <th>cityCenters_nearest_km</th>\n",
       "      <th>is_center</th>\n",
       "    </tr>\n",
       "  </thead>\n",
       "  <tbody>\n",
       "    <tr>\n",
       "      <td>0</td>\n",
       "      <td>13000000.0</td>\n",
       "      <td>108.0</td>\n",
       "      <td>51.0</td>\n",
       "      <td>25.0</td>\n",
       "      <td>3</td>\n",
       "      <td>2.70</td>\n",
       "      <td>16</td>\n",
       "      <td>8</td>\n",
       "      <td>Санкт-Петербург</td>\n",
       "      <td>16028.0</td>\n",
       "      <td>...</td>\n",
       "      <td>2</td>\n",
       "      <td>755.000000</td>\n",
       "      <td>205</td>\n",
       "      <td>120370.370370</td>\n",
       "      <td>другой</td>\n",
       "      <td>3</td>\n",
       "      <td>3</td>\n",
       "      <td>2019</td>\n",
       "      <td>16</td>\n",
       "      <td>нет</td>\n",
       "    </tr>\n",
       "    <tr>\n",
       "      <td>2</td>\n",
       "      <td>5196000.0</td>\n",
       "      <td>56.0</td>\n",
       "      <td>34.3</td>\n",
       "      <td>8.3</td>\n",
       "      <td>2</td>\n",
       "      <td>2.70</td>\n",
       "      <td>5</td>\n",
       "      <td>4</td>\n",
       "      <td>Санкт-Петербург</td>\n",
       "      <td>13933.0</td>\n",
       "      <td>...</td>\n",
       "      <td>2</td>\n",
       "      <td>574.000000</td>\n",
       "      <td>558</td>\n",
       "      <td>92785.714286</td>\n",
       "      <td>другой</td>\n",
       "      <td>3</td>\n",
       "      <td>8</td>\n",
       "      <td>2015</td>\n",
       "      <td>13</td>\n",
       "      <td>нет</td>\n",
       "    </tr>\n",
       "    <tr>\n",
       "      <td>4</td>\n",
       "      <td>10000000.0</td>\n",
       "      <td>100.0</td>\n",
       "      <td>32.0</td>\n",
       "      <td>41.0</td>\n",
       "      <td>2</td>\n",
       "      <td>3.03</td>\n",
       "      <td>14</td>\n",
       "      <td>13</td>\n",
       "      <td>Санкт-Петербург</td>\n",
       "      <td>8098.0</td>\n",
       "      <td>...</td>\n",
       "      <td>1</td>\n",
       "      <td>48.000000</td>\n",
       "      <td>121</td>\n",
       "      <td>100000.000000</td>\n",
       "      <td>другой</td>\n",
       "      <td>1</td>\n",
       "      <td>6</td>\n",
       "      <td>2018</td>\n",
       "      <td>8</td>\n",
       "      <td>да</td>\n",
       "    </tr>\n",
       "    <tr>\n",
       "      <td>7</td>\n",
       "      <td>7915000.0</td>\n",
       "      <td>71.6</td>\n",
       "      <td>NaN</td>\n",
       "      <td>18.9</td>\n",
       "      <td>2</td>\n",
       "      <td>2.70</td>\n",
       "      <td>24</td>\n",
       "      <td>22</td>\n",
       "      <td>Санкт-Петербург</td>\n",
       "      <td>11634.0</td>\n",
       "      <td>...</td>\n",
       "      <td>0</td>\n",
       "      <td>520.213955</td>\n",
       "      <td>170</td>\n",
       "      <td>110544.692737</td>\n",
       "      <td>другой</td>\n",
       "      <td>3</td>\n",
       "      <td>4</td>\n",
       "      <td>2019</td>\n",
       "      <td>11</td>\n",
       "      <td>нет</td>\n",
       "    </tr>\n",
       "    <tr>\n",
       "      <td>9</td>\n",
       "      <td>5400000.0</td>\n",
       "      <td>61.0</td>\n",
       "      <td>43.6</td>\n",
       "      <td>6.5</td>\n",
       "      <td>3</td>\n",
       "      <td>2.50</td>\n",
       "      <td>9</td>\n",
       "      <td>7</td>\n",
       "      <td>Санкт-Петербург</td>\n",
       "      <td>15008.0</td>\n",
       "      <td>...</td>\n",
       "      <td>0</td>\n",
       "      <td>520.213955</td>\n",
       "      <td>289</td>\n",
       "      <td>88524.590164</td>\n",
       "      <td>другой</td>\n",
       "      <td>6</td>\n",
       "      <td>2</td>\n",
       "      <td>2017</td>\n",
       "      <td>15</td>\n",
       "      <td>нет</td>\n",
       "    </tr>\n",
       "  </tbody>\n",
       "</table>\n",
       "<p>5 rows × 22 columns</p>\n",
       "</div>"
      ],
      "text/plain": [
       "   last_price  total_area  living_area  kitchen_area  rooms  ceiling_height  \\\n",
       "0  13000000.0       108.0         51.0          25.0      3            2.70   \n",
       "2   5196000.0        56.0         34.3           8.3      2            2.70   \n",
       "4  10000000.0       100.0         32.0          41.0      2            3.03   \n",
       "7   7915000.0        71.6          NaN          18.9      2            2.70   \n",
       "9   5400000.0        61.0         43.6           6.5      3            2.50   \n",
       "\n",
       "   floors_total  floor    locality_name  cityCenters_nearest  ...  \\\n",
       "0            16      8  Санкт-Петербург              16028.0  ...   \n",
       "2             5      4  Санкт-Петербург              13933.0  ...   \n",
       "4            14     13  Санкт-Петербург               8098.0  ...   \n",
       "7            24     22  Санкт-Петербург              11634.0  ...   \n",
       "9             9      7  Санкт-Петербург              15008.0  ...   \n",
       "\n",
       "   ponds_around3000  ponds_nearest  days_exposition  sq_meter_price  \\\n",
       "0                 2     755.000000              205   120370.370370   \n",
       "2                 2     574.000000              558    92785.714286   \n",
       "4                 1      48.000000              121   100000.000000   \n",
       "7                 0     520.213955              170   110544.692737   \n",
       "9                 0     520.213955              289    88524.590164   \n",
       "\n",
       "   floor_type  weekday month  year  cityCenters_nearest_km  is_center  \n",
       "0      другой        3     3  2019                      16        нет  \n",
       "2      другой        3     8  2015                      13        нет  \n",
       "4      другой        1     6  2018                       8         да  \n",
       "7      другой        3     4  2019                      11        нет  \n",
       "9      другой        6     2  2017                      15        нет  \n",
       "\n",
       "[5 rows x 22 columns]"
      ]
     },
     "execution_count": 75,
     "metadata": {},
     "output_type": "execute_result"
    }
   ],
   "source": [
    "# Создадим отдельный столбец булевого типа, который говорит нам,\n",
    "# находится ли квартира в центральной части говора или нет.\n",
    "\n",
    "def center_classification(row):\n",
    "    if row['cityCenters_nearest_km'] < 9:\n",
    "        return 'да'\n",
    "    return 'нет'\n",
    "\n",
    "data_spb['is_center'] = data_spb.apply(center_classification, axis=1)\n",
    "\n",
    "data_spb.head()"
   ]
  },
  {
   "cell_type": "code",
   "execution_count": 76,
   "metadata": {
    "scrolled": false
   },
   "outputs": [
    {
     "data": {
      "image/png": "[encoded data removed]",
      "text/plain": [
       "<Figure size 432x288 with 1 Axes>"
      ]
     },
     "metadata": {
      "needs_background": "light"
     },
     "output_type": "display_data"
    },
    {
     "data": {
      "image/png": "[encoded data removed]",
      "text/plain": [
       "<Figure size 432x288 with 1 Axes>"
      ]
     },
     "metadata": {
      "needs_background": "light"
     },
     "output_type": "display_data"
    },
    {
     "data": {
      "image/png": "[encoded data removed]",
      "text/plain": [
       "<Figure size 432x288 with 1 Axes>"
      ]
     },
     "metadata": {
      "needs_background": "light"
     },
     "output_type": "display_data"
    }
   ],
   "source": [
    "# Строим гистограммы для параметров: \n",
    "# площадь, цена, число комнат, высота потолков.\n",
    "\n",
    "for column in ['last_price', 'total_area', 'rooms']:\n",
    "    data_spb.query('is_center == \"да\"').hist(column, bins=100)\n",
    "    "
   ]
  },
  {
   "cell_type": "code",
   "execution_count": 77,
   "metadata": {},
   "outputs": [
    {
     "data": {
      "text/plain": [
       "<matplotlib.axes._subplots.AxesSubplot at 0x7f48ba9b8c10>"
      ]
     },
     "execution_count": 77,
     "metadata": {},
     "output_type": "execute_result"
    },
    {
     "data": {
      "image/png": "[encoded data removed]",
      "text/plain": [
       "<Figure size 432x288 with 1 Axes>"
      ]
     },
     "metadata": {
      "needs_background": "light"
     },
     "output_type": "display_data"
    }
   ],
   "source": [
    "data_spb.query('is_center == \"да\"').boxplot('rooms')"
   ]
  },
  {
   "cell_type": "code",
   "execution_count": 78,
   "metadata": {},
   "outputs": [
    {
     "data": {
      "text/plain": [
       "<matplotlib.axes._subplots.AxesSubplot at 0x7f48ba5aa150>"
      ]
     },
     "execution_count": 78,
     "metadata": {},
     "output_type": "execute_result"
    },
    {
     "data": {
      "image/png": "[encoded data removed]",
      "text/plain": [
       "<Figure size 432x288 with 1 Axes>"
      ]
     },
     "metadata": {
      "needs_background": "light"
     },
     "output_type": "display_data"
    }
   ],
   "source": [
    "data_spb.query('is_center == \"да\"').boxplot('total_area')"
   ]
  },
  {
   "cell_type": "code",
   "execution_count": 79,
   "metadata": {},
   "outputs": [
    {
     "data": {
      "text/plain": [
       "<matplotlib.axes._subplots.AxesSubplot at 0x7f48ba71ba50>"
      ]
     },
     "execution_count": 79,
     "metadata": {},
     "output_type": "execute_result"
    },
    {
     "data": {
      "image/png": "[encoded data removed]",
      "text/plain": [
       "<Figure size 432x288 with 1 Axes>"
      ]
     },
     "metadata": {
      "needs_background": "light"
     },
     "output_type": "display_data"
    }
   ],
   "source": [
    "data_spb.query('is_center == \"да\"').boxplot('last_price')"
   ]
  },
  {
   "cell_type": "markdown",
   "metadata": {},
   "source": [
    "- Цена. В сравнении с стоимость по всем населенным пунктам видно, что в центре Питера большая часть квартир лежит в ценовом диапазоне от 4 до 10 млн. Если же рассматривать все населеднные пункты, то основная масса располагалась в диапазоне между 2.5 и 5.5 млн.\n",
    "- Площадь. Если при рассмотрении по всем нас. пунктам показатель 140 был крайним выбросом, который мы оставили, то для центра Питера это значение Q3.\n",
    "- Кол-во комнат. В центре питера преобладают объявления с 2-комнатными квартирами, далее идут 3-комнатные и только потом уже однушки. По всем нас. пунктам же картина иная - больше всего однушек, дальше двушки и на третьем месте 3-комнатные."
   ]
  },
  {
   "cell_type": "code",
   "execution_count": 80,
   "metadata": {
    "scrolled": true
   },
   "outputs": [
    {
     "data": {
      "text/plain": [
       "array([[<matplotlib.axes._subplots.AxesSubplot object at 0x7f48ba9c1210>]],\n",
       "      dtype=object)"
      ]
     },
     "execution_count": 80,
     "metadata": {},
     "output_type": "execute_result"
    },
    {
     "data": {
      "image/png": "[encoded data removed]",
      "text/plain": [
       "<Figure size 432x288 with 1 Axes>"
      ]
     },
     "metadata": {
      "needs_background": "light"
     },
     "output_type": "display_data"
    }
   ],
   "source": [
    "# Высота потолков отдельно, потому что для него нужен был доп/ параметр range.\n",
    "\n",
    "data_spb.query('is_center == \"да\"').hist(\n",
    "    'ceiling_height', bins=100, range=(0, 5))"
   ]
  },
  {
   "cell_type": "code",
   "execution_count": 81,
   "metadata": {},
   "outputs": [
    {
     "data": {
      "text/plain": [
       "<matplotlib.axes._subplots.AxesSubplot at 0x7f48bc9dc210>"
      ]
     },
     "execution_count": 81,
     "metadata": {},
     "output_type": "execute_result"
    },
    {
     "data": {
      "image/png": "[encoded data removed]",
      "text/plain": [
       "<Figure size 432x288 with 1 Axes>"
      ]
     },
     "metadata": {
      "needs_background": "light"
     },
     "output_type": "display_data"
    }
   ],
   "source": [
    "data_spb.query('is_center == \"да\" and ceiling_height < 4').boxplot('ceiling_height')"
   ]
  },
  {
   "cell_type": "markdown",
   "metadata": {},
   "source": [
    "Медиана высоты потолков изменилась, но не столь заметно. Однако распределение квартилей заметно изменилось, теперь Q3 = 3м, в графике по всем нас. пунктам он был примерно 2.4."
   ]
  },
  {
   "cell_type": "code",
   "execution_count": 82,
   "metadata": {},
   "outputs": [
    {
     "data": {
      "text/plain": [
       "<matplotlib.axes._subplots.AxesSubplot at 0x7f48bd0553d0>"
      ]
     },
     "execution_count": 82,
     "metadata": {},
     "output_type": "execute_result"
    },
    {
     "data": {
      "image/png": "[encoded data removed]",
      "text/plain": [
       "<Figure size 792x432 with 1 Axes>"
      ]
     },
     "metadata": {
      "needs_background": "light"
     },
     "output_type": "display_data"
    }
   ],
   "source": [
    "# Посмотрим стоимость квадратного метра в зависимости от километра от центральной зоны.\n",
    "\n",
    "(data_spb.query('is_center == \"да\"')\n",
    "     .pivot_table(index = 'cityCenters_nearest_km',\n",
    "                values = 'sq_meter_price',\n",
    "                aggfunc = 'mean')\n",
    "     .plot(kind = 'bar', figsize = (11,6), grid=True))"
   ]
  },
  {
   "cell_type": "markdown",
   "metadata": {},
   "source": [
    "Построим столбчатые диаграммы по следующим параметрам: (число комнат, этаж, удалённость от центра, дата размещения объявления. На одном графике будут параметры для центральной зоны Петербурга и для всего города."
   ]
  },
  {
   "cell_type": "code",
   "execution_count": 84,
   "metadata": {
    "scrolled": false
   },
   "outputs": [
    {
     "data": {
      "image/png": "[encoded data removed]",
      "text/plain": [
       "<Figure size 792x432 with 1 Axes>"
      ]
     },
     "metadata": {
      "needs_background": "light"
     },
     "output_type": "display_data"
    },
    {
     "data": {
      "image/png": "[encoded data removed]",
      "text/plain": [
       "<Figure size 792x432 with 1 Axes>"
      ]
     },
     "metadata": {
      "needs_background": "light"
     },
     "output_type": "display_data"
    },
    {
     "data": {
      "image/png": "[encoded data removed]",
      "text/plain": [
       "<Figure size 792x432 with 1 Axes>"
      ]
     },
     "metadata": {
      "needs_background": "light"
     },
     "output_type": "display_data"
    },
    {
     "data": {
      "image/png": "[encoded data removed]",
      "text/plain": [
       "<Figure size 792x432 with 1 Axes>"
      ]
     },
     "metadata": {
      "needs_background": "light"
     },
     "output_type": "display_data"
    },
    {
     "data": {
      "image/png": "[encoded data removed]",
      "text/plain": [
       "<Figure size 792x432 with 1 Axes>"
      ]
     },
     "metadata": {
      "needs_background": "light"
     },
     "output_type": "display_data"
    },
    {
     "data": {
      "image/png": "[encoded data removed]",
      "text/plain": [
       "<Figure size 792x432 with 1 Axes>"
      ]
     },
     "metadata": {
      "needs_background": "light"
     },
     "output_type": "display_data"
    }
   ],
   "source": [
    "for column in ['rooms', 'floor_type', 'cityCenters_nearest_km', 'weekday', 'month', 'year']:\n",
    "    (data_spb.query('last_price < 4e7')\n",
    "     .pivot_table(index = column,\n",
    "                columns = 'is_center',\n",
    "                values = 'last_price',\n",
    "                aggfunc = 'mean')\n",
    "     .plot(kind = 'bar', figsize = (11,6), grid=True))"
   ]
  },
  {
   "cell_type": "markdown",
   "metadata": {},
   "source": [
    "##### Количество комнат\n",
    "Очевидно, что квартиры в центре на порядок дороже (сравниваем по средним), и это справедливо абсолютно для всех выведенных выше графиков. Видим, что только в центральной зоне есть семикомнатная квартира. Соответственно, чем больше комнат, тем выше стоимость квартиры, это относится и к центру, и ко всему Петербургу.\n",
    "##### Этаж\n",
    "В центре разница в стоимости между квартирами на разных этажах гораздо больше, чем центре. Если для всего Питера верно, что разница между первым и другим примерно 800 000, в центре Питера между этими же этажами разница примерно 1,5 млн.\n",
    "##### Удаленность от центра\n",
    "На 20 и 27 км от центра Санкт_Петербурга, видимо, есть дорогие квартиры, которые создали очевидные выбивающиеся значения. В целом же ценовая политика в центре очень схожа с политикой по всему городу.\n",
    "##### День размещения объявления\n",
    "В понедельник, среду и воскресенье выкладывались чуть более дорогие варианты квартир по центру Петербурга, по сравнению с остальными днями. В эти же дни по всему городу были наоборот более низкие цены. Зато во вторник и субботу варианты центру были низкими, а во всем Питере это были самые самые дорогие из всех дней. Но не будем сильно радоваться, разница не настолько уж велика, чтобы возгалать на нее большие надежды.\n",
    "##### Месяц размещения объявления\n",
    "Очень интересный декабрь. По сравнению во всеми остальными месяцами выставлялись сравнительно недорогие квартиры в центре, но при этом в декабре же средняя цена квартир по всему городу была выше, чем в остальные месяца. Остальные месяцы, к сожалению, не настолько примечательны.\n",
    "##### Год размещения объявления\n",
    "Ничего нового в зависимости от года размещения не выявилось, стоимость квартир в 2014 также самая высокая, по сравнению с остальными годами, 2019 все также чуть дороже, чем 2015-2018, но сильно дешевле 2014 года."
   ]
  },
  {
   "cell_type": "code",
   "execution_count": 1,
   "metadata": {},
   "outputs": [
    {
     "data": {
      "text/plain": [
       "{'floor': [20, (1, 20)], 'last_price': [50, (0, 15000000)]}"
      ]
     },
     "execution_count": 1,
     "metadata": {},
     "output_type": "execute_result"
    }
   ],
   "source": [
    "dict_for_hist = {'floor' : [20, (1,20)],\n",
    "                 'last_price' : [50, (0, 15000000)]}\n",
    "dict_for_hist"
   ]
  },
  {
   "cell_type": "markdown",
   "metadata": {},
   "source": [
    "### Шаг 6. Общий вывод. <a id=step10></a>"
   ]
  },
  {
   "cell_type": "markdown",
   "metadata": {},
   "source": [
    "Итак, мы проверили зависимости цены от большого количества параметров и пришли к следующим выводам.\n",
    "\n",
    "\n",
    "- На стоимость квартиры точно не влияет день и месяц размещения, однако видна была сильная разница в стоимости в зависимости от года размещения - средняя стоимость выше всех была в 2014 году, самая низкая - в 2017.\n",
    "- Сильное влияние оказывает площадь самой квартиры: чем больше площадь, тем выше стоимость.\n",
    "- Но при этом не всегда количество комнат сказывается на стоимости, так как это скорее будет зависеть от площади целиком. На графиках мы видели, что квартиры с 0 комнат имет начальную цену как 4-комнатные квартиры.\n",
    "- Также важным параметром стала удаленность от центра. Было ясно видно, что стоимость сильно колеблется от того, где находится квартира.\n",
    "- Мы также разпределили этажи на \"первый\", \"последний\" и \"другой\". Судя по графикам, первый этаж пользуется не таким уж большим спросом, поэтому и цены на него чуть ниже, чем цены на квартиры в \"последнем\" или \"другом\" этажах.\n",
    "- Стоимость квадратного метра тоже является значимым параметром, но сам он в то же время зависит от свего географического положения. Однако в пределах центральных 9 км мы видим, что стоимость м2 идет не по убыванию километров. В этом случае можем предположить, что сами квартиры на более далеких центральных километрах обустроены гораздо лучше, нежели более близкие."
   ]
  }
 ],
 "metadata": {
  "kernelspec": {
   "display_name": "Python 3",
   "language": "python",
   "name": "python3"
  },
  "language_info": {
   "codemirror_mode": {
    "name": "ipython",
    "version": 3
   },
   "file_extension": ".py",
   "mimetype": "text/x-python",
   "name": "python",
   "nbconvert_exporter": "python",
   "pygments_lexer": "ipython3",
   "version": "3.7.6"
  }
 },
 "nbformat": 4,
 "nbformat_minor": 2
}
